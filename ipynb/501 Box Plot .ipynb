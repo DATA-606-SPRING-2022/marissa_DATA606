{
 "cells": [
  {
   "cell_type": "markdown",
   "metadata": {},
   "source": [
    "# DATA 606 Capstone\n",
    "## Marissa Tan\n",
    "### Impact of COVID-19 on the US Housing Market\n",
    "__Real Estate and Density Dataset__\n",
    "- Correlation Matrix\n",
    "- Split data to 2019 and 2021\n",
    "- Price Ratio Comparison 2019 and 2021\n",
    "- Cleansed box plot of outliers 2019 and 2021"
   ]
  },
  {
   "cell_type": "code",
   "execution_count": 31,
   "metadata": {},
   "outputs": [],
   "source": [
    "import pandas as pd\n",
    "import numpy as np\n",
    "import plotly.express as px\n",
    "import matplotlib.pyplot as plt\n",
    "import seaborn as sns\n",
    "import matplotlib\n",
    "import missingno as msno\n",
    "\n",
    "%matplotlib inline"
   ]
  },
  {
   "cell_type": "markdown",
   "metadata": {},
   "source": [
    "# 1. Merged Density and Real Estate CSV\n",
    "## 1.1 Read the Real Estate and Density CSV\n",
    "Acknowledgement Maede Maftouni of Kaggle. Link as follow https://www.kaggle.com/maedemaftouni/us-real-estate-market-trends-visualization"
   ]
  },
  {
   "cell_type": "code",
   "execution_count": 2,
   "metadata": {},
   "outputs": [
    {
     "data": {
      "text/html": [
       "<div>\n",
       "<style scoped>\n",
       "    .dataframe tbody tr th:only-of-type {\n",
       "        vertical-align: middle;\n",
       "    }\n",
       "\n",
       "    .dataframe tbody tr th {\n",
       "        vertical-align: top;\n",
       "    }\n",
       "\n",
       "    .dataframe thead th {\n",
       "        text-align: right;\n",
       "    }\n",
       "</style>\n",
       "<table border=\"1\" class=\"dataframe\">\n",
       "  <thead>\n",
       "    <tr style=\"text-align: right;\">\n",
       "      <th></th>\n",
       "      <th>FIPS</th>\n",
       "      <th>year</th>\n",
       "      <th>month</th>\n",
       "      <th>county</th>\n",
       "      <th>state</th>\n",
       "      <th>date</th>\n",
       "      <th>density</th>\n",
       "      <th>active_listing_count</th>\n",
       "      <th>average_listing_price</th>\n",
       "      <th>average_listing_price_mm</th>\n",
       "      <th>average_listing_price_yy</th>\n",
       "      <th>median_listing_price</th>\n",
       "      <th>median_listing_price_mm</th>\n",
       "      <th>median_listing_price_yy</th>\n",
       "      <th>median_listing_price_per_square_foot</th>\n",
       "      <th>median_square_feet</th>\n",
       "      <th>total_listing_count</th>\n",
       "    </tr>\n",
       "  </thead>\n",
       "  <tbody>\n",
       "    <tr>\n",
       "      <th>47701</th>\n",
       "      <td>17053</td>\n",
       "      <td>2021</td>\n",
       "      <td>3</td>\n",
       "      <td>Ford County</td>\n",
       "      <td>IL</td>\n",
       "      <td>2021-03-01</td>\n",
       "      <td>27</td>\n",
       "      <td>30.0</td>\n",
       "      <td>104516.0</td>\n",
       "      <td>0.0465</td>\n",
       "      <td>-0.0912</td>\n",
       "      <td>80000.0</td>\n",
       "      <td>0.1437</td>\n",
       "      <td>-0.0643</td>\n",
       "      <td>69.0</td>\n",
       "      <td>1194.0</td>\n",
       "      <td>50.0</td>\n",
       "    </tr>\n",
       "    <tr>\n",
       "      <th>70204</th>\n",
       "      <td>21135</td>\n",
       "      <td>2018</td>\n",
       "      <td>11</td>\n",
       "      <td>Lewis County</td>\n",
       "      <td>KY</td>\n",
       "      <td>2018-11-01</td>\n",
       "      <td>27</td>\n",
       "      <td>19.0</td>\n",
       "      <td>170507.0</td>\n",
       "      <td>-0.1514</td>\n",
       "      <td>0.0184</td>\n",
       "      <td>155000.0</td>\n",
       "      <td>-0.0252</td>\n",
       "      <td>0.6667</td>\n",
       "      <td>82.0</td>\n",
       "      <td>1749.0</td>\n",
       "      <td>24.0</td>\n",
       "    </tr>\n",
       "    <tr>\n",
       "      <th>2738</th>\n",
       "      <td>1035</td>\n",
       "      <td>2018</td>\n",
       "      <td>12</td>\n",
       "      <td>Conecuh County</td>\n",
       "      <td>AL</td>\n",
       "      <td>2018-12-01</td>\n",
       "      <td>13</td>\n",
       "      <td>31.0</td>\n",
       "      <td>170173.0</td>\n",
       "      <td>0.0500</td>\n",
       "      <td>0.0523</td>\n",
       "      <td>137900.0</td>\n",
       "      <td>0.0000</td>\n",
       "      <td>-0.0143</td>\n",
       "      <td>74.0</td>\n",
       "      <td>1653.0</td>\n",
       "      <td>31.0</td>\n",
       "    </tr>\n",
       "    <tr>\n",
       "      <th>80463</th>\n",
       "      <td>24045</td>\n",
       "      <td>2020</td>\n",
       "      <td>1</td>\n",
       "      <td>Wicomico County</td>\n",
       "      <td>MD</td>\n",
       "      <td>2020-01-01</td>\n",
       "      <td>276</td>\n",
       "      <td>282.0</td>\n",
       "      <td>255097.0</td>\n",
       "      <td>0.0043</td>\n",
       "      <td>0.1507</td>\n",
       "      <td>220750.0</td>\n",
       "      <td>0.0036</td>\n",
       "      <td>0.2271</td>\n",
       "      <td>115.0</td>\n",
       "      <td>1866.0</td>\n",
       "      <td>290.0</td>\n",
       "    </tr>\n",
       "    <tr>\n",
       "      <th>195252</th>\n",
       "      <td>53029</td>\n",
       "      <td>2020</td>\n",
       "      <td>12</td>\n",
       "      <td>Island County</td>\n",
       "      <td>WA</td>\n",
       "      <td>2020-12-01</td>\n",
       "      <td>416</td>\n",
       "      <td>79.0</td>\n",
       "      <td>882224.0</td>\n",
       "      <td>0.0228</td>\n",
       "      <td>0.3914</td>\n",
       "      <td>592475.0</td>\n",
       "      <td>0.0000</td>\n",
       "      <td>0.2345</td>\n",
       "      <td>300.0</td>\n",
       "      <td>1996.0</td>\n",
       "      <td>240.0</td>\n",
       "    </tr>\n",
       "  </tbody>\n",
       "</table>\n",
       "</div>"
      ],
      "text/plain": [
       "         FIPS  year  month           county state        date  density  \\\n",
       "47701   17053  2021      3      Ford County    IL  2021-03-01       27   \n",
       "70204   21135  2018     11     Lewis County    KY  2018-11-01       27   \n",
       "2738     1035  2018     12   Conecuh County    AL  2018-12-01       13   \n",
       "80463   24045  2020      1  Wicomico County    MD  2020-01-01      276   \n",
       "195252  53029  2020     12    Island County    WA  2020-12-01      416   \n",
       "\n",
       "        active_listing_count  average_listing_price  average_listing_price_mm  \\\n",
       "47701                   30.0               104516.0                    0.0465   \n",
       "70204                   19.0               170507.0                   -0.1514   \n",
       "2738                    31.0               170173.0                    0.0500   \n",
       "80463                  282.0               255097.0                    0.0043   \n",
       "195252                  79.0               882224.0                    0.0228   \n",
       "\n",
       "        average_listing_price_yy  median_listing_price  \\\n",
       "47701                    -0.0912               80000.0   \n",
       "70204                     0.0184              155000.0   \n",
       "2738                      0.0523              137900.0   \n",
       "80463                     0.1507              220750.0   \n",
       "195252                    0.3914              592475.0   \n",
       "\n",
       "        median_listing_price_mm  median_listing_price_yy  \\\n",
       "47701                    0.1437                  -0.0643   \n",
       "70204                   -0.0252                   0.6667   \n",
       "2738                     0.0000                  -0.0143   \n",
       "80463                    0.0036                   0.2271   \n",
       "195252                   0.0000                   0.2345   \n",
       "\n",
       "        median_listing_price_per_square_foot  median_square_feet  \\\n",
       "47701                                   69.0              1194.0   \n",
       "70204                                   82.0              1749.0   \n",
       "2738                                    74.0              1653.0   \n",
       "80463                                  115.0              1866.0   \n",
       "195252                                 300.0              1996.0   \n",
       "\n",
       "        total_listing_count  \n",
       "47701                  50.0  \n",
       "70204                  24.0  \n",
       "2738                   31.0  \n",
       "80463                 290.0  \n",
       "195252                240.0  "
      ]
     },
     "execution_count": 2,
     "metadata": {},
     "output_type": "execute_result"
    }
   ],
   "source": [
    "df = pd.read_csv('RE_density.csv', index_col=False)\n",
    "df.sample(5)"
   ]
  },
  {
   "cell_type": "code",
   "execution_count": 3,
   "metadata": {},
   "outputs": [
    {
     "data": {
      "text/plain": [
       "Index(['FIPS', 'year', 'month', 'county', 'state', 'date', 'density',\n",
       "       'active_listing_count', 'average_listing_price',\n",
       "       'average_listing_price_mm', 'average_listing_price_yy',\n",
       "       'median_listing_price', 'median_listing_price_mm',\n",
       "       'median_listing_price_yy', 'median_listing_price_per_square_foot',\n",
       "       'median_square_feet', 'total_listing_count'],\n",
       "      dtype='object')"
      ]
     },
     "execution_count": 3,
     "metadata": {},
     "output_type": "execute_result"
    }
   ],
   "source": [
    "df.columns"
   ]
  },
  {
   "cell_type": "markdown",
   "metadata": {},
   "source": [
    "## 1.2 Check Data Types"
   ]
  },
  {
   "cell_type": "code",
   "execution_count": 4,
   "metadata": {},
   "outputs": [
    {
     "name": "stdout",
     "output_type": "stream",
     "text": [
      "<class 'pandas.core.frame.DataFrame'>\n",
      "RangeIndex: 206924 entries, 0 to 206923\n",
      "Data columns (total 17 columns):\n",
      " #   Column                                Non-Null Count   Dtype  \n",
      "---  ------                                --------------   -----  \n",
      " 0   FIPS                                  206924 non-null  int64  \n",
      " 1   year                                  206924 non-null  int64  \n",
      " 2   month                                 206924 non-null  int64  \n",
      " 3   county                                206924 non-null  object \n",
      " 4   state                                 206924 non-null  object \n",
      " 5   date                                  206924 non-null  object \n",
      " 6   density                               206924 non-null  int64  \n",
      " 7   active_listing_count                  206924 non-null  float64\n",
      " 8   average_listing_price                 206924 non-null  float64\n",
      " 9   average_listing_price_mm              169923 non-null  float64\n",
      " 10  average_listing_price_yy              169155 non-null  float64\n",
      " 11  median_listing_price                  206924 non-null  float64\n",
      " 12  median_listing_price_mm               169923 non-null  float64\n",
      " 13  median_listing_price_yy               169155 non-null  float64\n",
      " 14  median_listing_price_per_square_foot  206924 non-null  float64\n",
      " 15  median_square_feet                    206924 non-null  float64\n",
      " 16  total_listing_count                   206924 non-null  float64\n",
      "dtypes: float64(10), int64(4), object(3)\n",
      "memory usage: 26.8+ MB\n"
     ]
    }
   ],
   "source": [
    "# This dataset will be used on some data exploration\n",
    "df.info()"
   ]
  },
  {
   "cell_type": "markdown",
   "metadata": {},
   "source": [
    "# 2. Data Exploration\n",
    "## 2.1 Price Ratio Comparison 2019 and 2021\n",
    "- pre-COVID (2019) and post-COVID (2020)\n",
    "- Price ratio will be derived from the average list price and median list price"
   ]
  },
  {
   "cell_type": "code",
   "execution_count": 5,
   "metadata": {},
   "outputs": [
    {
     "data": {
      "text/html": [
       "<div>\n",
       "<style scoped>\n",
       "    .dataframe tbody tr th:only-of-type {\n",
       "        vertical-align: middle;\n",
       "    }\n",
       "\n",
       "    .dataframe tbody tr th {\n",
       "        vertical-align: top;\n",
       "    }\n",
       "\n",
       "    .dataframe thead th {\n",
       "        text-align: right;\n",
       "    }\n",
       "</style>\n",
       "<table border=\"1\" class=\"dataframe\">\n",
       "  <thead>\n",
       "    <tr style=\"text-align: right;\">\n",
       "      <th></th>\n",
       "      <th>FIPS</th>\n",
       "      <th>year</th>\n",
       "      <th>month</th>\n",
       "      <th>county</th>\n",
       "      <th>state</th>\n",
       "      <th>date</th>\n",
       "      <th>density</th>\n",
       "      <th>active_listing_count</th>\n",
       "      <th>average_listing_price</th>\n",
       "      <th>average_listing_price_mm</th>\n",
       "      <th>average_listing_price_yy</th>\n",
       "      <th>median_listing_price</th>\n",
       "      <th>median_listing_price_mm</th>\n",
       "      <th>median_listing_price_yy</th>\n",
       "      <th>median_listing_price_per_square_foot</th>\n",
       "      <th>median_square_feet</th>\n",
       "      <th>total_listing_count</th>\n",
       "      <th>category</th>\n",
       "    </tr>\n",
       "  </thead>\n",
       "  <tbody>\n",
       "    <tr>\n",
       "      <th>103486</th>\n",
       "      <td>28085</td>\n",
       "      <td>2019</td>\n",
       "      <td>3</td>\n",
       "      <td>Lincoln County</td>\n",
       "      <td>MS</td>\n",
       "      <td>2019-03-01</td>\n",
       "      <td>59</td>\n",
       "      <td>111.0</td>\n",
       "      <td>235001.0</td>\n",
       "      <td>0.0083</td>\n",
       "      <td>0.2122</td>\n",
       "      <td>157286.0</td>\n",
       "      <td>-0.0170</td>\n",
       "      <td>0.0847</td>\n",
       "      <td>80.0</td>\n",
       "      <td>2007.0</td>\n",
       "      <td>113.0</td>\n",
       "      <td>Increase in prices</td>\n",
       "    </tr>\n",
       "    <tr>\n",
       "      <th>139209</th>\n",
       "      <td>39127</td>\n",
       "      <td>2018</td>\n",
       "      <td>2</td>\n",
       "      <td>Perry County</td>\n",
       "      <td>OH</td>\n",
       "      <td>2018-02-01</td>\n",
       "      <td>86</td>\n",
       "      <td>108.0</td>\n",
       "      <td>217358.0</td>\n",
       "      <td>0.0617</td>\n",
       "      <td>0.4171</td>\n",
       "      <td>134450.0</td>\n",
       "      <td>0.1256</td>\n",
       "      <td>0.1962</td>\n",
       "      <td>101.0</td>\n",
       "      <td>1692.0</td>\n",
       "      <td>137.0</td>\n",
       "      <td>Increase in prices</td>\n",
       "    </tr>\n",
       "    <tr>\n",
       "      <th>60145</th>\n",
       "      <td>20039</td>\n",
       "      <td>2017</td>\n",
       "      <td>10</td>\n",
       "      <td>Decatur County</td>\n",
       "      <td>KS</td>\n",
       "      <td>2017-10-01</td>\n",
       "      <td>3</td>\n",
       "      <td>6.0</td>\n",
       "      <td>148206.0</td>\n",
       "      <td>0.1054</td>\n",
       "      <td>-0.3799</td>\n",
       "      <td>144500.0</td>\n",
       "      <td>0.1796</td>\n",
       "      <td>-0.3954</td>\n",
       "      <td>91.0</td>\n",
       "      <td>1632.0</td>\n",
       "      <td>6.0</td>\n",
       "      <td>Down from last year</td>\n",
       "    </tr>\n",
       "    <tr>\n",
       "      <th>41574</th>\n",
       "      <td>19157</td>\n",
       "      <td>2017</td>\n",
       "      <td>6</td>\n",
       "      <td>Poweshiek County</td>\n",
       "      <td>IA</td>\n",
       "      <td>2017-06-01</td>\n",
       "      <td>31</td>\n",
       "      <td>195.0</td>\n",
       "      <td>180531.0</td>\n",
       "      <td>NaN</td>\n",
       "      <td>NaN</td>\n",
       "      <td>157000.0</td>\n",
       "      <td>NaN</td>\n",
       "      <td>NaN</td>\n",
       "      <td>118.0</td>\n",
       "      <td>1405.0</td>\n",
       "      <td>232.0</td>\n",
       "      <td>Increase in prices</td>\n",
       "    </tr>\n",
       "  </tbody>\n",
       "</table>\n",
       "</div>"
      ],
      "text/plain": [
       "         FIPS  year  month            county state        date  density  \\\n",
       "103486  28085  2019      3    Lincoln County    MS  2019-03-01       59   \n",
       "139209  39127  2018      2      Perry County    OH  2018-02-01       86   \n",
       "60145   20039  2017     10    Decatur County    KS  2017-10-01        3   \n",
       "41574   19157  2017      6  Poweshiek County    IA  2017-06-01       31   \n",
       "\n",
       "        active_listing_count  average_listing_price  average_listing_price_mm  \\\n",
       "103486                 111.0               235001.0                    0.0083   \n",
       "139209                 108.0               217358.0                    0.0617   \n",
       "60145                    6.0               148206.0                    0.1054   \n",
       "41574                  195.0               180531.0                       NaN   \n",
       "\n",
       "        average_listing_price_yy  median_listing_price  \\\n",
       "103486                    0.2122              157286.0   \n",
       "139209                    0.4171              134450.0   \n",
       "60145                    -0.3799              144500.0   \n",
       "41574                        NaN              157000.0   \n",
       "\n",
       "        median_listing_price_mm  median_listing_price_yy  \\\n",
       "103486                  -0.0170                   0.0847   \n",
       "139209                   0.1256                   0.1962   \n",
       "60145                    0.1796                  -0.3954   \n",
       "41574                       NaN                      NaN   \n",
       "\n",
       "        median_listing_price_per_square_foot  median_square_feet  \\\n",
       "103486                                  80.0              2007.0   \n",
       "139209                                 101.0              1692.0   \n",
       "60145                                   91.0              1632.0   \n",
       "41574                                  118.0              1405.0   \n",
       "\n",
       "        total_listing_count             category  \n",
       "103486                113.0   Increase in prices  \n",
       "139209                137.0   Increase in prices  \n",
       "60145                   6.0  Down from last year  \n",
       "41574                 232.0   Increase in prices  "
      ]
     },
     "execution_count": 5,
     "metadata": {},
     "output_type": "execute_result"
    }
   ],
   "source": [
    "filters = [\n",
    "    (df['average_listing_price_yy'] < 0) & (df['median_listing_price_yy'] < 0),\n",
    "    (df['average_listing_price_mm'] < 0) & (df['median_listing_price_mm'] < 0),\n",
    "]\n",
    "values= ['Down from last year', 'Down from last month']\n",
    "\n",
    "df['category'] = np.select(filters, values, default ='Increase in prices')\n",
    "df.sample(4)"
   ]
  },
  {
   "cell_type": "code",
   "execution_count": 6,
   "metadata": {},
   "outputs": [
    {
     "data": {
      "text/plain": [
       "array([2016, 2017, 2018, 2019, 2020, 2021, 2022], dtype=int64)"
      ]
     },
     "execution_count": 6,
     "metadata": {},
     "output_type": "execute_result"
    }
   ],
   "source": [
    "df['year'].unique()"
   ]
  },
  {
   "cell_type": "code",
   "execution_count": 7,
   "metadata": {},
   "outputs": [],
   "source": [
    "year = [2019, 2021]"
   ]
  },
  {
   "cell_type": "code",
   "execution_count": 8,
   "metadata": {},
   "outputs": [
    {
     "name": "stdout",
     "output_type": "stream",
     "text": [
      "Price ratios for : 2019\n",
      "Increase in prices      0.548410\n",
      "Down from last year     0.231984\n",
      "Down from last month    0.219606\n",
      "Name: category, dtype: float64\n",
      "\n",
      "\n",
      "Price ratios for : 2021\n",
      "Increase in prices      0.610669\n",
      "Down from last month    0.224034\n",
      "Down from last year     0.165296\n",
      "Name: category, dtype: float64\n",
      "\n",
      "\n"
     ]
    }
   ],
   "source": [
    "for x in year:\n",
    "    print('Price ratios for :', x)\n",
    "    print(df.loc[df['year']== x, 'category'].value_counts()/\n",
    "          len(df.loc[df['year']==x]*100))\n",
    "    print('\\n')                                                                     "
   ]
  },
  {
   "cell_type": "code",
   "execution_count": 9,
   "metadata": {},
   "outputs": [
    {
     "data": {
      "text/plain": [
       "Index(['FIPS', 'year', 'month', 'county', 'state', 'date', 'density',\n",
       "       'active_listing_count', 'average_listing_price',\n",
       "       'average_listing_price_mm', 'average_listing_price_yy',\n",
       "       'median_listing_price', 'median_listing_price_mm',\n",
       "       'median_listing_price_yy', 'median_listing_price_per_square_foot',\n",
       "       'median_square_feet', 'total_listing_count', 'category'],\n",
       "      dtype='object')"
      ]
     },
     "execution_count": 9,
     "metadata": {},
     "output_type": "execute_result"
    }
   ],
   "source": [
    "df.columns"
   ]
  },
  {
   "cell_type": "markdown",
   "metadata": {},
   "source": [
    "In 2019, 54.88% of the houses has an increase in price but is 23.17% down from last year and 21.94% down from last month.\n",
    "In 2021, 61.06% of the houses has an increase in price but is 22.40% down from last year and 16.53% down from last month."
   ]
  },
  {
   "cell_type": "markdown",
   "metadata": {},
   "source": [
    "## 2.2 Correlation Matrix"
   ]
  },
  {
   "cell_type": "code",
   "execution_count": 10,
   "metadata": {},
   "outputs": [
    {
     "data": {
      "image/png": "[encoded data removed]",
      "text/plain": [
       "<Figure size 432x288 with 2 Axes>"
      ]
     },
     "metadata": {
      "needs_background": "light"
     },
     "output_type": "display_data"
    }
   ],
   "source": [
    "CorrMatrix = df[['FIPS', 'county', 'state', 'active_listing_count', 'average_listing_price', \n",
    "            'median_listing_price', 'median_listing_price_per_square_foot', \n",
    "            'median_square_feet', 'total_listing_count']].corr()\n",
    "sns.heatmap(CorrMatrix, annot=True, cmap='PiYG')\n",
    "plt.show()"
   ]
  },
  {
   "cell_type": "markdown",
   "metadata": {},
   "source": [
    "The highest correlation is 97% which is between active listing count and total listing count. The next highest correlation is 83% which is between average listing price and median listing price.\n",
    "# 3. Data Split to 2019 and 2021"
   ]
  },
  {
   "cell_type": "code",
   "execution_count": 11,
   "metadata": {},
   "outputs": [],
   "source": [
    "# The data will only be limited to 2019 and 2021\n",
    "df_2019 = df.loc[df['year']==2019]\n",
    "df_2021 = df.loc[df['year']==2021]\n"
   ]
  },
  {
   "cell_type": "markdown",
   "metadata": {},
   "source": [
    "# 4. Boxplot (State)\n",
    "## 4.1 Average Listing Price (Mean)\n",
    "### 4.1a For the Year 2019"
   ]
  },
  {
   "cell_type": "code",
   "execution_count": 12,
   "metadata": {},
   "outputs": [
    {
     "data": {
      "image/png": "[encoded data removed]",
      "text/plain": [
       "<Figure size 960x640 with 1 Axes>"
      ]
     },
     "metadata": {
      "needs_background": "light"
     },
     "output_type": "display_data"
    }
   ],
   "source": [
    "fig, ax = plt.subplots(1,1, figsize=(12,8), dpi=80)\n",
    "\n",
    "# by order of the state and get the average listing price\n",
    "by_order = df_2019.groupby(by=['state'])['average_listing_price'].mean().sort_values(\n",
    "    ascending=False).index\n",
    "\n",
    "box_plot = sns.boxplot(x='state', y='average_listing_price', data=df_2019, order=by_order)\n",
    "plt.ylabel(\"Average Listing Price\")\n",
    "plt.xlabel('State')\n",
    "plt.title('Housing Price Comparison in Different States (2019))', fontsize=15, fontweight='bold', fontfamily='serif')\n",
    "ax=box_plot.axes\n",
    "lines = ax.get_lines()\n",
    "\n",
    "#ax.ticks_params(axis='x', rotation=45)\n",
    "\n",
    "for x in ['top', 'left', 'right']:\n",
    "    ax.spines[x].set_visible(False)\n",
    "ax.grid(axis='y', linestyle='-', alpha=0.4)\n",
    "\n",
    "box_plot.figure.tight_layout()"
   ]
  },
  {
   "cell_type": "code",
   "execution_count": 13,
   "metadata": {},
   "outputs": [
    {
     "data": {
      "text/plain": [
       "Index(['HI', 'MA', 'DC', 'CA', 'RI', 'CO', 'CT', 'NV', 'NJ', 'WA', 'UT', 'OR',\n",
       "       'WY', 'MD', 'ID', 'FL', 'NY', 'NH', 'AZ', 'VT', 'MT', 'VA', 'DE', 'ME',\n",
       "       'NC', 'SC', 'TN', 'NM', 'AK', 'WI', 'TX', 'GA', 'MI', 'MN', 'PA', 'AL',\n",
       "       'LA', 'OH', 'ND', 'KY', 'IN', 'SD', 'MO', 'MS', 'OK', 'NE', 'WV', 'AR',\n",
       "       'IA', 'IL', 'KS'],\n",
       "      dtype='object', name='state')"
      ]
     },
     "execution_count": 13,
     "metadata": {},
     "output_type": "execute_result"
    }
   ],
   "source": [
    "# The Order by location of the average listing price for 2019\n",
    "by_order"
   ]
  },
  {
   "cell_type": "markdown",
   "metadata": {},
   "source": [
    "### 4.1b For the Year 2021"
   ]
  },
  {
   "cell_type": "code",
   "execution_count": 14,
   "metadata": {},
   "outputs": [
    {
     "data": {
      "image/png": "[encoded data removed]",
      "text/plain": [
       "<Figure size 960x640 with 1 Axes>"
      ]
     },
     "metadata": {
      "needs_background": "light"
     },
     "output_type": "display_data"
    }
   ],
   "source": [
    "fig, ax = plt.subplots(1,1, figsize=(12,8), dpi=80)\n",
    "\n",
    "# by order of the state and get the average listing price\n",
    "by_order = df_2021.groupby(by=['state'])['average_listing_price'].mean().sort_values(\n",
    "    ascending=False).index\n",
    "\n",
    "box_plot = sns.boxplot(x='state', y='average_listing_price', data=df_2021, order=by_order)\n",
    "plt.ylabel(\"Average Listing Price\")\n",
    "plt.xlabel('State')\n",
    "plt.title('Housing Price Comparison in Different States (2021))', fontsize=15, fontweight='bold', fontfamily='serif')\n",
    "ax=box_plot.axes\n",
    "lines = ax.get_lines()\n",
    "\n",
    "#ax.ticks_params(axis='x', rotation=45)\n",
    "\n",
    "for x in ['top', 'left', 'right']:\n",
    "    ax.spines[x].set_visible(False)\n",
    "ax.grid(axis='y', linestyle='-', alpha=0.4)\n",
    "\n",
    "box_plot.figure.tight_layout()"
   ]
  },
  {
   "cell_type": "code",
   "execution_count": 15,
   "metadata": {},
   "outputs": [
    {
     "data": {
      "text/plain": [
       "Index(['HI', 'MA', 'CA', 'RI', 'DC', 'CO', 'UT', 'ID', 'CT', 'WY', 'WA', 'OR',\n",
       "       'NV', 'NJ', 'AZ', 'MT', 'FL', 'NH', 'VT', 'MD', 'NY', 'ME', 'VA', 'DE',\n",
       "       'NC', 'TN', 'AK', 'NM', 'SC', 'GA', 'NE', 'WI', 'MI', 'TX', 'SD', 'PA',\n",
       "       'AL', 'MN', 'KY', 'LA', 'IN', 'MS', 'OH', 'OK', 'MO', 'AR', 'WV', 'IA',\n",
       "       'ND', 'KS', 'IL'],\n",
       "      dtype='object', name='state')"
      ]
     },
     "execution_count": 15,
     "metadata": {},
     "output_type": "execute_result"
    }
   ],
   "source": [
    "# The Order by location of the average listing price for 2021\n",
    "by_order"
   ]
  },
  {
   "cell_type": "markdown",
   "metadata": {},
   "source": [
    "## 4.2 Revised Box Plot\n",
    "Outliers are removed and a new box plot is created\n",
    "https://androidkt.com/detect-and-remove-outliers-from-pandas-dataframe/\n",
    "\n",
    "### 4.2a For Year 2019"
   ]
  },
  {
   "cell_type": "code",
   "execution_count": 16,
   "metadata": {},
   "outputs": [],
   "source": [
    "AZ = df_2019[(df_2019['state']=='AZ')]\n",
    "DC = df_2019[(df_2019['state']=='DC')]\n",
    "DE = df_2019[(df_2019['state']=='DE')]\n",
    "HI = df_2019[(df_2019['state']=='HI')]\n",
    "ME = df_2019[(df_2019['state']=='ME')]\n",
    "NH = df_2019[(df_2019['state']=='NH')]\n",
    "NJ = df_2019[(df_2019['state']=='NJ')]\n",
    "OR = df_2019[(df_2019['state']=='OR')]\n",
    "RI = df_2019[(df_2019['state']=='RI')]\n",
    "VT = df_2019[(df_2019['state']=='VT')]"
   ]
  },
  {
   "cell_type": "code",
   "execution_count": 17,
   "metadata": {},
   "outputs": [],
   "source": [
    "AK = df_2019[(df_2019['state']=='AK') & (df_2019['average_listing_price']<= 500000)]\n",
    "AL = df_2019[(df_2019['state']=='AL') & (df_2019['average_listing_price']<= 410000)]\n",
    "AR = df_2019[(df_2019['state']=='AR') & (df_2019['average_listing_price']<= 350000)]\n",
    "CA = df_2019[(df_2019['state']=='CA') & (df_2019['average_listing_price'] <=1150000)]\n",
    "CO = df_2019[(df_2019['state']=='CO') & (df_2019['average_listing_price']<=1280000)]\n",
    "CT = df_2019[(df_2019['state']=='CT') & (df_2019['average_listing_price']<= 600000)]\n",
    "FL = df_2019[(df_2019['state']=='FL') & (df_2019['average_listing_price']<= 600000)]\n",
    "GA = df_2019[(df_2019['state']=='GA') & (df_2019['average_listing_price']<= 500000)]\n",
    "IA = df_2019[(df_2019['state']=='IA') & (df_2019['average_listing_price']<= 330000)]\n",
    "ID = df_2019[(df_2019['state']=='ID') & (df_2019['average_listing_price']<= 600000)]\n",
    "IL = df_2019[(df_2019['state']=='IL') & (df_2019['average_listing_price']<= 240000)]\n",
    "IN = df_2019[(df_2019['state']=='IN') & (df_2019['average_listing_price']<= 430000)]\n",
    "KS = df_2019[(df_2019['state']=='KS') & (df_2019['average_listing_price']<= 280000)]\n",
    "KY = df_2019[(df_2019['state']=='KY') & (df_2019['average_listing_price']<= 340000)]\n",
    "LA = df_2019[(df_2019['state']=='LA') & (df_2019['average_listing_price']<= 420000)]\n",
    "MA = df_2019[(df_2019['state']=='MA') & (df_2019['average_listing_price'] <=1700000)]\n",
    "MD = df_2019[(df_2019['state']=='MD') & (df_2019['average_listing_price']<= 650000)]\n",
    "MI = df_2019[(df_2019['state']=='MI') & (df_2019['average_listing_price']<= 390000)]\n",
    "MN = df_2019[(df_2019['state']=='MN') & (df_2019['average_listing_price']<= 550000)]\n",
    "MO = df_2019[(df_2019['state']=='MO') & (df_2019['average_listing_price']<= 330000)]\n",
    "MS = df_2019[(df_2019['state']=='MS') & (df_2019['average_listing_price']<= 330000)]\n",
    "MT = df_2019[(df_2019['state']=='MT') & (df_2019['average_listing_price']<=1030000)]\n",
    "NC = df_2019[(df_2019['state']=='NC') & (df_2019['average_listing_price']<= 680000)]\n",
    "ND = df_2019[(df_2019['state']=='ND') & (df_2019['average_listing_price']<= 350000)]\n",
    "NE = df_2019[(df_2019['state']=='NE') & (df_2019['average_listing_price']<= 350000)]\n",
    "NM = df_2019[(df_2019['state']=='NM') & (df_2019['average_listing_price']<= 590000)]\n",
    "NV = df_2019[(df_2019['state']=='NV') & (df_2019['average_listing_price']<= 700000)]\n",
    "NY = df_2019[(df_2019['state']=='NY') & (df_2019['average_listing_price']<= 500000)]\n",
    "OH = df_2019[(df_2019['state']=='OH') & (df_2019['average_listing_price']<= 380000)]\n",
    "OK = df_2019[(df_2019['state']=='OK') & (df_2019['average_listing_price']<= 360000)]\n",
    "PA = df_2019[(df_2019['state']=='PA') & (df_2019['average_listing_price']<= 400000)]\n",
    "SC = df_2019[(df_2019['state']=='SC') & (df_2019['average_listing_price']<= 500000)]\n",
    "SD = df_2019[(df_2019['state']=='SD') & (df_2019['average_listing_price']<= 430000)]\n",
    "TN = df_2019[(df_2019['state']=='TN') & (df_2019['average_listing_price']<= 530000)]\n",
    "TX = df_2019[(df_2019['state']=='TX') & (df_2019['average_listing_price']<= 570000)]\n",
    "UT = df_2019[(df_2019['state']=='UT') & (df_2019['average_listing_price']<= 800000)]\n",
    "VA = df_2019[(df_2019['state']=='VA') & (df_2019['average_listing_price']<= 700000)]\n",
    "WA = df_2019[(df_2019['state']=='WA') & (df_2019['average_listing_price']<= 850000)]\n",
    "WI = df_2019[(df_2019['state']=='WI') & (df_2019['average_listing_price']<= 460000)]\n",
    "WV = df_2019[(df_2019['state']=='WV') & (df_2019['average_listing_price']<= 310000)]\n",
    "WY = df_2019[(df_2019['state']=='WY') & (df_2019['average_listing_price']<= 550000)]"
   ]
  },
  {
   "cell_type": "code",
   "execution_count": 18,
   "metadata": {},
   "outputs": [],
   "source": [
    "df_all_2019 = pd.concat([CO, CT, WA, UT, NY, NV, WY, ID, FL, MD, MA, CA,\n",
    "                    HI, DC, RI, OR, NH, AZ, VT, DE, ME, MT, VA, NC, \n",
    "                    SC, TN, NM, PA, AK, WI, TX, GA, MI, PA, AL, MN, \n",
    "                    LA, ND, KY, IN, SD, MO, MS, OK, NE, WV, AR, IA, \n",
    "                    IL, KS, OH, NJ], ignore_index=True, sort=False)"
   ]
  },
  {
   "cell_type": "code",
   "execution_count": 19,
   "metadata": {},
   "outputs": [
    {
     "data": {
      "text/plain": [
       "array(['CO', 'CT', 'WA', 'UT', 'NY', 'NV', 'WY', 'ID', 'FL', 'MD', 'MA',\n",
       "       'CA', 'HI', 'DC', 'RI', 'OR', 'NH', 'AZ', 'VT', 'DE', 'ME', 'MT',\n",
       "       'VA', 'NC', 'SC', 'TN', 'NM', 'PA', 'AK', 'WI', 'TX', 'GA', 'MI',\n",
       "       'AL', 'MN', 'LA', 'ND', 'KY', 'IN', 'SD', 'MO', 'MS', 'OK', 'NE',\n",
       "       'WV', 'AR', 'IA', 'IL', 'KS', 'OH', 'NJ'], dtype=object)"
      ]
     },
     "execution_count": 19,
     "metadata": {},
     "output_type": "execute_result"
    }
   ],
   "source": [
    "du = df_all_2019['state'].unique()\n",
    "du"
   ]
  },
  {
   "cell_type": "code",
   "execution_count": 20,
   "metadata": {},
   "outputs": [
    {
     "data": {
      "text/html": [
       "<div>\n",
       "<style scoped>\n",
       "    .dataframe tbody tr th:only-of-type {\n",
       "        vertical-align: middle;\n",
       "    }\n",
       "\n",
       "    .dataframe tbody tr th {\n",
       "        vertical-align: top;\n",
       "    }\n",
       "\n",
       "    .dataframe thead th {\n",
       "        text-align: right;\n",
       "    }\n",
       "</style>\n",
       "<table border=\"1\" class=\"dataframe\">\n",
       "  <thead>\n",
       "    <tr style=\"text-align: right;\">\n",
       "      <th></th>\n",
       "      <th>FIPS</th>\n",
       "      <th>year</th>\n",
       "      <th>month</th>\n",
       "      <th>county</th>\n",
       "      <th>state</th>\n",
       "      <th>date</th>\n",
       "      <th>density</th>\n",
       "      <th>active_listing_count</th>\n",
       "      <th>average_listing_price</th>\n",
       "      <th>average_listing_price_mm</th>\n",
       "      <th>average_listing_price_yy</th>\n",
       "      <th>median_listing_price</th>\n",
       "      <th>median_listing_price_mm</th>\n",
       "      <th>median_listing_price_yy</th>\n",
       "      <th>median_listing_price_per_square_foot</th>\n",
       "      <th>median_square_feet</th>\n",
       "      <th>total_listing_count</th>\n",
       "      <th>category</th>\n",
       "    </tr>\n",
       "  </thead>\n",
       "  <tbody>\n",
       "  </tbody>\n",
       "</table>\n",
       "</div>"
      ],
      "text/plain": [
       "Empty DataFrame\n",
       "Columns: [FIPS, year, month, county, state, date, density, active_listing_count, average_listing_price, average_listing_price_mm, average_listing_price_yy, median_listing_price, median_listing_price_mm, median_listing_price_yy, median_listing_price_per_square_foot, median_square_feet, total_listing_count, category]\n",
       "Index: []"
      ]
     },
     "execution_count": 20,
     "metadata": {},
     "output_type": "execute_result"
    }
   ],
   "source": [
    "# This checks if states are not found  \n",
    "df_2019[~df_2019['state'].isin(du)]"
   ]
  },
  {
   "cell_type": "markdown",
   "metadata": {},
   "source": [
    "### New 2019 Box Plot"
   ]
  },
  {
   "cell_type": "code",
   "execution_count": 21,
   "metadata": {},
   "outputs": [
    {
     "data": {
      "image/png": "[encoded data removed]",
      "text/plain": [
       "<Figure size 960x640 with 1 Axes>"
      ]
     },
     "metadata": {
      "needs_background": "light"
     },
     "output_type": "display_data"
    }
   ],
   "source": [
    "fig, ax = plt.subplots(1,1, figsize=(12,8), dpi=80)\n",
    "\n",
    "# by order of the state and get the average listing price\n",
    "by_order = df_all_2019.groupby(by=['state'])['average_listing_price'].mean().sort_values(\n",
    "    ascending=False).index\n",
    "\n",
    "box_plot = sns.boxplot(x='state', y='average_listing_price', data=df_all_2019, order=by_order)\n",
    "plt.ylabel(\"Average Listing Price\")\n",
    "plt.xlabel('State')\n",
    "plt.title('Housing Price Comparison in Different States (2019)', fontsize=15, fontweight='bold', fontfamily='serif')\n",
    "ax=box_plot.axes\n",
    "lines = ax.get_lines()\n",
    "\n",
    "#ax.ticks_params(axis='x', rotation=45)\n",
    "\n",
    "for x in ['top', 'left', 'right']:\n",
    "    ax.spines[x].set_visible(False)\n",
    "ax.grid(axis='y', linestyle='-', alpha=0.4)\n",
    "\n",
    "box_plot.figure.tight_layout()"
   ]
  },
  {
   "cell_type": "code",
   "execution_count": 22,
   "metadata": {},
   "outputs": [
    {
     "data": {
      "text/html": [
       "<div>\n",
       "<style scoped>\n",
       "    .dataframe tbody tr th:only-of-type {\n",
       "        vertical-align: middle;\n",
       "    }\n",
       "\n",
       "    .dataframe tbody tr th {\n",
       "        vertical-align: top;\n",
       "    }\n",
       "\n",
       "    .dataframe thead th {\n",
       "        text-align: right;\n",
       "    }\n",
       "</style>\n",
       "<table border=\"1\" class=\"dataframe\">\n",
       "  <thead>\n",
       "    <tr style=\"text-align: right;\">\n",
       "      <th></th>\n",
       "      <th>count</th>\n",
       "      <th>mean</th>\n",
       "      <th>std</th>\n",
       "      <th>min</th>\n",
       "      <th>25%</th>\n",
       "      <th>50%</th>\n",
       "      <th>75%</th>\n",
       "      <th>max</th>\n",
       "    </tr>\n",
       "  </thead>\n",
       "  <tbody>\n",
       "    <tr>\n",
       "      <th>FIPS</th>\n",
       "      <td>35419.0</td>\n",
       "      <td>30673.352692</td>\n",
       "      <td>15064.001823</td>\n",
       "      <td>1001.0000</td>\n",
       "      <td>19035.0000</td>\n",
       "      <td>30013.0000</td>\n",
       "      <td>45047.0000</td>\n",
       "      <td>56045.0</td>\n",
       "    </tr>\n",
       "    <tr>\n",
       "      <th>year</th>\n",
       "      <td>35419.0</td>\n",
       "      <td>2019.000000</td>\n",
       "      <td>0.000000</td>\n",
       "      <td>2019.0000</td>\n",
       "      <td>2019.0000</td>\n",
       "      <td>2019.0000</td>\n",
       "      <td>2019.0000</td>\n",
       "      <td>2019.0</td>\n",
       "    </tr>\n",
       "    <tr>\n",
       "      <th>month</th>\n",
       "      <td>35419.0</td>\n",
       "      <td>6.496090</td>\n",
       "      <td>3.455231</td>\n",
       "      <td>1.0000</td>\n",
       "      <td>3.0000</td>\n",
       "      <td>6.0000</td>\n",
       "      <td>9.0000</td>\n",
       "      <td>12.0</td>\n",
       "    </tr>\n",
       "    <tr>\n",
       "      <th>density</th>\n",
       "      <td>35419.0</td>\n",
       "      <td>187.561676</td>\n",
       "      <td>696.616784</td>\n",
       "      <td>0.0000</td>\n",
       "      <td>16.0000</td>\n",
       "      <td>43.0000</td>\n",
       "      <td>111.0000</td>\n",
       "      <td>15692.0</td>\n",
       "    </tr>\n",
       "    <tr>\n",
       "      <th>active_listing_count</th>\n",
       "      <td>35419.0</td>\n",
       "      <td>333.854824</td>\n",
       "      <td>786.667961</td>\n",
       "      <td>0.0000</td>\n",
       "      <td>39.0000</td>\n",
       "      <td>109.0000</td>\n",
       "      <td>306.0000</td>\n",
       "      <td>17289.0</td>\n",
       "    </tr>\n",
       "    <tr>\n",
       "      <th>average_listing_price</th>\n",
       "      <td>35419.0</td>\n",
       "      <td>262679.937435</td>\n",
       "      <td>151137.722955</td>\n",
       "      <td>9900.0000</td>\n",
       "      <td>165792.5000</td>\n",
       "      <td>227292.0000</td>\n",
       "      <td>318042.5000</td>\n",
       "      <td>2235543.0</td>\n",
       "    </tr>\n",
       "    <tr>\n",
       "      <th>average_listing_price_mm</th>\n",
       "      <td>35371.0</td>\n",
       "      <td>0.007011</td>\n",
       "      <td>0.129378</td>\n",
       "      <td>-0.9391</td>\n",
       "      <td>-0.0208</td>\n",
       "      <td>0.0021</td>\n",
       "      <td>0.0280</td>\n",
       "      <td>12.3</td>\n",
       "    </tr>\n",
       "    <tr>\n",
       "      <th>average_listing_price_yy</th>\n",
       "      <td>35277.0</td>\n",
       "      <td>0.074249</td>\n",
       "      <td>0.506023</td>\n",
       "      <td>-0.9903</td>\n",
       "      <td>-0.0396</td>\n",
       "      <td>0.0385</td>\n",
       "      <td>0.1291</td>\n",
       "      <td>39.0</td>\n",
       "    </tr>\n",
       "    <tr>\n",
       "      <th>median_listing_price</th>\n",
       "      <td>35419.0</td>\n",
       "      <td>202930.963381</td>\n",
       "      <td>104442.864777</td>\n",
       "      <td>9900.0000</td>\n",
       "      <td>130000.0000</td>\n",
       "      <td>177450.0000</td>\n",
       "      <td>251793.0000</td>\n",
       "      <td>1149000.0</td>\n",
       "    </tr>\n",
       "    <tr>\n",
       "      <th>median_listing_price_mm</th>\n",
       "      <td>35371.0</td>\n",
       "      <td>0.009983</td>\n",
       "      <td>0.190632</td>\n",
       "      <td>-0.9059</td>\n",
       "      <td>-0.0217</td>\n",
       "      <td>0.0000</td>\n",
       "      <td>0.0289</td>\n",
       "      <td>24.6</td>\n",
       "    </tr>\n",
       "    <tr>\n",
       "      <th>median_listing_price_yy</th>\n",
       "      <td>35277.0</td>\n",
       "      <td>0.081935</td>\n",
       "      <td>0.525111</td>\n",
       "      <td>-0.9786</td>\n",
       "      <td>-0.0345</td>\n",
       "      <td>0.0435</td>\n",
       "      <td>0.1331</td>\n",
       "      <td>39.0</td>\n",
       "    </tr>\n",
       "    <tr>\n",
       "      <th>median_listing_price_per_square_foot</th>\n",
       "      <td>35419.0</td>\n",
       "      <td>110.952794</td>\n",
       "      <td>364.399991</td>\n",
       "      <td>6.0000</td>\n",
       "      <td>76.0000</td>\n",
       "      <td>98.0000</td>\n",
       "      <td>127.0000</td>\n",
       "      <td>56250.0</td>\n",
       "    </tr>\n",
       "    <tr>\n",
       "      <th>median_square_feet</th>\n",
       "      <td>35419.0</td>\n",
       "      <td>1880.311895</td>\n",
       "      <td>386.981097</td>\n",
       "      <td>4.0000</td>\n",
       "      <td>1640.0000</td>\n",
       "      <td>1840.0000</td>\n",
       "      <td>2056.0000</td>\n",
       "      <td>11000.0</td>\n",
       "    </tr>\n",
       "    <tr>\n",
       "      <th>total_listing_count</th>\n",
       "      <td>35419.0</td>\n",
       "      <td>442.084277</td>\n",
       "      <td>1117.713849</td>\n",
       "      <td>0.0000</td>\n",
       "      <td>46.0000</td>\n",
       "      <td>133.0000</td>\n",
       "      <td>384.0000</td>\n",
       "      <td>26147.0</td>\n",
       "    </tr>\n",
       "  </tbody>\n",
       "</table>\n",
       "</div>"
      ],
      "text/plain": [
       "                                        count           mean            std  \\\n",
       "FIPS                                  35419.0   30673.352692   15064.001823   \n",
       "year                                  35419.0    2019.000000       0.000000   \n",
       "month                                 35419.0       6.496090       3.455231   \n",
       "density                               35419.0     187.561676     696.616784   \n",
       "active_listing_count                  35419.0     333.854824     786.667961   \n",
       "average_listing_price                 35419.0  262679.937435  151137.722955   \n",
       "average_listing_price_mm              35371.0       0.007011       0.129378   \n",
       "average_listing_price_yy              35277.0       0.074249       0.506023   \n",
       "median_listing_price                  35419.0  202930.963381  104442.864777   \n",
       "median_listing_price_mm               35371.0       0.009983       0.190632   \n",
       "median_listing_price_yy               35277.0       0.081935       0.525111   \n",
       "median_listing_price_per_square_foot  35419.0     110.952794     364.399991   \n",
       "median_square_feet                    35419.0    1880.311895     386.981097   \n",
       "total_listing_count                   35419.0     442.084277    1117.713849   \n",
       "\n",
       "                                            min          25%          50%  \\\n",
       "FIPS                                  1001.0000   19035.0000   30013.0000   \n",
       "year                                  2019.0000    2019.0000    2019.0000   \n",
       "month                                    1.0000       3.0000       6.0000   \n",
       "density                                  0.0000      16.0000      43.0000   \n",
       "active_listing_count                     0.0000      39.0000     109.0000   \n",
       "average_listing_price                 9900.0000  165792.5000  227292.0000   \n",
       "average_listing_price_mm                -0.9391      -0.0208       0.0021   \n",
       "average_listing_price_yy                -0.9903      -0.0396       0.0385   \n",
       "median_listing_price                  9900.0000  130000.0000  177450.0000   \n",
       "median_listing_price_mm                 -0.9059      -0.0217       0.0000   \n",
       "median_listing_price_yy                 -0.9786      -0.0345       0.0435   \n",
       "median_listing_price_per_square_foot     6.0000      76.0000      98.0000   \n",
       "median_square_feet                       4.0000    1640.0000    1840.0000   \n",
       "total_listing_count                      0.0000      46.0000     133.0000   \n",
       "\n",
       "                                              75%        max  \n",
       "FIPS                                   45047.0000    56045.0  \n",
       "year                                    2019.0000     2019.0  \n",
       "month                                      9.0000       12.0  \n",
       "density                                  111.0000    15692.0  \n",
       "active_listing_count                     306.0000    17289.0  \n",
       "average_listing_price                 318042.5000  2235543.0  \n",
       "average_listing_price_mm                   0.0280       12.3  \n",
       "average_listing_price_yy                   0.1291       39.0  \n",
       "median_listing_price                  251793.0000  1149000.0  \n",
       "median_listing_price_mm                    0.0289       24.6  \n",
       "median_listing_price_yy                    0.1331       39.0  \n",
       "median_listing_price_per_square_foot     127.0000    56250.0  \n",
       "median_square_feet                      2056.0000    11000.0  \n",
       "total_listing_count                      384.0000    26147.0  "
      ]
     },
     "execution_count": 22,
     "metadata": {},
     "output_type": "execute_result"
    }
   ],
   "source": [
    "df_all_2019.describe().T"
   ]
  },
  {
   "cell_type": "markdown",
   "metadata": {},
   "source": [
    "### 4.2b For the Year 2021"
   ]
  },
  {
   "cell_type": "code",
   "execution_count": 23,
   "metadata": {},
   "outputs": [],
   "source": [
    "AZ = df_2021[(df_2021['state']=='AZ')]\n",
    "DC = df_2021[(df_2021['state']=='DC')]\n",
    "DE = df_2021[(df_2021['state']=='DE')]\n",
    "HI = df_2021[(df_2021['state']=='HI')]\n",
    "ME = df_2021[(df_2021['state']=='ME')]\n",
    "NJ = df_2021[(df_2021['state']=='NJ')]\n",
    "RI = df_2021[(df_2021['state']=='RI')]"
   ]
  },
  {
   "cell_type": "code",
   "execution_count": 24,
   "metadata": {},
   "outputs": [],
   "source": [
    "AK = df_2021[(df_2021['state']=='AK') & (df_2021['average_listing_price']<= 500000)]\n",
    "AL = df_2021[(df_2021['state']=='AL') & (df_2021['average_listing_price']<= 410000)]\n",
    "AR = df_2021[(df_2021['state']=='AR') & (df_2021['average_listing_price']<= 310000)]\n",
    "CA = df_2021[(df_2021['state']=='CA') & (df_2021['average_listing_price']<= 1600000)]\n",
    "CO = df_2021[(df_2021['state']=='CO') & (df_2021['average_listing_price']<= 1280000)]\n",
    "CT = df_2021[(df_2021['state']=='CT') & (df_2021['average_listing_price']<= 600000)]\n",
    "FL = df_2021[(df_2021['state']=='FL') & (df_2021['average_listing_price']<= 600000)]\n",
    "GA = df_2021[(df_2021['state']=='GA') & (df_2021['average_listing_price']<= 500000)]\n",
    "IA = df_2021[(df_2021['state']=='IA') & (df_2021['average_listing_price']<= 260000)]\n",
    "ID = df_2021[(df_2021['state']=='ID') & (df_2021['average_listing_price']<= 1000000)]\n",
    "IL = df_2021[(df_2021['state']=='IL') & (df_2021['average_listing_price']<= 240000)]\n",
    "IN = df_2021[(df_2021['state']=='IN') & (df_2021['average_listing_price']<= 430000)]\n",
    "KS = df_2021[(df_2021['state']=='KS') & (df_2021['average_listing_price']<= 300000)]\n",
    "KY = df_2021[(df_2021['state']=='KY') & (df_2021['average_listing_price']<= 340000)]\n",
    "LA = df_2021[(df_2021['state']=='LA') & (df_2021['average_listing_price']<= 420000)]\n",
    "MA = df_2021[(df_2021['state']=='MA') & (df_2021['average_listing_price']<= 1700000)]\n",
    "MD = df_2021[(df_2021['state']=='MD') & (df_2021['average_listing_price']<= 650000)]\n",
    "MI = df_2021[(df_2021['state']=='MI') & (df_2021['average_listing_price']<= 390000)]\n",
    "MN = df_2021[(df_2021['state']=='MN') & (df_2021['average_listing_price']<= 550000)]\n",
    "MO = df_2021[(df_2021['state']=='MO') & (df_2021['average_listing_price']<= 330000)]\n",
    "MS = df_2021[(df_2021['state']=='MS') & (df_2021['average_listing_price']<= 330000)]\n",
    "MT = df_2021[(df_2021['state']=='MT') & (df_2021['average_listing_price']<= 1030000)]\n",
    "NC = df_2021[(df_2021['state']=='NC') & (df_2021['average_listing_price']<= 680000)]\n",
    "ND = df_2021[(df_2021['state']=='ND') & (df_2021['average_listing_price']<= 350000)]\n",
    "NE = df_2021[(df_2021['state']=='NE') & (df_2021['average_listing_price']<= 350000)]\n",
    "NH = df_2021[(df_2021['state']=='NH') & (df_2021['average_listing_price']<= 900000)]\n",
    "NM = df_2021[(df_2021['state']=='NM') & (df_2021['average_listing_price']<= 550000)]\n",
    "NV = df_2021[(df_2021['state']=='NV') & (df_2021['average_listing_price']<= 700000)]\n",
    "NY = df_2021[(df_2021['state']=='NY') & (df_2021['average_listing_price']<= 500000)]\n",
    "OH = df_2021[(df_2021['state']=='OH') & (df_2021['average_listing_price']<= 380000)]\n",
    "OK = df_2021[(df_2021['state']=='OK') & (df_2021['average_listing_price']<= 360000)]\n",
    "OR = df_2021[(df_2021['state']=='OR') & (df_2021['average_listing_price']<= 800000)]\n",
    "PA = df_2021[(df_2021['state']=='PA') & (df_2021['average_listing_price']<= 400000)]\n",
    "SC = df_2021[(df_2021['state']=='SC') & (df_2021['average_listing_price']<= 500000)]\n",
    "SD = df_2021[(df_2021['state']=='SD') & (df_2021['average_listing_price']<= 430000)]\n",
    "TN = df_2021[(df_2021['state']=='TN') & (df_2021['average_listing_price']<= 740000)]\n",
    "TX = df_2021[(df_2021['state']=='TX') & (df_2021['average_listing_price']<= 570000)]\n",
    "UT = df_2021[(df_2021['state']=='UT') & (df_2021['average_listing_price']<= 800000)]\n",
    "VA = df_2021[(df_2021['state']=='VA') & (df_2021['average_listing_price']<= 700000)]\n",
    "VT = df_2021[(df_2021['state']=='VT') & (df_2021['average_listing_price']<= 400000)]\n",
    "WA = df_2021[(df_2021['state']=='WA') & (df_2021['average_listing_price']<= 1000000)]\n",
    "WI = df_2021[(df_2021['state']=='WI') & (df_2021['average_listing_price']<= 460000)]\n",
    "WV = df_2021[(df_2021['state']=='WV') & (df_2021['average_listing_price']<= 310000)]\n",
    "WY = df_2021[(df_2021['state']=='WY') & (df_2021['average_listing_price']<= 550000)]"
   ]
  },
  {
   "cell_type": "code",
   "execution_count": 25,
   "metadata": {},
   "outputs": [],
   "source": [
    "df_all_2021 = pd.concat([CO, CT, WA, UT, NY, NV, WY, ID, FL, MD, MA, CA,\n",
    "                    HI, DC, RI, OR, NH, AZ, VT, DE, ME, MT, VA, NC, \n",
    "                    SC, TN, NM, PA, AK, WI, TX, GA, MI, PA, AL, MN, \n",
    "                    LA, ND, KY, IN, SD, MO, MS, OK, NE, WV, AR, IA, \n",
    "                    IL, KS, OH, NJ], ignore_index=True, sort=False)"
   ]
  },
  {
   "cell_type": "code",
   "execution_count": 26,
   "metadata": {},
   "outputs": [
    {
     "data": {
      "text/plain": [
       "array(['CO', 'CT', 'WA', 'UT', 'NY', 'NV', 'WY', 'ID', 'FL', 'MD', 'MA',\n",
       "       'CA', 'HI', 'DC', 'RI', 'OR', 'NH', 'AZ', 'VT', 'DE', 'ME', 'MT',\n",
       "       'VA', 'NC', 'SC', 'TN', 'NM', 'PA', 'AK', 'WI', 'TX', 'GA', 'MI',\n",
       "       'AL', 'MN', 'LA', 'ND', 'KY', 'IN', 'SD', 'MO', 'MS', 'OK', 'NE',\n",
       "       'WV', 'AR', 'IA', 'IL', 'KS', 'OH', 'NJ'], dtype=object)"
      ]
     },
     "execution_count": 26,
     "metadata": {},
     "output_type": "execute_result"
    }
   ],
   "source": [
    "du = df_all_2021['state'].unique()\n",
    "du"
   ]
  },
  {
   "cell_type": "code",
   "execution_count": 27,
   "metadata": {},
   "outputs": [
    {
     "data": {
      "text/html": [
       "<div>\n",
       "<style scoped>\n",
       "    .dataframe tbody tr th:only-of-type {\n",
       "        vertical-align: middle;\n",
       "    }\n",
       "\n",
       "    .dataframe tbody tr th {\n",
       "        vertical-align: top;\n",
       "    }\n",
       "\n",
       "    .dataframe thead th {\n",
       "        text-align: right;\n",
       "    }\n",
       "</style>\n",
       "<table border=\"1\" class=\"dataframe\">\n",
       "  <thead>\n",
       "    <tr style=\"text-align: right;\">\n",
       "      <th></th>\n",
       "      <th>FIPS</th>\n",
       "      <th>year</th>\n",
       "      <th>month</th>\n",
       "      <th>county</th>\n",
       "      <th>state</th>\n",
       "      <th>date</th>\n",
       "      <th>density</th>\n",
       "      <th>active_listing_count</th>\n",
       "      <th>average_listing_price</th>\n",
       "      <th>average_listing_price_mm</th>\n",
       "      <th>average_listing_price_yy</th>\n",
       "      <th>median_listing_price</th>\n",
       "      <th>median_listing_price_mm</th>\n",
       "      <th>median_listing_price_yy</th>\n",
       "      <th>median_listing_price_per_square_foot</th>\n",
       "      <th>median_square_feet</th>\n",
       "      <th>total_listing_count</th>\n",
       "      <th>category</th>\n",
       "    </tr>\n",
       "  </thead>\n",
       "  <tbody>\n",
       "  </tbody>\n",
       "</table>\n",
       "</div>"
      ],
      "text/plain": [
       "Empty DataFrame\n",
       "Columns: [FIPS, year, month, county, state, date, density, active_listing_count, average_listing_price, average_listing_price_mm, average_listing_price_yy, median_listing_price, median_listing_price_mm, median_listing_price_yy, median_listing_price_per_square_foot, median_square_feet, total_listing_count, category]\n",
       "Index: []"
      ]
     },
     "execution_count": 27,
     "metadata": {},
     "output_type": "execute_result"
    }
   ],
   "source": [
    "# This checks if states are not found  \n",
    "df_2019[~df_2019['state'].isin(du)]"
   ]
  },
  {
   "cell_type": "markdown",
   "metadata": {},
   "source": [
    "### New 2021 Box Plot"
   ]
  },
  {
   "cell_type": "code",
   "execution_count": 28,
   "metadata": {},
   "outputs": [
    {
     "data": {
      "image/png": "[encoded data removed]",
      "text/plain": [
       "<Figure size 960x640 with 1 Axes>"
      ]
     },
     "metadata": {
      "needs_background": "light"
     },
     "output_type": "display_data"
    }
   ],
   "source": [
    "fig, ax = plt.subplots(1,1, figsize=(12,8), dpi=80)\n",
    "\n",
    "# by order of the state and get the average listing price\n",
    "by_order = df_all_2021.groupby(by=['state'])['average_listing_price'].mean().sort_values(\n",
    "    ascending=False).index\n",
    "\n",
    "box_plot = sns.boxplot(x='state', y='average_listing_price', data=df_all_2021, order=by_order)\n",
    "plt.ylabel(\"Average Listing Price\")\n",
    "plt.xlabel('State')\n",
    "plt.title('Housing Price Comparison in Different States (2021)', fontsize=15, fontweight='bold', fontfamily='serif')\n",
    "ax=box_plot.axes\n",
    "lines = ax.get_lines()\n",
    "\n",
    "#ax.ticks_params(axis='x', rotation=45)\n",
    "\n",
    "for x in ['top', 'left', 'right']:\n",
    "    ax.spines[x].set_visible(False)\n",
    "ax.grid(axis='y', linestyle='-', alpha=0.4)\n",
    "\n",
    "box_plot.figure.tight_layout()"
   ]
  },
  {
   "cell_type": "markdown",
   "metadata": {},
   "source": [
    "# 5. Save To CSV\n",
    "This will save the cleansed data to csv files. df_2019.csv and df_2021.csv"
   ]
  },
  {
   "cell_type": "code",
   "execution_count": 29,
   "metadata": {},
   "outputs": [
    {
     "data": {
      "text/html": [
       "<div>\n",
       "<style scoped>\n",
       "    .dataframe tbody tr th:only-of-type {\n",
       "        vertical-align: middle;\n",
       "    }\n",
       "\n",
       "    .dataframe tbody tr th {\n",
       "        vertical-align: top;\n",
       "    }\n",
       "\n",
       "    .dataframe thead th {\n",
       "        text-align: right;\n",
       "    }\n",
       "</style>\n",
       "<table border=\"1\" class=\"dataframe\">\n",
       "  <thead>\n",
       "    <tr style=\"text-align: right;\">\n",
       "      <th></th>\n",
       "      <th>count</th>\n",
       "      <th>mean</th>\n",
       "      <th>std</th>\n",
       "      <th>min</th>\n",
       "      <th>25%</th>\n",
       "      <th>50%</th>\n",
       "      <th>75%</th>\n",
       "      <th>max</th>\n",
       "    </tr>\n",
       "  </thead>\n",
       "  <tbody>\n",
       "    <tr>\n",
       "      <th>FIPS</th>\n",
       "      <td>31653.0</td>\n",
       "      <td>30922.971061</td>\n",
       "      <td>15068.356537</td>\n",
       "      <td>1001.0000</td>\n",
       "      <td>19053.0000</td>\n",
       "      <td>30063.0000</td>\n",
       "      <td>45089.000000</td>\n",
       "      <td>5.604500e+04</td>\n",
       "    </tr>\n",
       "    <tr>\n",
       "      <th>year</th>\n",
       "      <td>31653.0</td>\n",
       "      <td>2021.000000</td>\n",
       "      <td>0.000000</td>\n",
       "      <td>2021.0000</td>\n",
       "      <td>2021.0000</td>\n",
       "      <td>2021.0000</td>\n",
       "      <td>2021.000000</td>\n",
       "      <td>2.021000e+03</td>\n",
       "    </tr>\n",
       "    <tr>\n",
       "      <th>month</th>\n",
       "      <td>31653.0</td>\n",
       "      <td>6.450921</td>\n",
       "      <td>3.460602</td>\n",
       "      <td>1.0000</td>\n",
       "      <td>3.0000</td>\n",
       "      <td>6.0000</td>\n",
       "      <td>9.000000</td>\n",
       "      <td>1.200000e+01</td>\n",
       "    </tr>\n",
       "    <tr>\n",
       "      <th>density</th>\n",
       "      <td>31653.0</td>\n",
       "      <td>180.980444</td>\n",
       "      <td>707.797851</td>\n",
       "      <td>0.0000</td>\n",
       "      <td>16.0000</td>\n",
       "      <td>42.0000</td>\n",
       "      <td>106.000000</td>\n",
       "      <td>3.497900e+04</td>\n",
       "    </tr>\n",
       "    <tr>\n",
       "      <th>active_listing_count</th>\n",
       "      <td>31653.0</td>\n",
       "      <td>125.728209</td>\n",
       "      <td>317.075906</td>\n",
       "      <td>0.0000</td>\n",
       "      <td>16.0000</td>\n",
       "      <td>42.0000</td>\n",
       "      <td>109.000000</td>\n",
       "      <td>1.001000e+04</td>\n",
       "    </tr>\n",
       "    <tr>\n",
       "      <th>average_listing_price</th>\n",
       "      <td>31653.0</td>\n",
       "      <td>310950.793195</td>\n",
       "      <td>194375.433415</td>\n",
       "      <td>15800.0000</td>\n",
       "      <td>187327.0000</td>\n",
       "      <td>267132.0000</td>\n",
       "      <td>378335.000000</td>\n",
       "      <td>2.850052e+06</td>\n",
       "    </tr>\n",
       "    <tr>\n",
       "      <th>average_listing_price_mm</th>\n",
       "      <td>31573.0</td>\n",
       "      <td>0.016613</td>\n",
       "      <td>0.178037</td>\n",
       "      <td>-0.9896</td>\n",
       "      <td>-0.0398</td>\n",
       "      <td>0.0049</td>\n",
       "      <td>0.054700</td>\n",
       "      <td>1.065310e+01</td>\n",
       "    </tr>\n",
       "    <tr>\n",
       "      <th>average_listing_price_yy</th>\n",
       "      <td>31508.0</td>\n",
       "      <td>0.164060</td>\n",
       "      <td>0.399267</td>\n",
       "      <td>-0.9869</td>\n",
       "      <td>-0.0160</td>\n",
       "      <td>0.1167</td>\n",
       "      <td>0.278625</td>\n",
       "      <td>1.092040e+01</td>\n",
       "    </tr>\n",
       "    <tr>\n",
       "      <th>median_listing_price</th>\n",
       "      <td>31653.0</td>\n",
       "      <td>235938.512811</td>\n",
       "      <td>131119.524359</td>\n",
       "      <td>2382.0000</td>\n",
       "      <td>147250.0000</td>\n",
       "      <td>202950.0000</td>\n",
       "      <td>291925.000000</td>\n",
       "      <td>1.625000e+06</td>\n",
       "    </tr>\n",
       "    <tr>\n",
       "      <th>median_listing_price_mm</th>\n",
       "      <td>31573.0</td>\n",
       "      <td>0.034978</td>\n",
       "      <td>1.779027</td>\n",
       "      <td>-0.9947</td>\n",
       "      <td>-0.0399</td>\n",
       "      <td>0.0000</td>\n",
       "      <td>0.055600</td>\n",
       "      <td>3.134416e+02</td>\n",
       "    </tr>\n",
       "    <tr>\n",
       "      <th>median_listing_price_yy</th>\n",
       "      <td>31508.0</td>\n",
       "      <td>0.161067</td>\n",
       "      <td>0.449879</td>\n",
       "      <td>-0.9947</td>\n",
       "      <td>-0.0285</td>\n",
       "      <td>0.0970</td>\n",
       "      <td>0.251225</td>\n",
       "      <td>1.242860e+01</td>\n",
       "    </tr>\n",
       "    <tr>\n",
       "      <th>median_listing_price_per_square_foot</th>\n",
       "      <td>31653.0</td>\n",
       "      <td>129.044135</td>\n",
       "      <td>69.402315</td>\n",
       "      <td>1.0000</td>\n",
       "      <td>86.0000</td>\n",
       "      <td>114.0000</td>\n",
       "      <td>153.000000</td>\n",
       "      <td>9.980000e+02</td>\n",
       "    </tr>\n",
       "    <tr>\n",
       "      <th>median_square_feet</th>\n",
       "      <td>31653.0</td>\n",
       "      <td>1853.243200</td>\n",
       "      <td>444.859370</td>\n",
       "      <td>375.0000</td>\n",
       "      <td>1600.0000</td>\n",
       "      <td>1800.0000</td>\n",
       "      <td>2026.000000</td>\n",
       "      <td>3.004200e+04</td>\n",
       "    </tr>\n",
       "    <tr>\n",
       "      <th>total_listing_count</th>\n",
       "      <td>31653.0</td>\n",
       "      <td>273.465675</td>\n",
       "      <td>708.720434</td>\n",
       "      <td>0.0000</td>\n",
       "      <td>27.0000</td>\n",
       "      <td>76.0000</td>\n",
       "      <td>218.000000</td>\n",
       "      <td>1.879000e+04</td>\n",
       "    </tr>\n",
       "  </tbody>\n",
       "</table>\n",
       "</div>"
      ],
      "text/plain": [
       "                                        count           mean            std  \\\n",
       "FIPS                                  31653.0   30922.971061   15068.356537   \n",
       "year                                  31653.0    2021.000000       0.000000   \n",
       "month                                 31653.0       6.450921       3.460602   \n",
       "density                               31653.0     180.980444     707.797851   \n",
       "active_listing_count                  31653.0     125.728209     317.075906   \n",
       "average_listing_price                 31653.0  310950.793195  194375.433415   \n",
       "average_listing_price_mm              31573.0       0.016613       0.178037   \n",
       "average_listing_price_yy              31508.0       0.164060       0.399267   \n",
       "median_listing_price                  31653.0  235938.512811  131119.524359   \n",
       "median_listing_price_mm               31573.0       0.034978       1.779027   \n",
       "median_listing_price_yy               31508.0       0.161067       0.449879   \n",
       "median_listing_price_per_square_foot  31653.0     129.044135      69.402315   \n",
       "median_square_feet                    31653.0    1853.243200     444.859370   \n",
       "total_listing_count                   31653.0     273.465675     708.720434   \n",
       "\n",
       "                                             min          25%          50%  \\\n",
       "FIPS                                   1001.0000   19053.0000   30063.0000   \n",
       "year                                   2021.0000    2021.0000    2021.0000   \n",
       "month                                     1.0000       3.0000       6.0000   \n",
       "density                                   0.0000      16.0000      42.0000   \n",
       "active_listing_count                      0.0000      16.0000      42.0000   \n",
       "average_listing_price                 15800.0000  187327.0000  267132.0000   \n",
       "average_listing_price_mm                 -0.9896      -0.0398       0.0049   \n",
       "average_listing_price_yy                 -0.9869      -0.0160       0.1167   \n",
       "median_listing_price                   2382.0000  147250.0000  202950.0000   \n",
       "median_listing_price_mm                  -0.9947      -0.0399       0.0000   \n",
       "median_listing_price_yy                  -0.9947      -0.0285       0.0970   \n",
       "median_listing_price_per_square_foot      1.0000      86.0000     114.0000   \n",
       "median_square_feet                      375.0000    1600.0000    1800.0000   \n",
       "total_listing_count                       0.0000      27.0000      76.0000   \n",
       "\n",
       "                                                75%           max  \n",
       "FIPS                                   45089.000000  5.604500e+04  \n",
       "year                                    2021.000000  2.021000e+03  \n",
       "month                                      9.000000  1.200000e+01  \n",
       "density                                  106.000000  3.497900e+04  \n",
       "active_listing_count                     109.000000  1.001000e+04  \n",
       "average_listing_price                 378335.000000  2.850052e+06  \n",
       "average_listing_price_mm                   0.054700  1.065310e+01  \n",
       "average_listing_price_yy                   0.278625  1.092040e+01  \n",
       "median_listing_price                  291925.000000  1.625000e+06  \n",
       "median_listing_price_mm                    0.055600  3.134416e+02  \n",
       "median_listing_price_yy                    0.251225  1.242860e+01  \n",
       "median_listing_price_per_square_foot     153.000000  9.980000e+02  \n",
       "median_square_feet                      2026.000000  3.004200e+04  \n",
       "total_listing_count                      218.000000  1.879000e+04  "
      ]
     },
     "execution_count": 29,
     "metadata": {},
     "output_type": "execute_result"
    }
   ],
   "source": [
    "df_all_2021.describe().T"
   ]
  },
  {
   "cell_type": "code",
   "execution_count": 30,
   "metadata": {},
   "outputs": [],
   "source": [
    "df_all_2019.to_csv('df_2019.csv', index = False)\n",
    "df_all_2021.to_csv('df_2021.csv', index = False)"
   ]
  }
 ],
 "metadata": {
  "kernelspec": {
   "display_name": "Python 3",
   "language": "python",
   "name": "python3"
  },
  "language_info": {
   "codemirror_mode": {
    "name": "ipython",
    "version": 3
   },
   "file_extension": ".py",
   "mimetype": "text/x-python",
   "name": "python",
   "nbconvert_exporter": "python",
   "pygments_lexer": "ipython3",
   "version": "3.8.5"
  }
 },
 "nbformat": 4,
 "nbformat_minor": 4
}
