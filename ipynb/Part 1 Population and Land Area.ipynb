{
 "cells": [
  {
   "cell_type": "code",
   "execution_count": 1,
   "metadata": {},
   "outputs": [],
   "source": [
    "import pandas as pd"
   ]
  },
  {
   "cell_type": "markdown",
   "metadata": {},
   "source": [
    "# Land Area, Population Estimate, Population \n",
    "- Land Area (2010) - census\n",
    "- Population Estimate (2016, 2017, 2018, 2019) - usda\n",
    "- Population Census (2020) - usda\n",
    "\n",
    "Acknowledgment to Ken Noppinger:<br>\n",
    "https://github.com/knoppin1/DATA-606-Capstone"
   ]
  },
  {
   "cell_type": "markdown",
   "metadata": {},
   "source": [
    "## 1.1 Read land area"
   ]
  },
  {
   "cell_type": "code",
   "execution_count": 2,
   "metadata": {},
   "outputs": [
    {
     "data": {
      "text/html": [
       "<div>\n",
       "<style scoped>\n",
       "    .dataframe tbody tr th:only-of-type {\n",
       "        vertical-align: middle;\n",
       "    }\n",
       "\n",
       "    .dataframe tbody tr th {\n",
       "        vertical-align: top;\n",
       "    }\n",
       "\n",
       "    .dataframe thead th {\n",
       "        text-align: right;\n",
       "    }\n",
       "</style>\n",
       "<table border=\"1\" class=\"dataframe\">\n",
       "  <thead>\n",
       "    <tr style=\"text-align: right;\">\n",
       "      <th></th>\n",
       "      <th>Areaname</th>\n",
       "      <th>STCOU</th>\n",
       "      <th>LND010190F</th>\n",
       "      <th>LND010190D</th>\n",
       "      <th>LND010190N1</th>\n",
       "      <th>LND010190N2</th>\n",
       "      <th>LND010200F</th>\n",
       "      <th>LND010200D</th>\n",
       "      <th>LND010200N1</th>\n",
       "      <th>LND010200N2</th>\n",
       "      <th>...</th>\n",
       "      <th>LND110210N1</th>\n",
       "      <th>LND110210N2</th>\n",
       "      <th>LND210190F</th>\n",
       "      <th>LND210190D</th>\n",
       "      <th>LND210190N1</th>\n",
       "      <th>LND210190N2</th>\n",
       "      <th>LND210200F</th>\n",
       "      <th>LND210200D</th>\n",
       "      <th>LND210200N1</th>\n",
       "      <th>LND210200N2</th>\n",
       "    </tr>\n",
       "  </thead>\n",
       "  <tbody>\n",
       "    <tr>\n",
       "      <th>0</th>\n",
       "      <td>UNITED STATES</td>\n",
       "      <td>0</td>\n",
       "      <td>0</td>\n",
       "      <td>3787425.08</td>\n",
       "      <td>0</td>\n",
       "      <td>0</td>\n",
       "      <td>0</td>\n",
       "      <td>3794083.06</td>\n",
       "      <td>0</td>\n",
       "      <td>0</td>\n",
       "      <td>...</td>\n",
       "      <td>0</td>\n",
       "      <td>0</td>\n",
       "      <td>0</td>\n",
       "      <td>251083.35</td>\n",
       "      <td>0</td>\n",
       "      <td>0</td>\n",
       "      <td>0</td>\n",
       "      <td>256644.62</td>\n",
       "      <td>0</td>\n",
       "      <td>0</td>\n",
       "    </tr>\n",
       "    <tr>\n",
       "      <th>1</th>\n",
       "      <td>ALABAMA</td>\n",
       "      <td>1000</td>\n",
       "      <td>0</td>\n",
       "      <td>52422.94</td>\n",
       "      <td>0</td>\n",
       "      <td>0</td>\n",
       "      <td>0</td>\n",
       "      <td>52419.02</td>\n",
       "      <td>0</td>\n",
       "      <td>0</td>\n",
       "      <td>...</td>\n",
       "      <td>0</td>\n",
       "      <td>0</td>\n",
       "      <td>0</td>\n",
       "      <td>1672.71</td>\n",
       "      <td>0</td>\n",
       "      <td>0</td>\n",
       "      <td>0</td>\n",
       "      <td>1675.01</td>\n",
       "      <td>0</td>\n",
       "      <td>0</td>\n",
       "    </tr>\n",
       "    <tr>\n",
       "      <th>2</th>\n",
       "      <td>Autauga, AL</td>\n",
       "      <td>1001</td>\n",
       "      <td>0</td>\n",
       "      <td>604.49</td>\n",
       "      <td>0</td>\n",
       "      <td>0</td>\n",
       "      <td>0</td>\n",
       "      <td>604.45</td>\n",
       "      <td>0</td>\n",
       "      <td>0</td>\n",
       "      <td>...</td>\n",
       "      <td>0</td>\n",
       "      <td>0</td>\n",
       "      <td>0</td>\n",
       "      <td>8.48</td>\n",
       "      <td>0</td>\n",
       "      <td>0</td>\n",
       "      <td>0</td>\n",
       "      <td>8.48</td>\n",
       "      <td>0</td>\n",
       "      <td>0</td>\n",
       "    </tr>\n",
       "    <tr>\n",
       "      <th>3</th>\n",
       "      <td>Baldwin, AL</td>\n",
       "      <td>1003</td>\n",
       "      <td>0</td>\n",
       "      <td>2027.08</td>\n",
       "      <td>0</td>\n",
       "      <td>0</td>\n",
       "      <td>0</td>\n",
       "      <td>2026.93</td>\n",
       "      <td>0</td>\n",
       "      <td>0</td>\n",
       "      <td>...</td>\n",
       "      <td>0</td>\n",
       "      <td>0</td>\n",
       "      <td>0</td>\n",
       "      <td>430.55</td>\n",
       "      <td>0</td>\n",
       "      <td>0</td>\n",
       "      <td>0</td>\n",
       "      <td>430.58</td>\n",
       "      <td>0</td>\n",
       "      <td>0</td>\n",
       "    </tr>\n",
       "    <tr>\n",
       "      <th>4</th>\n",
       "      <td>Barbour, AL</td>\n",
       "      <td>1005</td>\n",
       "      <td>0</td>\n",
       "      <td>904.59</td>\n",
       "      <td>0</td>\n",
       "      <td>0</td>\n",
       "      <td>0</td>\n",
       "      <td>904.52</td>\n",
       "      <td>0</td>\n",
       "      <td>0</td>\n",
       "      <td>...</td>\n",
       "      <td>0</td>\n",
       "      <td>0</td>\n",
       "      <td>0</td>\n",
       "      <td>19.59</td>\n",
       "      <td>0</td>\n",
       "      <td>0</td>\n",
       "      <td>0</td>\n",
       "      <td>19.61</td>\n",
       "      <td>0</td>\n",
       "      <td>0</td>\n",
       "    </tr>\n",
       "  </tbody>\n",
       "</table>\n",
       "<p>5 rows × 34 columns</p>\n",
       "</div>"
      ],
      "text/plain": [
       "        Areaname  STCOU  LND010190F  LND010190D  LND010190N1  LND010190N2  \\\n",
       "0  UNITED STATES      0           0  3787425.08            0            0   \n",
       "1        ALABAMA   1000           0    52422.94            0            0   \n",
       "2    Autauga, AL   1001           0      604.49            0            0   \n",
       "3    Baldwin, AL   1003           0     2027.08            0            0   \n",
       "4    Barbour, AL   1005           0      904.59            0            0   \n",
       "\n",
       "   LND010200F  LND010200D  LND010200N1  LND010200N2  ...  LND110210N1  \\\n",
       "0           0  3794083.06            0            0  ...            0   \n",
       "1           0    52419.02            0            0  ...            0   \n",
       "2           0      604.45            0            0  ...            0   \n",
       "3           0     2026.93            0            0  ...            0   \n",
       "4           0      904.52            0            0  ...            0   \n",
       "\n",
       "   LND110210N2  LND210190F  LND210190D  LND210190N1  LND210190N2  LND210200F  \\\n",
       "0            0           0   251083.35            0            0           0   \n",
       "1            0           0     1672.71            0            0           0   \n",
       "2            0           0        8.48            0            0           0   \n",
       "3            0           0      430.55            0            0           0   \n",
       "4            0           0       19.59            0            0           0   \n",
       "\n",
       "   LND210200D  LND210200N1  LND210200N2  \n",
       "0   256644.62            0            0  \n",
       "1     1675.01            0            0  \n",
       "2        8.48            0            0  \n",
       "3      430.58            0            0  \n",
       "4       19.61            0            0  \n",
       "\n",
       "[5 rows x 34 columns]"
      ]
     },
     "execution_count": 2,
     "metadata": {},
     "output_type": "execute_result"
    }
   ],
   "source": [
    "df_land = pd.read_excel('https://www2.census.gov/library/publications/2011/compendia/usa-counties/excel/LND01.xls')\n",
    "df_land.head()"
   ]
  },
  {
   "cell_type": "markdown",
   "metadata": {},
   "source": [
    "## 1.2 Cleanup columns\n",
    "Extract the needed columns: <br>\n",
    "- Areaname - county and state\n",
    "- STCOU - FIPS code for state and county\n",
    "- LND110210D - LND - land area; 110- subgroup; 210 - 2(a year in the 21st century); 10(last two digits of the year); D - data. Therefore, this is a data gathered from 2010 in sqm."
   ]
  },
  {
   "cell_type": "code",
   "execution_count": 3,
   "metadata": {},
   "outputs": [
    {
     "data": {
      "text/html": [
       "<div>\n",
       "<style scoped>\n",
       "    .dataframe tbody tr th:only-of-type {\n",
       "        vertical-align: middle;\n",
       "    }\n",
       "\n",
       "    .dataframe tbody tr th {\n",
       "        vertical-align: top;\n",
       "    }\n",
       "\n",
       "    .dataframe thead th {\n",
       "        text-align: right;\n",
       "    }\n",
       "</style>\n",
       "<table border=\"1\" class=\"dataframe\">\n",
       "  <thead>\n",
       "    <tr style=\"text-align: right;\">\n",
       "      <th></th>\n",
       "      <th>Areaname</th>\n",
       "      <th>STCOU</th>\n",
       "      <th>LND110210D</th>\n",
       "    </tr>\n",
       "  </thead>\n",
       "  <tbody>\n",
       "    <tr>\n",
       "      <th>0</th>\n",
       "      <td>UNITED STATES</td>\n",
       "      <td>0</td>\n",
       "      <td>3531905.43</td>\n",
       "    </tr>\n",
       "    <tr>\n",
       "      <th>1</th>\n",
       "      <td>ALABAMA</td>\n",
       "      <td>1000</td>\n",
       "      <td>50645.33</td>\n",
       "    </tr>\n",
       "    <tr>\n",
       "      <th>2</th>\n",
       "      <td>Autauga, AL</td>\n",
       "      <td>1001</td>\n",
       "      <td>594.44</td>\n",
       "    </tr>\n",
       "    <tr>\n",
       "      <th>3</th>\n",
       "      <td>Baldwin, AL</td>\n",
       "      <td>1003</td>\n",
       "      <td>1589.78</td>\n",
       "    </tr>\n",
       "    <tr>\n",
       "      <th>4</th>\n",
       "      <td>Barbour, AL</td>\n",
       "      <td>1005</td>\n",
       "      <td>884.88</td>\n",
       "    </tr>\n",
       "  </tbody>\n",
       "</table>\n",
       "</div>"
      ],
      "text/plain": [
       "        Areaname  STCOU  LND110210D\n",
       "0  UNITED STATES      0  3531905.43\n",
       "1        ALABAMA   1000    50645.33\n",
       "2    Autauga, AL   1001      594.44\n",
       "3    Baldwin, AL   1003     1589.78\n",
       "4    Barbour, AL   1005      884.88"
      ]
     },
     "execution_count": 3,
     "metadata": {},
     "output_type": "execute_result"
    }
   ],
   "source": [
    "df_land_area = df_land[['Areaname', 'STCOU', 'LND110210D']]\n",
    "df_land_area.head(5)"
   ]
  },
  {
   "cell_type": "code",
   "execution_count": 4,
   "metadata": {},
   "outputs": [
    {
     "name": "stdout",
     "output_type": "stream",
     "text": [
      "<class 'pandas.core.frame.DataFrame'>\n",
      "RangeIndex: 3198 entries, 0 to 3197\n",
      "Data columns (total 3 columns):\n",
      " #   Column      Non-Null Count  Dtype  \n",
      "---  ------      --------------  -----  \n",
      " 0   Areaname    3198 non-null   object \n",
      " 1   STCOU       3198 non-null   int64  \n",
      " 2   LND110210D  3198 non-null   float64\n",
      "dtypes: float64(1), int64(1), object(1)\n",
      "memory usage: 75.1+ KB\n"
     ]
    }
   ],
   "source": [
    "df_land_area.info()   "
   ]
  },
  {
   "cell_type": "code",
   "execution_count": null,
   "metadata": {},
   "outputs": [],
   "source": []
  },
  {
   "cell_type": "code",
   "execution_count": 5,
   "metadata": {},
   "outputs": [
    {
     "name": "stderr",
     "output_type": "stream",
     "text": [
      "C:\\Users\\Pc\\anaconda3\\lib\\site-packages\\pandas\\core\\frame.py:4296: SettingWithCopyWarning: \n",
      "A value is trying to be set on a copy of a slice from a DataFrame\n",
      "\n",
      "See the caveats in the documentation: https://pandas.pydata.org/pandas-docs/stable/user_guide/indexing.html#returning-a-view-versus-a-copy\n",
      "  return super().rename(\n"
     ]
    }
   ],
   "source": [
    "# Rename STCOU to FIPStxt\n",
    "df_land_area.rename(columns = {'STCOU': \"FIPStxt\"}, inplace=True)"
   ]
  },
  {
   "cell_type": "code",
   "execution_count": 6,
   "metadata": {},
   "outputs": [
    {
     "data": {
      "text/html": [
       "<div>\n",
       "<style scoped>\n",
       "    .dataframe tbody tr th:only-of-type {\n",
       "        vertical-align: middle;\n",
       "    }\n",
       "\n",
       "    .dataframe tbody tr th {\n",
       "        vertical-align: top;\n",
       "    }\n",
       "\n",
       "    .dataframe thead th {\n",
       "        text-align: right;\n",
       "    }\n",
       "</style>\n",
       "<table border=\"1\" class=\"dataframe\">\n",
       "  <thead>\n",
       "    <tr style=\"text-align: right;\">\n",
       "      <th></th>\n",
       "      <th>Areaname</th>\n",
       "      <th>FIPStxt</th>\n",
       "      <th>LND110210D</th>\n",
       "    </tr>\n",
       "  </thead>\n",
       "  <tbody>\n",
       "    <tr>\n",
       "      <th>0</th>\n",
       "      <td>UNITED STATES</td>\n",
       "      <td>0</td>\n",
       "      <td>3531905.43</td>\n",
       "    </tr>\n",
       "  </tbody>\n",
       "</table>\n",
       "</div>"
      ],
      "text/plain": [
       "        Areaname  FIPStxt  LND110210D\n",
       "0  UNITED STATES        0  3531905.43"
      ]
     },
     "execution_count": 6,
     "metadata": {},
     "output_type": "execute_result"
    }
   ],
   "source": [
    "us_land_area = df_land_area[df_land_area.Areaname == 'UNITED STATES']\n",
    "us_land_area"
   ]
  },
  {
   "cell_type": "code",
   "execution_count": 7,
   "metadata": {},
   "outputs": [
    {
     "data": {
      "text/plain": [
       "50"
      ]
     },
     "execution_count": 7,
     "metadata": {},
     "output_type": "execute_result"
    }
   ],
   "source": [
    "# Remove the All states data from the State column\n",
    "states = ['Alabama', 'Alaska', 'Arizona', 'Arkansas', 'California', 'Colorado',\n",
    "          'Connecticut','Delaware', 'Florida', 'Georgia',\n",
    "          'Hawaii', 'Idaho', 'Illinois', 'Indiana', 'Iowa', 'Kansas', 'Kentucky',\n",
    "          'Louisiana', 'Maine', 'Maryland', 'Massachusetts', 'Michigan', \n",
    "          'Minnesota', 'Mississippi', 'Missouri', 'Montana', 'Nebraska', \n",
    "          'Nevada', 'New Hampshire', 'New Jersey', 'New Mexico', 'New York', \n",
    "          'North Carolina', 'North Dakota', 'Ohio', 'Oklahoma', 'Oregon', 'Pennsylvania', \n",
    "          'Rhode Island', 'South Carolina', 'South Dakota', 'Tennessee', 'Texas', 'Utah', \n",
    "          'Vermont', 'Virginia', 'Washington', 'West Virginia', 'Wisconsin', 'Wyoming']\n",
    "len(states)"
   ]
  },
  {
   "cell_type": "code",
   "execution_count": 8,
   "metadata": {},
   "outputs": [
    {
     "name": "stdout",
     "output_type": "stream",
     "text": [
      "This is the first five states in the list that's capitalized\n"
     ]
    },
    {
     "data": {
      "text/plain": [
       "['ALABAMA', 'ALASKA', 'ARIZONA', 'ARKANSAS', 'CALIFORNIA']"
      ]
     },
     "execution_count": 8,
     "metadata": {},
     "output_type": "execute_result"
    }
   ],
   "source": [
    "# Convert states to upper case\n",
    "states1 = [x.upper() for x in states]\n",
    "print(\"This is the first five states in the list that's capitalized\")\n",
    "states1[0:5]"
   ]
  },
  {
   "cell_type": "code",
   "execution_count": 9,
   "metadata": {},
   "outputs": [
    {
     "name": "stdout",
     "output_type": "stream",
     "text": [
      "Number of all states:  50\n"
     ]
    }
   ],
   "source": [
    "all_states_land_area = df_land_area[df_land_area['Areaname'].isin(states1)]\n",
    "print(\"Number of all states: \", len(all_states_land_area['Areaname'].unique()))"
   ]
  },
  {
   "cell_type": "code",
   "execution_count": 10,
   "metadata": {},
   "outputs": [
    {
     "name": "stdout",
     "output_type": "stream",
     "text": [
      "This dataset still includes District of Columbia\n"
     ]
    },
    {
     "data": {
      "text/html": [
       "<div>\n",
       "<style scoped>\n",
       "    .dataframe tbody tr th:only-of-type {\n",
       "        vertical-align: middle;\n",
       "    }\n",
       "\n",
       "    .dataframe tbody tr th {\n",
       "        vertical-align: top;\n",
       "    }\n",
       "\n",
       "    .dataframe thead th {\n",
       "        text-align: right;\n",
       "    }\n",
       "</style>\n",
       "<table border=\"1\" class=\"dataframe\">\n",
       "  <thead>\n",
       "    <tr style=\"text-align: right;\">\n",
       "      <th></th>\n",
       "      <th>Areaname</th>\n",
       "      <th>FIPStxt</th>\n",
       "      <th>LND110210D</th>\n",
       "    </tr>\n",
       "  </thead>\n",
       "  <tbody>\n",
       "    <tr>\n",
       "      <th>328</th>\n",
       "      <td>DISTRICT OF COLUMBIA</td>\n",
       "      <td>11000</td>\n",
       "      <td>61.05</td>\n",
       "    </tr>\n",
       "  </tbody>\n",
       "</table>\n",
       "</div>"
      ],
      "text/plain": [
       "                 Areaname  FIPStxt  LND110210D\n",
       "328  DISTRICT OF COLUMBIA    11000       61.05"
      ]
     },
     "execution_count": 10,
     "metadata": {},
     "output_type": "execute_result"
    }
   ],
   "source": [
    "print(\"This dataset still includes District of Columbia\")\n",
    "df_land_area[df_land_area.Areaname == 'DISTRICT OF COLUMBIA']"
   ]
  },
  {
   "cell_type": "code",
   "execution_count": 11,
   "metadata": {},
   "outputs": [
    {
     "data": {
      "text/html": [
       "<div>\n",
       "<style scoped>\n",
       "    .dataframe tbody tr th:only-of-type {\n",
       "        vertical-align: middle;\n",
       "    }\n",
       "\n",
       "    .dataframe tbody tr th {\n",
       "        vertical-align: top;\n",
       "    }\n",
       "\n",
       "    .dataframe thead th {\n",
       "        text-align: right;\n",
       "    }\n",
       "</style>\n",
       "<table border=\"1\" class=\"dataframe\">\n",
       "  <thead>\n",
       "    <tr style=\"text-align: right;\">\n",
       "      <th></th>\n",
       "      <th>Areaname</th>\n",
       "      <th>FIPStxt</th>\n",
       "      <th>LND110210D</th>\n",
       "    </tr>\n",
       "  </thead>\n",
       "  <tbody>\n",
       "    <tr>\n",
       "      <th>0</th>\n",
       "      <td>Autauga, AL</td>\n",
       "      <td>1001</td>\n",
       "      <td>594.44</td>\n",
       "    </tr>\n",
       "    <tr>\n",
       "      <th>1</th>\n",
       "      <td>Baldwin, AL</td>\n",
       "      <td>1003</td>\n",
       "      <td>1589.78</td>\n",
       "    </tr>\n",
       "    <tr>\n",
       "      <th>2</th>\n",
       "      <td>Barbour, AL</td>\n",
       "      <td>1005</td>\n",
       "      <td>884.88</td>\n",
       "    </tr>\n",
       "    <tr>\n",
       "      <th>3</th>\n",
       "      <td>Bibb, AL</td>\n",
       "      <td>1007</td>\n",
       "      <td>622.58</td>\n",
       "    </tr>\n",
       "    <tr>\n",
       "      <th>4</th>\n",
       "      <td>Blount, AL</td>\n",
       "      <td>1009</td>\n",
       "      <td>644.78</td>\n",
       "    </tr>\n",
       "  </tbody>\n",
       "</table>\n",
       "</div>"
      ],
      "text/plain": [
       "      Areaname  FIPStxt  LND110210D\n",
       "0  Autauga, AL     1001      594.44\n",
       "1  Baldwin, AL     1003     1589.78\n",
       "2  Barbour, AL     1005      884.88\n",
       "3     Bibb, AL     1007      622.58\n",
       "4   Blount, AL     1009      644.78"
      ]
     },
     "execution_count": 11,
     "metadata": {},
     "output_type": "execute_result"
    }
   ],
   "source": [
    "# Drop the rows with US and State level data\n",
    "df_land_area = df_land_area[df_land_area.Areaname != 'UNITED STATES']\n",
    "df_land_area = df_land_area[~df_land_area['Areaname'].isin(states1)].reset_index(drop=True)\n",
    "df_land_area.head()"
   ]
  },
  {
   "cell_type": "code",
   "execution_count": 12,
   "metadata": {},
   "outputs": [
    {
     "data": {
      "text/plain": [
       "[]"
      ]
     },
     "execution_count": 12,
     "metadata": {},
     "output_type": "execute_result"
    }
   ],
   "source": [
    "[row for row in df_land_area.duplicated(keep='last') if row == True]"
   ]
  },
  {
   "cell_type": "markdown",
   "metadata": {},
   "source": [
    "## 1.3 Verify Missing Data"
   ]
  },
  {
   "cell_type": "code",
   "execution_count": 13,
   "metadata": {},
   "outputs": [
    {
     "name": "stdout",
     "output_type": "stream",
     "text": [
      "<class 'pandas.core.frame.DataFrame'>\n",
      "RangeIndex: 3147 entries, 0 to 3146\n",
      "Data columns (total 3 columns):\n",
      " #   Column      Non-Null Count  Dtype  \n",
      "---  ------      --------------  -----  \n",
      " 0   Areaname    3147 non-null   object \n",
      " 1   FIPStxt     3147 non-null   int64  \n",
      " 2   LND110210D  3147 non-null   float64\n",
      "dtypes: float64(1), int64(1), object(1)\n",
      "memory usage: 73.9+ KB\n"
     ]
    }
   ],
   "source": [
    "df_land_area.info()  "
   ]
  },
  {
   "cell_type": "markdown",
   "metadata": {},
   "source": [
    "## 2.1 - Read Population Estimate (2016 - 2019)"
   ]
  },
  {
   "cell_type": "code",
   "execution_count": 14,
   "metadata": {},
   "outputs": [
    {
     "data": {
      "text/html": [
       "<div>\n",
       "<style scoped>\n",
       "    .dataframe tbody tr th:only-of-type {\n",
       "        vertical-align: middle;\n",
       "    }\n",
       "\n",
       "    .dataframe tbody tr th {\n",
       "        vertical-align: top;\n",
       "    }\n",
       "\n",
       "    .dataframe thead th {\n",
       "        text-align: right;\n",
       "    }\n",
       "</style>\n",
       "<table border=\"1\" class=\"dataframe\">\n",
       "  <thead>\n",
       "    <tr style=\"text-align: right;\">\n",
       "      <th></th>\n",
       "      <th>FIPStxt</th>\n",
       "      <th>State</th>\n",
       "      <th>Area_Name</th>\n",
       "      <th>Rural-urban_Continuum Code_2003</th>\n",
       "      <th>Rural-urban_Continuum Code_2013</th>\n",
       "      <th>Urban_Influence_Code_2003</th>\n",
       "      <th>Urban_Influence_Code_2013</th>\n",
       "      <th>Economic_typology_2015</th>\n",
       "      <th>CENSUS_2010_POP</th>\n",
       "      <th>ESTIMATES_BASE_2010</th>\n",
       "      <th>...</th>\n",
       "      <th>R_DOMESTIC_MIG_2019</th>\n",
       "      <th>R_NET_MIG_2011</th>\n",
       "      <th>R_NET_MIG_2012</th>\n",
       "      <th>R_NET_MIG_2013</th>\n",
       "      <th>R_NET_MIG_2014</th>\n",
       "      <th>R_NET_MIG_2015</th>\n",
       "      <th>R_NET_MIG_2016</th>\n",
       "      <th>R_NET_MIG_2017</th>\n",
       "      <th>R_NET_MIG_2018</th>\n",
       "      <th>R_NET_MIG_2019</th>\n",
       "    </tr>\n",
       "  </thead>\n",
       "  <tbody>\n",
       "    <tr>\n",
       "      <th>0</th>\n",
       "      <td>0</td>\n",
       "      <td>US</td>\n",
       "      <td>United States</td>\n",
       "      <td>NaN</td>\n",
       "      <td>NaN</td>\n",
       "      <td>NaN</td>\n",
       "      <td>NaN</td>\n",
       "      <td>NaN</td>\n",
       "      <td>308745538</td>\n",
       "      <td>308758105</td>\n",
       "      <td>...</td>\n",
       "      <td>NaN</td>\n",
       "      <td>NaN</td>\n",
       "      <td>NaN</td>\n",
       "      <td>NaN</td>\n",
       "      <td>NaN</td>\n",
       "      <td>NaN</td>\n",
       "      <td>NaN</td>\n",
       "      <td>NaN</td>\n",
       "      <td>NaN</td>\n",
       "      <td>NaN</td>\n",
       "    </tr>\n",
       "    <tr>\n",
       "      <th>1</th>\n",
       "      <td>1000</td>\n",
       "      <td>AL</td>\n",
       "      <td>Alabama</td>\n",
       "      <td>NaN</td>\n",
       "      <td>NaN</td>\n",
       "      <td>NaN</td>\n",
       "      <td>NaN</td>\n",
       "      <td>NaN</td>\n",
       "      <td>4779736</td>\n",
       "      <td>4780125</td>\n",
       "      <td>...</td>\n",
       "      <td>1.917501</td>\n",
       "      <td>0.578434</td>\n",
       "      <td>1.186314</td>\n",
       "      <td>1.522549</td>\n",
       "      <td>0.563489</td>\n",
       "      <td>0.626357</td>\n",
       "      <td>0.745172</td>\n",
       "      <td>1.090366</td>\n",
       "      <td>1.773786</td>\n",
       "      <td>2.483744</td>\n",
       "    </tr>\n",
       "    <tr>\n",
       "      <th>2</th>\n",
       "      <td>1001</td>\n",
       "      <td>AL</td>\n",
       "      <td>Autauga County</td>\n",
       "      <td>2.0</td>\n",
       "      <td>2.0</td>\n",
       "      <td>2.0</td>\n",
       "      <td>2.0</td>\n",
       "      <td>0.0</td>\n",
       "      <td>54571</td>\n",
       "      <td>54597</td>\n",
       "      <td>...</td>\n",
       "      <td>4.847310</td>\n",
       "      <td>6.018182</td>\n",
       "      <td>-6.226119</td>\n",
       "      <td>-3.902226</td>\n",
       "      <td>1.970443</td>\n",
       "      <td>-1.712875</td>\n",
       "      <td>4.777171</td>\n",
       "      <td>0.849656</td>\n",
       "      <td>0.540916</td>\n",
       "      <td>4.560062</td>\n",
       "    </tr>\n",
       "    <tr>\n",
       "      <th>3</th>\n",
       "      <td>1003</td>\n",
       "      <td>AL</td>\n",
       "      <td>Baldwin County</td>\n",
       "      <td>4.0</td>\n",
       "      <td>3.0</td>\n",
       "      <td>5.0</td>\n",
       "      <td>2.0</td>\n",
       "      <td>5.0</td>\n",
       "      <td>182265</td>\n",
       "      <td>182265</td>\n",
       "      <td>...</td>\n",
       "      <td>24.017829</td>\n",
       "      <td>16.641870</td>\n",
       "      <td>17.488579</td>\n",
       "      <td>22.751474</td>\n",
       "      <td>20.184334</td>\n",
       "      <td>17.725964</td>\n",
       "      <td>21.279291</td>\n",
       "      <td>22.398256</td>\n",
       "      <td>24.727215</td>\n",
       "      <td>24.380567</td>\n",
       "    </tr>\n",
       "    <tr>\n",
       "      <th>4</th>\n",
       "      <td>1005</td>\n",
       "      <td>AL</td>\n",
       "      <td>Barbour County</td>\n",
       "      <td>6.0</td>\n",
       "      <td>6.0</td>\n",
       "      <td>6.0</td>\n",
       "      <td>6.0</td>\n",
       "      <td>3.0</td>\n",
       "      <td>27457</td>\n",
       "      <td>27455</td>\n",
       "      <td>...</td>\n",
       "      <td>-5.690302</td>\n",
       "      <td>0.292676</td>\n",
       "      <td>-6.897817</td>\n",
       "      <td>-8.132185</td>\n",
       "      <td>-5.140431</td>\n",
       "      <td>-15.724575</td>\n",
       "      <td>-18.238016</td>\n",
       "      <td>-24.998528</td>\n",
       "      <td>-8.754922</td>\n",
       "      <td>-5.165664</td>\n",
       "    </tr>\n",
       "  </tbody>\n",
       "</table>\n",
       "<p>5 rows × 165 columns</p>\n",
       "</div>"
      ],
      "text/plain": [
       "   FIPStxt State       Area_Name  Rural-urban_Continuum Code_2003  \\\n",
       "0        0    US   United States                              NaN   \n",
       "1     1000    AL         Alabama                              NaN   \n",
       "2     1001    AL  Autauga County                              2.0   \n",
       "3     1003    AL  Baldwin County                              4.0   \n",
       "4     1005    AL  Barbour County                              6.0   \n",
       "\n",
       "   Rural-urban_Continuum Code_2013  Urban_Influence_Code_2003  \\\n",
       "0                              NaN                        NaN   \n",
       "1                              NaN                        NaN   \n",
       "2                              2.0                        2.0   \n",
       "3                              3.0                        5.0   \n",
       "4                              6.0                        6.0   \n",
       "\n",
       "   Urban_Influence_Code_2013  Economic_typology_2015  CENSUS_2010_POP  \\\n",
       "0                        NaN                     NaN        308745538   \n",
       "1                        NaN                     NaN          4779736   \n",
       "2                        2.0                     0.0            54571   \n",
       "3                        2.0                     5.0           182265   \n",
       "4                        6.0                     3.0            27457   \n",
       "\n",
       "   ESTIMATES_BASE_2010  ...  R_DOMESTIC_MIG_2019  R_NET_MIG_2011  \\\n",
       "0            308758105  ...                  NaN             NaN   \n",
       "1              4780125  ...             1.917501        0.578434   \n",
       "2                54597  ...             4.847310        6.018182   \n",
       "3               182265  ...            24.017829       16.641870   \n",
       "4                27455  ...            -5.690302        0.292676   \n",
       "\n",
       "   R_NET_MIG_2012  R_NET_MIG_2013  R_NET_MIG_2014  R_NET_MIG_2015  \\\n",
       "0             NaN             NaN             NaN             NaN   \n",
       "1        1.186314        1.522549        0.563489        0.626357   \n",
       "2       -6.226119       -3.902226        1.970443       -1.712875   \n",
       "3       17.488579       22.751474       20.184334       17.725964   \n",
       "4       -6.897817       -8.132185       -5.140431      -15.724575   \n",
       "\n",
       "   R_NET_MIG_2016  R_NET_MIG_2017  R_NET_MIG_2018  R_NET_MIG_2019  \n",
       "0             NaN             NaN             NaN             NaN  \n",
       "1        0.745172        1.090366        1.773786        2.483744  \n",
       "2        4.777171        0.849656        0.540916        4.560062  \n",
       "3       21.279291       22.398256       24.727215       24.380567  \n",
       "4      -18.238016      -24.998528       -8.754922       -5.165664  \n",
       "\n",
       "[5 rows x 165 columns]"
      ]
     },
     "execution_count": 14,
     "metadata": {},
     "output_type": "execute_result"
    }
   ],
   "source": [
    "df_pop_est = pd.read_excel('https://www.ers.usda.gov/webdocs/DataFiles/48747/PopulationEstimates.xls', header=2)\n",
    "df_pop_est.head(5)"
   ]
  },
  {
   "cell_type": "code",
   "execution_count": 15,
   "metadata": {},
   "outputs": [
    {
     "data": {
      "text/plain": [
       "Index(['FIPStxt', 'State', 'Area_Name', 'Rural-urban_Continuum Code_2003',\n",
       "       'Rural-urban_Continuum Code_2013', 'Urban_Influence_Code_2003',\n",
       "       'Urban_Influence_Code_2013', 'Economic_typology_2015',\n",
       "       'CENSUS_2010_POP', 'ESTIMATES_BASE_2010', 'POP_ESTIMATE_2010',\n",
       "       'POP_ESTIMATE_2011', 'POP_ESTIMATE_2012', 'POP_ESTIMATE_2013',\n",
       "       'POP_ESTIMATE_2014', 'POP_ESTIMATE_2015', 'POP_ESTIMATE_2016',\n",
       "       'POP_ESTIMATE_2017', 'POP_ESTIMATE_2018', 'POP_ESTIMATE_2019'],\n",
       "      dtype='object')"
      ]
     },
     "execution_count": 15,
     "metadata": {},
     "output_type": "execute_result"
    }
   ],
   "source": [
    "df_pop_est.columns[0:20]"
   ]
  },
  {
   "cell_type": "markdown",
   "metadata": {},
   "source": [
    "## 2.2 Cleanup the columns\n",
    "Extract only the needed columns:\n",
    "- FIPStxt - FIPS code for state and county\n",
    "- State - state abbreviation\n",
    "- Area_Name - county\n",
    "- POP_ESTIMATE_2016 - population estimate for 2016\n",
    "- POP_ESTIMATE_2017 - population estimate for 2017\n",
    "- POP_ESTIMATE_2018 - population estimate for 2018\n",
    "- POP_ESTIMATE_2019 - population estimate for 2019"
   ]
  },
  {
   "cell_type": "code",
   "execution_count": 16,
   "metadata": {},
   "outputs": [
    {
     "data": {
      "text/html": [
       "<div>\n",
       "<style scoped>\n",
       "    .dataframe tbody tr th:only-of-type {\n",
       "        vertical-align: middle;\n",
       "    }\n",
       "\n",
       "    .dataframe tbody tr th {\n",
       "        vertical-align: top;\n",
       "    }\n",
       "\n",
       "    .dataframe thead th {\n",
       "        text-align: right;\n",
       "    }\n",
       "</style>\n",
       "<table border=\"1\" class=\"dataframe\">\n",
       "  <thead>\n",
       "    <tr style=\"text-align: right;\">\n",
       "      <th></th>\n",
       "      <th>FIPStxt</th>\n",
       "      <th>State</th>\n",
       "      <th>Area_Name</th>\n",
       "      <th>POP_ESTIMATE_2016</th>\n",
       "      <th>POP_ESTIMATE_2017</th>\n",
       "      <th>POP_ESTIMATE_2018</th>\n",
       "      <th>POP_ESTIMATE_2019</th>\n",
       "    </tr>\n",
       "  </thead>\n",
       "  <tbody>\n",
       "    <tr>\n",
       "      <th>0</th>\n",
       "      <td>0</td>\n",
       "      <td>US</td>\n",
       "      <td>United States</td>\n",
       "      <td>322941311</td>\n",
       "      <td>324985539</td>\n",
       "      <td>326687501</td>\n",
       "      <td>328239523</td>\n",
       "    </tr>\n",
       "    <tr>\n",
       "      <th>1</th>\n",
       "      <td>1000</td>\n",
       "      <td>AL</td>\n",
       "      <td>Alabama</td>\n",
       "      <td>4863525</td>\n",
       "      <td>4874486</td>\n",
       "      <td>4887681</td>\n",
       "      <td>4903185</td>\n",
       "    </tr>\n",
       "    <tr>\n",
       "      <th>2</th>\n",
       "      <td>1001</td>\n",
       "      <td>AL</td>\n",
       "      <td>Autauga County</td>\n",
       "      <td>55243</td>\n",
       "      <td>55390</td>\n",
       "      <td>55533</td>\n",
       "      <td>55869</td>\n",
       "    </tr>\n",
       "    <tr>\n",
       "      <th>3</th>\n",
       "      <td>1003</td>\n",
       "      <td>AL</td>\n",
       "      <td>Baldwin County</td>\n",
       "      <td>207601</td>\n",
       "      <td>212521</td>\n",
       "      <td>217855</td>\n",
       "      <td>223234</td>\n",
       "    </tr>\n",
       "    <tr>\n",
       "      <th>4</th>\n",
       "      <td>1005</td>\n",
       "      <td>AL</td>\n",
       "      <td>Barbour County</td>\n",
       "      <td>25806</td>\n",
       "      <td>25157</td>\n",
       "      <td>24872</td>\n",
       "      <td>24686</td>\n",
       "    </tr>\n",
       "  </tbody>\n",
       "</table>\n",
       "</div>"
      ],
      "text/plain": [
       "   FIPStxt State       Area_Name  POP_ESTIMATE_2016  POP_ESTIMATE_2017  \\\n",
       "0        0    US   United States          322941311          324985539   \n",
       "1     1000    AL         Alabama            4863525            4874486   \n",
       "2     1001    AL  Autauga County              55243              55390   \n",
       "3     1003    AL  Baldwin County             207601             212521   \n",
       "4     1005    AL  Barbour County              25806              25157   \n",
       "\n",
       "   POP_ESTIMATE_2018  POP_ESTIMATE_2019  \n",
       "0          326687501          328239523  \n",
       "1            4887681            4903185  \n",
       "2              55533              55869  \n",
       "3             217855             223234  \n",
       "4              24872              24686  "
      ]
     },
     "execution_count": 16,
     "metadata": {},
     "output_type": "execute_result"
    }
   ],
   "source": [
    "df_pop_16_19 = df_pop_est[['FIPStxt', 'State', 'Area_Name','POP_ESTIMATE_2016',\n",
    "       'POP_ESTIMATE_2017', 'POP_ESTIMATE_2018', 'POP_ESTIMATE_2019']]\n",
    "df_pop_16_19.head()"
   ]
  },
  {
   "cell_type": "code",
   "execution_count": 17,
   "metadata": {},
   "outputs": [
    {
     "name": "stdout",
     "output_type": "stream",
     "text": [
      "These are the number of states 53\n",
      "These are the states: \n",
      "['US' 'AL' 'AK' 'AZ' 'AR' 'CA' 'CO' 'CT' 'DE' 'DC' 'FL' 'GA' 'HI' 'ID'\n",
      " 'IL' 'IN' 'IA' 'KS' 'KY' 'LA' 'ME' 'MD' 'MA' 'MI' 'MN' 'MS' 'MO' 'MT'\n",
      " 'NE' 'NV' 'NH' 'NJ' 'NM' 'NY' 'NC' 'ND' 'OH' 'OK' 'OR' 'PA' 'RI' 'SC'\n",
      " 'SD' 'TN' 'TX' 'UT' 'VT' 'VA' 'WA' 'WV' 'WI' 'WY' 'PR']\n"
     ]
    }
   ],
   "source": [
    "# Check the number of states\n",
    "print(\"These are the number of states\", len(df_pop_16_19['State'].unique()))\n",
    "print(\"These are the states: \")\n",
    "print(df_pop_16_19['State'].unique())"
   ]
  },
  {
   "cell_type": "code",
   "execution_count": 18,
   "metadata": {},
   "outputs": [
    {
     "data": {
      "text/html": [
       "<div>\n",
       "<style scoped>\n",
       "    .dataframe tbody tr th:only-of-type {\n",
       "        vertical-align: middle;\n",
       "    }\n",
       "\n",
       "    .dataframe tbody tr th {\n",
       "        vertical-align: top;\n",
       "    }\n",
       "\n",
       "    .dataframe thead th {\n",
       "        text-align: right;\n",
       "    }\n",
       "</style>\n",
       "<table border=\"1\" class=\"dataframe\">\n",
       "  <thead>\n",
       "    <tr style=\"text-align: right;\">\n",
       "      <th></th>\n",
       "      <th>FIPStxt</th>\n",
       "      <th>State</th>\n",
       "      <th>Area_Name</th>\n",
       "      <th>POP_ESTIMATE_2016</th>\n",
       "      <th>POP_ESTIMATE_2017</th>\n",
       "      <th>POP_ESTIMATE_2018</th>\n",
       "      <th>POP_ESTIMATE_2019</th>\n",
       "    </tr>\n",
       "  </thead>\n",
       "  <tbody>\n",
       "    <tr>\n",
       "      <th>0</th>\n",
       "      <td>0</td>\n",
       "      <td>US</td>\n",
       "      <td>United States</td>\n",
       "      <td>322941311</td>\n",
       "      <td>324985539</td>\n",
       "      <td>326687501</td>\n",
       "      <td>328239523</td>\n",
       "    </tr>\n",
       "  </tbody>\n",
       "</table>\n",
       "</div>"
      ],
      "text/plain": [
       "   FIPStxt State      Area_Name  POP_ESTIMATE_2016  POP_ESTIMATE_2017  \\\n",
       "0        0    US  United States          322941311          324985539   \n",
       "\n",
       "   POP_ESTIMATE_2018  POP_ESTIMATE_2019  \n",
       "0          326687501          328239523  "
      ]
     },
     "execution_count": 18,
     "metadata": {},
     "output_type": "execute_result"
    }
   ],
   "source": [
    "# Save the US and All states in seperate files from the county files \n",
    "us_pop_16_19 = df_pop_16_19[df_pop_16_19.State == 'US']\n",
    "us_pop_16_19"
   ]
  },
  {
   "cell_type": "code",
   "execution_count": 19,
   "metadata": {},
   "outputs": [
    {
     "data": {
      "text/html": [
       "<div>\n",
       "<style scoped>\n",
       "    .dataframe tbody tr th:only-of-type {\n",
       "        vertical-align: middle;\n",
       "    }\n",
       "\n",
       "    .dataframe tbody tr th {\n",
       "        vertical-align: top;\n",
       "    }\n",
       "\n",
       "    .dataframe thead th {\n",
       "        text-align: right;\n",
       "    }\n",
       "</style>\n",
       "<table border=\"1\" class=\"dataframe\">\n",
       "  <thead>\n",
       "    <tr style=\"text-align: right;\">\n",
       "      <th></th>\n",
       "      <th>FIPStxt</th>\n",
       "      <th>State</th>\n",
       "      <th>Area_Name</th>\n",
       "      <th>POP_ESTIMATE_2016</th>\n",
       "      <th>POP_ESTIMATE_2017</th>\n",
       "      <th>POP_ESTIMATE_2018</th>\n",
       "      <th>POP_ESTIMATE_2019</th>\n",
       "    </tr>\n",
       "  </thead>\n",
       "  <tbody>\n",
       "    <tr>\n",
       "      <th>558</th>\n",
       "      <td>15000</td>\n",
       "      <td>HI</td>\n",
       "      <td>Hawaii</td>\n",
       "      <td>1427559</td>\n",
       "      <td>1424393</td>\n",
       "      <td>1420593</td>\n",
       "      <td>1415872</td>\n",
       "    </tr>\n",
       "    <tr>\n",
       "      <th>398</th>\n",
       "      <td>13000</td>\n",
       "      <td>GA</td>\n",
       "      <td>Georgia</td>\n",
       "      <td>10301890</td>\n",
       "      <td>10410330</td>\n",
       "      <td>10511131</td>\n",
       "      <td>10617423</td>\n",
       "    </tr>\n",
       "    <tr>\n",
       "      <th>905</th>\n",
       "      <td>20000</td>\n",
       "      <td>KS</td>\n",
       "      <td>Kansas</td>\n",
       "      <td>2910844</td>\n",
       "      <td>2908718</td>\n",
       "      <td>2911359</td>\n",
       "      <td>2913314</td>\n",
       "    </tr>\n",
       "    <tr>\n",
       "      <th>2357</th>\n",
       "      <td>45000</td>\n",
       "      <td>SC</td>\n",
       "      <td>South Carolina</td>\n",
       "      <td>4957968</td>\n",
       "      <td>5021268</td>\n",
       "      <td>5084156</td>\n",
       "      <td>5148714</td>\n",
       "    </tr>\n",
       "    <tr>\n",
       "      <th>99</th>\n",
       "      <td>4000</td>\n",
       "      <td>AZ</td>\n",
       "      <td>Arizona</td>\n",
       "      <td>6941072</td>\n",
       "      <td>7044008</td>\n",
       "      <td>7158024</td>\n",
       "      <td>7278717</td>\n",
       "    </tr>\n",
       "  </tbody>\n",
       "</table>\n",
       "</div>"
      ],
      "text/plain": [
       "      FIPStxt State       Area_Name  POP_ESTIMATE_2016  POP_ESTIMATE_2017  \\\n",
       "558     15000    HI          Hawaii            1427559            1424393   \n",
       "398     13000    GA         Georgia           10301890           10410330   \n",
       "905     20000    KS          Kansas            2910844            2908718   \n",
       "2357    45000    SC  South Carolina            4957968            5021268   \n",
       "99       4000    AZ         Arizona            6941072            7044008   \n",
       "\n",
       "      POP_ESTIMATE_2018  POP_ESTIMATE_2019  \n",
       "558             1420593            1415872  \n",
       "398            10511131           10617423  \n",
       "905             2911359            2913314  \n",
       "2357            5084156            5148714  \n",
       "99              7158024            7278717  "
      ]
     },
     "execution_count": 19,
     "metadata": {},
     "output_type": "execute_result"
    }
   ],
   "source": [
    "all_states_pop_16_19 = df_pop_16_19[df_pop_16_19['Area_Name'].isin(states)]\n",
    "all_states_pop_16_19.sample(5)"
   ]
  },
  {
   "cell_type": "code",
   "execution_count": 20,
   "metadata": {},
   "outputs": [
    {
     "data": {
      "text/html": [
       "<div>\n",
       "<style scoped>\n",
       "    .dataframe tbody tr th:only-of-type {\n",
       "        vertical-align: middle;\n",
       "    }\n",
       "\n",
       "    .dataframe tbody tr th {\n",
       "        vertical-align: top;\n",
       "    }\n",
       "\n",
       "    .dataframe thead th {\n",
       "        text-align: right;\n",
       "    }\n",
       "</style>\n",
       "<table border=\"1\" class=\"dataframe\">\n",
       "  <thead>\n",
       "    <tr style=\"text-align: right;\">\n",
       "      <th></th>\n",
       "      <th>FIPStxt</th>\n",
       "      <th>State</th>\n",
       "      <th>Area_Name</th>\n",
       "      <th>POP_ESTIMATE_2016</th>\n",
       "      <th>POP_ESTIMATE_2017</th>\n",
       "      <th>POP_ESTIMATE_2018</th>\n",
       "      <th>POP_ESTIMATE_2019</th>\n",
       "    </tr>\n",
       "  </thead>\n",
       "  <tbody>\n",
       "    <tr>\n",
       "      <th>0</th>\n",
       "      <td>1001</td>\n",
       "      <td>AL</td>\n",
       "      <td>Autauga County</td>\n",
       "      <td>55243</td>\n",
       "      <td>55390</td>\n",
       "      <td>55533</td>\n",
       "      <td>55869</td>\n",
       "    </tr>\n",
       "    <tr>\n",
       "      <th>1</th>\n",
       "      <td>1003</td>\n",
       "      <td>AL</td>\n",
       "      <td>Baldwin County</td>\n",
       "      <td>207601</td>\n",
       "      <td>212521</td>\n",
       "      <td>217855</td>\n",
       "      <td>223234</td>\n",
       "    </tr>\n",
       "    <tr>\n",
       "      <th>2</th>\n",
       "      <td>1005</td>\n",
       "      <td>AL</td>\n",
       "      <td>Barbour County</td>\n",
       "      <td>25806</td>\n",
       "      <td>25157</td>\n",
       "      <td>24872</td>\n",
       "      <td>24686</td>\n",
       "    </tr>\n",
       "    <tr>\n",
       "      <th>3</th>\n",
       "      <td>1007</td>\n",
       "      <td>AL</td>\n",
       "      <td>Bibb County</td>\n",
       "      <td>22586</td>\n",
       "      <td>22550</td>\n",
       "      <td>22367</td>\n",
       "      <td>22394</td>\n",
       "    </tr>\n",
       "    <tr>\n",
       "      <th>4</th>\n",
       "      <td>1009</td>\n",
       "      <td>AL</td>\n",
       "      <td>Blount County</td>\n",
       "      <td>57494</td>\n",
       "      <td>57787</td>\n",
       "      <td>57771</td>\n",
       "      <td>57826</td>\n",
       "    </tr>\n",
       "  </tbody>\n",
       "</table>\n",
       "</div>"
      ],
      "text/plain": [
       "   FIPStxt State       Area_Name  POP_ESTIMATE_2016  POP_ESTIMATE_2017  \\\n",
       "0     1001    AL  Autauga County              55243              55390   \n",
       "1     1003    AL  Baldwin County             207601             212521   \n",
       "2     1005    AL  Barbour County              25806              25157   \n",
       "3     1007    AL     Bibb County              22586              22550   \n",
       "4     1009    AL   Blount County              57494              57787   \n",
       "\n",
       "   POP_ESTIMATE_2018  POP_ESTIMATE_2019  \n",
       "0              55533              55869  \n",
       "1             217855             223234  \n",
       "2              24872              24686  \n",
       "3              22367              22394  \n",
       "4              57771              57826  "
      ]
     },
     "execution_count": 20,
     "metadata": {},
     "output_type": "execute_result"
    }
   ],
   "source": [
    "# Drop the rows with US, one District of Columbia and State level data\n",
    "df_pop_16_19 = df_pop_16_19[df_pop_16_19.State != 'US']\n",
    "df_pop_16_19= df_pop_16_19[df_pop_16_19.State != 'PR']\n",
    "df_pop_16_19 = df_pop_16_19[~df_pop_16_19['Area_Name'].isin(states)].reset_index(drop=True)\n",
    "df_pop_16_19.head()"
   ]
  },
  {
   "cell_type": "code",
   "execution_count": 21,
   "metadata": {},
   "outputs": [
    {
     "data": {
      "text/plain": [
       "[]"
      ]
     },
     "execution_count": 21,
     "metadata": {},
     "output_type": "execute_result"
    }
   ],
   "source": [
    "# Find and drop duplicate rows\n",
    "[row for row in df_pop_16_19.duplicated(keep='last') if row == True]"
   ]
  },
  {
   "cell_type": "markdown",
   "metadata": {},
   "source": [
    "## 2.3 Verify Missing Data"
   ]
  },
  {
   "cell_type": "code",
   "execution_count": 22,
   "metadata": {},
   "outputs": [
    {
     "name": "stdout",
     "output_type": "stream",
     "text": [
      "<class 'pandas.core.frame.DataFrame'>\n",
      "RangeIndex: 3143 entries, 0 to 3142\n",
      "Data columns (total 7 columns):\n",
      " #   Column             Non-Null Count  Dtype \n",
      "---  ------             --------------  ----- \n",
      " 0   FIPStxt            3143 non-null   int64 \n",
      " 1   State              3143 non-null   object\n",
      " 2   Area_Name          3143 non-null   object\n",
      " 3   POP_ESTIMATE_2016  3143 non-null   int64 \n",
      " 4   POP_ESTIMATE_2017  3143 non-null   int64 \n",
      " 5   POP_ESTIMATE_2018  3143 non-null   int64 \n",
      " 6   POP_ESTIMATE_2019  3143 non-null   int64 \n",
      "dtypes: int64(5), object(2)\n",
      "memory usage: 172.0+ KB\n"
     ]
    }
   ],
   "source": [
    "df_pop_16_19.info()"
   ]
  },
  {
   "cell_type": "code",
   "execution_count": 23,
   "metadata": {},
   "outputs": [
    {
     "name": "stdout",
     "output_type": "stream",
     "text": [
      "There are  51  states.\n"
     ]
    },
    {
     "data": {
      "text/plain": [
       "array(['AL', 'AK', 'AZ', 'AR', 'CA', 'CO', 'CT', 'DE', 'DC', 'FL', 'GA',\n",
       "       'HI', 'ID', 'IL', 'IN', 'IA', 'KS', 'KY', 'LA', 'ME', 'MD', 'MA',\n",
       "       'MI', 'MN', 'MS', 'MO', 'MT', 'NE', 'NV', 'NH', 'NJ', 'NM', 'NY',\n",
       "       'NC', 'ND', 'OH', 'OK', 'OR', 'PA', 'RI', 'SC', 'SD', 'TN', 'TX',\n",
       "       'UT', 'VT', 'VA', 'WA', 'WV', 'WI', 'WY'], dtype=object)"
      ]
     },
     "execution_count": 23,
     "metadata": {},
     "output_type": "execute_result"
    }
   ],
   "source": [
    "print(\"There are \", len(df_pop_16_19['State'].unique()), \" states.\")\n",
    "df_pop_16_19.State.unique()   "
   ]
  },
  {
   "cell_type": "markdown",
   "metadata": {},
   "source": [
    "This record contains 51 states which includes District of Columbia; Puerto Rico is excluded"
   ]
  },
  {
   "cell_type": "markdown",
   "metadata": {},
   "source": [
    "## 3.1 Read Population (2020)"
   ]
  },
  {
   "cell_type": "code",
   "execution_count": 24,
   "metadata": {},
   "outputs": [
    {
     "data": {
      "text/html": [
       "<div>\n",
       "<style scoped>\n",
       "    .dataframe tbody tr th:only-of-type {\n",
       "        vertical-align: middle;\n",
       "    }\n",
       "\n",
       "    .dataframe tbody tr th {\n",
       "        vertical-align: top;\n",
       "    }\n",
       "\n",
       "    .dataframe thead th {\n",
       "        text-align: right;\n",
       "    }\n",
       "</style>\n",
       "<table border=\"1\" class=\"dataframe\">\n",
       "  <thead>\n",
       "    <tr style=\"text-align: right;\">\n",
       "      <th></th>\n",
       "      <th>FIPStxt</th>\n",
       "      <th>State</th>\n",
       "      <th>Area name</th>\n",
       "      <th>Rural-urban continuum code 2013</th>\n",
       "      <th>Attribute</th>\n",
       "      <th>Value</th>\n",
       "    </tr>\n",
       "  </thead>\n",
       "  <tbody>\n",
       "    <tr>\n",
       "      <th>0</th>\n",
       "      <td>0</td>\n",
       "      <td>US</td>\n",
       "      <td>United States</td>\n",
       "      <td>NaN</td>\n",
       "      <td>Population 1990</td>\n",
       "      <td>248790925</td>\n",
       "    </tr>\n",
       "    <tr>\n",
       "      <th>1</th>\n",
       "      <td>0</td>\n",
       "      <td>US</td>\n",
       "      <td>United States</td>\n",
       "      <td>NaN</td>\n",
       "      <td>Population 2000</td>\n",
       "      <td>281424600</td>\n",
       "    </tr>\n",
       "    <tr>\n",
       "      <th>2</th>\n",
       "      <td>0</td>\n",
       "      <td>US</td>\n",
       "      <td>United States</td>\n",
       "      <td>NaN</td>\n",
       "      <td>Population 2010</td>\n",
       "      <td>308745538</td>\n",
       "    </tr>\n",
       "    <tr>\n",
       "      <th>3</th>\n",
       "      <td>0</td>\n",
       "      <td>US</td>\n",
       "      <td>United States</td>\n",
       "      <td>NaN</td>\n",
       "      <td>Population 2020</td>\n",
       "      <td>331449281</td>\n",
       "    </tr>\n",
       "    <tr>\n",
       "      <th>4</th>\n",
       "      <td>1000</td>\n",
       "      <td>AL</td>\n",
       "      <td>Alabama</td>\n",
       "      <td>NaN</td>\n",
       "      <td>Population 1990</td>\n",
       "      <td>4040389</td>\n",
       "    </tr>\n",
       "    <tr>\n",
       "      <th>5</th>\n",
       "      <td>1000</td>\n",
       "      <td>AL</td>\n",
       "      <td>Alabama</td>\n",
       "      <td>NaN</td>\n",
       "      <td>Population 2000</td>\n",
       "      <td>4447207</td>\n",
       "    </tr>\n",
       "    <tr>\n",
       "      <th>6</th>\n",
       "      <td>1000</td>\n",
       "      <td>AL</td>\n",
       "      <td>Alabama</td>\n",
       "      <td>NaN</td>\n",
       "      <td>Population 2010</td>\n",
       "      <td>4779736</td>\n",
       "    </tr>\n",
       "    <tr>\n",
       "      <th>7</th>\n",
       "      <td>1000</td>\n",
       "      <td>AL</td>\n",
       "      <td>Alabama</td>\n",
       "      <td>NaN</td>\n",
       "      <td>Population 2020</td>\n",
       "      <td>5024279</td>\n",
       "    </tr>\n",
       "    <tr>\n",
       "      <th>8</th>\n",
       "      <td>1001</td>\n",
       "      <td>AL</td>\n",
       "      <td>Autauga County</td>\n",
       "      <td>2.0</td>\n",
       "      <td>Population 1990</td>\n",
       "      <td>34222</td>\n",
       "    </tr>\n",
       "    <tr>\n",
       "      <th>9</th>\n",
       "      <td>1001</td>\n",
       "      <td>AL</td>\n",
       "      <td>Autauga County</td>\n",
       "      <td>2.0</td>\n",
       "      <td>Population 2000</td>\n",
       "      <td>43751</td>\n",
       "    </tr>\n",
       "  </tbody>\n",
       "</table>\n",
       "</div>"
      ],
      "text/plain": [
       "   FIPStxt State       Area name  Rural-urban continuum code 2013  \\\n",
       "0        0    US   United States                              NaN   \n",
       "1        0    US   United States                              NaN   \n",
       "2        0    US   United States                              NaN   \n",
       "3        0    US   United States                              NaN   \n",
       "4     1000    AL         Alabama                              NaN   \n",
       "5     1000    AL         Alabama                              NaN   \n",
       "6     1000    AL         Alabama                              NaN   \n",
       "7     1000    AL         Alabama                              NaN   \n",
       "8     1001    AL  Autauga County                              2.0   \n",
       "9     1001    AL  Autauga County                              2.0   \n",
       "\n",
       "         Attribute      Value  \n",
       "0  Population 1990  248790925  \n",
       "1  Population 2000  281424600  \n",
       "2  Population 2010  308745538  \n",
       "3  Population 2020  331449281  \n",
       "4  Population 1990    4040389  \n",
       "5  Population 2000    4447207  \n",
       "6  Population 2010    4779736  \n",
       "7  Population 2020    5024279  \n",
       "8  Population 1990      34222  \n",
       "9  Population 2000      43751  "
      ]
     },
     "execution_count": 24,
     "metadata": {},
     "output_type": "execute_result"
    }
   ],
   "source": [
    "df_pop_20 = pd.read_csv('https://www.ers.usda.gov/webdocs/DataFiles/48747/PopulationEstimates.csv?v=390.6')\n",
    "df_pop_20.head(10)"
   ]
  },
  {
   "cell_type": "markdown",
   "metadata": {},
   "source": [
    "## 3.2 Cleanup the columns"
   ]
  },
  {
   "cell_type": "code",
   "execution_count": 25,
   "metadata": {},
   "outputs": [
    {
     "data": {
      "text/plain": [
       "Index(['FIPStxt', 'State', 'Area name', 'Rural-urban continuum code 2013',\n",
       "       'Attribute', 'Value'],\n",
       "      dtype='object')"
      ]
     },
     "execution_count": 25,
     "metadata": {},
     "output_type": "execute_result"
    }
   ],
   "source": [
    "# Identify the columns\n",
    "df_pop_20.columns"
   ]
  },
  {
   "cell_type": "code",
   "execution_count": 26,
   "metadata": {},
   "outputs": [
    {
     "data": {
      "text/plain": [
       "array(['Population 1990', 'Population 2000', 'Population 2010',\n",
       "       'Population 2020'], dtype=object)"
      ]
     },
     "execution_count": 26,
     "metadata": {},
     "output_type": "execute_result"
    }
   ],
   "source": [
    "# Identify the unique contents of Attribute\n",
    "df_pop_20['Attribute'].unique()"
   ]
  },
  {
   "cell_type": "code",
   "execution_count": 27,
   "metadata": {},
   "outputs": [
    {
     "data": {
      "text/html": [
       "<div>\n",
       "<style scoped>\n",
       "    .dataframe tbody tr th:only-of-type {\n",
       "        vertical-align: middle;\n",
       "    }\n",
       "\n",
       "    .dataframe tbody tr th {\n",
       "        vertical-align: top;\n",
       "    }\n",
       "\n",
       "    .dataframe thead th {\n",
       "        text-align: right;\n",
       "    }\n",
       "</style>\n",
       "<table border=\"1\" class=\"dataframe\">\n",
       "  <thead>\n",
       "    <tr style=\"text-align: right;\">\n",
       "      <th></th>\n",
       "      <th>FIPStxt</th>\n",
       "      <th>State</th>\n",
       "      <th>Area name</th>\n",
       "      <th>Rural-urban continuum code 2013</th>\n",
       "      <th>Attribute</th>\n",
       "      <th>Value</th>\n",
       "    </tr>\n",
       "  </thead>\n",
       "  <tbody>\n",
       "    <tr>\n",
       "      <th>0</th>\n",
       "      <td>0</td>\n",
       "      <td>US</td>\n",
       "      <td>United States</td>\n",
       "      <td>NaN</td>\n",
       "      <td>Population 2020</td>\n",
       "      <td>331449281</td>\n",
       "    </tr>\n",
       "    <tr>\n",
       "      <th>1</th>\n",
       "      <td>1000</td>\n",
       "      <td>AL</td>\n",
       "      <td>Alabama</td>\n",
       "      <td>NaN</td>\n",
       "      <td>Population 2020</td>\n",
       "      <td>5024279</td>\n",
       "    </tr>\n",
       "    <tr>\n",
       "      <th>2</th>\n",
       "      <td>1001</td>\n",
       "      <td>AL</td>\n",
       "      <td>Autauga County</td>\n",
       "      <td>2.0</td>\n",
       "      <td>Population 2020</td>\n",
       "      <td>58805</td>\n",
       "    </tr>\n",
       "    <tr>\n",
       "      <th>3</th>\n",
       "      <td>1003</td>\n",
       "      <td>AL</td>\n",
       "      <td>Baldwin County</td>\n",
       "      <td>3.0</td>\n",
       "      <td>Population 2020</td>\n",
       "      <td>231767</td>\n",
       "    </tr>\n",
       "    <tr>\n",
       "      <th>4</th>\n",
       "      <td>1005</td>\n",
       "      <td>AL</td>\n",
       "      <td>Barbour County</td>\n",
       "      <td>6.0</td>\n",
       "      <td>Population 2020</td>\n",
       "      <td>25223</td>\n",
       "    </tr>\n",
       "    <tr>\n",
       "      <th>...</th>\n",
       "      <td>...</td>\n",
       "      <td>...</td>\n",
       "      <td>...</td>\n",
       "      <td>...</td>\n",
       "      <td>...</td>\n",
       "      <td>...</td>\n",
       "    </tr>\n",
       "    <tr>\n",
       "      <th>3269</th>\n",
       "      <td>72145</td>\n",
       "      <td>PR</td>\n",
       "      <td>Vega Baja Municipio</td>\n",
       "      <td>1.0</td>\n",
       "      <td>Population 2020</td>\n",
       "      <td>54414</td>\n",
       "    </tr>\n",
       "    <tr>\n",
       "      <th>3270</th>\n",
       "      <td>72147</td>\n",
       "      <td>PR</td>\n",
       "      <td>Vieques Municipio</td>\n",
       "      <td>7.0</td>\n",
       "      <td>Population 2020</td>\n",
       "      <td>8249</td>\n",
       "    </tr>\n",
       "    <tr>\n",
       "      <th>3271</th>\n",
       "      <td>72149</td>\n",
       "      <td>PR</td>\n",
       "      <td>Villalba Municipio</td>\n",
       "      <td>2.0</td>\n",
       "      <td>Population 2020</td>\n",
       "      <td>22093</td>\n",
       "    </tr>\n",
       "    <tr>\n",
       "      <th>3272</th>\n",
       "      <td>72151</td>\n",
       "      <td>PR</td>\n",
       "      <td>Yabucoa Municipio</td>\n",
       "      <td>1.0</td>\n",
       "      <td>Population 2020</td>\n",
       "      <td>30426</td>\n",
       "    </tr>\n",
       "    <tr>\n",
       "      <th>3273</th>\n",
       "      <td>72153</td>\n",
       "      <td>PR</td>\n",
       "      <td>Yauco Municipio</td>\n",
       "      <td>2.0</td>\n",
       "      <td>Population 2020</td>\n",
       "      <td>34172</td>\n",
       "    </tr>\n",
       "  </tbody>\n",
       "</table>\n",
       "<p>3274 rows × 6 columns</p>\n",
       "</div>"
      ],
      "text/plain": [
       "      FIPStxt State            Area name  Rural-urban continuum code 2013  \\\n",
       "0           0    US        United States                              NaN   \n",
       "1        1000    AL              Alabama                              NaN   \n",
       "2        1001    AL       Autauga County                              2.0   \n",
       "3        1003    AL       Baldwin County                              3.0   \n",
       "4        1005    AL       Barbour County                              6.0   \n",
       "...       ...   ...                  ...                              ...   \n",
       "3269    72145    PR  Vega Baja Municipio                              1.0   \n",
       "3270    72147    PR    Vieques Municipio                              7.0   \n",
       "3271    72149    PR   Villalba Municipio                              2.0   \n",
       "3272    72151    PR    Yabucoa Municipio                              1.0   \n",
       "3273    72153    PR      Yauco Municipio                              2.0   \n",
       "\n",
       "            Attribute      Value  \n",
       "0     Population 2020  331449281  \n",
       "1     Population 2020    5024279  \n",
       "2     Population 2020      58805  \n",
       "3     Population 2020     231767  \n",
       "4     Population 2020      25223  \n",
       "...               ...        ...  \n",
       "3269  Population 2020      54414  \n",
       "3270  Population 2020       8249  \n",
       "3271  Population 2020      22093  \n",
       "3272  Population 2020      30426  \n",
       "3273  Population 2020      34172  \n",
       "\n",
       "[3274 rows x 6 columns]"
      ]
     },
     "execution_count": 27,
     "metadata": {},
     "output_type": "execute_result"
    }
   ],
   "source": [
    "# Before cleaning, the attribute column will only have Population 2000\n",
    "df_pop_20 = df_pop_20[df_pop_20.Attribute == 'Population 2020'].reset_index(drop=True)\n",
    "df_pop_20"
   ]
  },
  {
   "cell_type": "code",
   "execution_count": 28,
   "metadata": {},
   "outputs": [],
   "source": [
    "# Keep FIPStxt, State, Area_name, and value. \n",
    "df_pop_20 = df_pop_20[['FIPStxt', 'State', 'Area name', 'Value']]"
   ]
  },
  {
   "cell_type": "code",
   "execution_count": 29,
   "metadata": {},
   "outputs": [
    {
     "name": "stderr",
     "output_type": "stream",
     "text": [
      "C:\\Users\\Pc\\anaconda3\\lib\\site-packages\\pandas\\core\\frame.py:4296: SettingWithCopyWarning: \n",
      "A value is trying to be set on a copy of a slice from a DataFrame\n",
      "\n",
      "See the caveats in the documentation: https://pandas.pydata.org/pandas-docs/stable/user_guide/indexing.html#returning-a-view-versus-a-copy\n",
      "  return super().rename(\n"
     ]
    },
    {
     "data": {
      "text/html": [
       "<div>\n",
       "<style scoped>\n",
       "    .dataframe tbody tr th:only-of-type {\n",
       "        vertical-align: middle;\n",
       "    }\n",
       "\n",
       "    .dataframe tbody tr th {\n",
       "        vertical-align: top;\n",
       "    }\n",
       "\n",
       "    .dataframe thead th {\n",
       "        text-align: right;\n",
       "    }\n",
       "</style>\n",
       "<table border=\"1\" class=\"dataframe\">\n",
       "  <thead>\n",
       "    <tr style=\"text-align: right;\">\n",
       "      <th></th>\n",
       "      <th>FIPStxt</th>\n",
       "      <th>State</th>\n",
       "      <th>Area name</th>\n",
       "      <th>Pop_2020</th>\n",
       "    </tr>\n",
       "  </thead>\n",
       "  <tbody>\n",
       "    <tr>\n",
       "      <th>0</th>\n",
       "      <td>0</td>\n",
       "      <td>US</td>\n",
       "      <td>United States</td>\n",
       "      <td>331449281</td>\n",
       "    </tr>\n",
       "    <tr>\n",
       "      <th>1</th>\n",
       "      <td>1000</td>\n",
       "      <td>AL</td>\n",
       "      <td>Alabama</td>\n",
       "      <td>5024279</td>\n",
       "    </tr>\n",
       "    <tr>\n",
       "      <th>2</th>\n",
       "      <td>1001</td>\n",
       "      <td>AL</td>\n",
       "      <td>Autauga County</td>\n",
       "      <td>58805</td>\n",
       "    </tr>\n",
       "    <tr>\n",
       "      <th>3</th>\n",
       "      <td>1003</td>\n",
       "      <td>AL</td>\n",
       "      <td>Baldwin County</td>\n",
       "      <td>231767</td>\n",
       "    </tr>\n",
       "    <tr>\n",
       "      <th>4</th>\n",
       "      <td>1005</td>\n",
       "      <td>AL</td>\n",
       "      <td>Barbour County</td>\n",
       "      <td>25223</td>\n",
       "    </tr>\n",
       "  </tbody>\n",
       "</table>\n",
       "</div>"
      ],
      "text/plain": [
       "   FIPStxt State       Area name   Pop_2020\n",
       "0        0    US   United States  331449281\n",
       "1     1000    AL         Alabama    5024279\n",
       "2     1001    AL  Autauga County      58805\n",
       "3     1003    AL  Baldwin County     231767\n",
       "4     1005    AL  Barbour County      25223"
      ]
     },
     "execution_count": 29,
     "metadata": {},
     "output_type": "execute_result"
    }
   ],
   "source": [
    "# Rename Value to Pop2020\n",
    "df_pop_20.rename(columns = {'Value': 'Pop_2020'}, inplace = True)\n",
    "df_pop_20.head(5)"
   ]
  },
  {
   "cell_type": "code",
   "execution_count": 30,
   "metadata": {},
   "outputs": [
    {
     "data": {
      "text/html": [
       "<div>\n",
       "<style scoped>\n",
       "    .dataframe tbody tr th:only-of-type {\n",
       "        vertical-align: middle;\n",
       "    }\n",
       "\n",
       "    .dataframe tbody tr th {\n",
       "        vertical-align: top;\n",
       "    }\n",
       "\n",
       "    .dataframe thead th {\n",
       "        text-align: right;\n",
       "    }\n",
       "</style>\n",
       "<table border=\"1\" class=\"dataframe\">\n",
       "  <thead>\n",
       "    <tr style=\"text-align: right;\">\n",
       "      <th></th>\n",
       "      <th>FIPStxt</th>\n",
       "      <th>State</th>\n",
       "      <th>Area name</th>\n",
       "      <th>Pop_2020</th>\n",
       "    </tr>\n",
       "  </thead>\n",
       "  <tbody>\n",
       "    <tr>\n",
       "      <th>0</th>\n",
       "      <td>0</td>\n",
       "      <td>US</td>\n",
       "      <td>United States</td>\n",
       "      <td>331449281</td>\n",
       "    </tr>\n",
       "  </tbody>\n",
       "</table>\n",
       "</div>"
      ],
      "text/plain": [
       "   FIPStxt State      Area name   Pop_2020\n",
       "0        0    US  United States  331449281"
      ]
     },
     "execution_count": 30,
     "metadata": {},
     "output_type": "execute_result"
    }
   ],
   "source": [
    "# US population for 2020 \n",
    "us_pop_20 = df_pop_20[df_pop_20.State == 'US']\n",
    "us_pop_20"
   ]
  },
  {
   "cell_type": "code",
   "execution_count": 31,
   "metadata": {},
   "outputs": [
    {
     "data": {
      "text/plain": [
       "50"
      ]
     },
     "execution_count": 31,
     "metadata": {},
     "output_type": "execute_result"
    }
   ],
   "source": [
    "# Keep the all state population for 2020\n",
    "all_states_pop_20 = df_pop_20[df_pop_20['Area name'].isin(states)]\n",
    "len(all_states_pop_20)"
   ]
  },
  {
   "cell_type": "code",
   "execution_count": 32,
   "metadata": {},
   "outputs": [
    {
     "data": {
      "text/html": [
       "<div>\n",
       "<style scoped>\n",
       "    .dataframe tbody tr th:only-of-type {\n",
       "        vertical-align: middle;\n",
       "    }\n",
       "\n",
       "    .dataframe tbody tr th {\n",
       "        vertical-align: top;\n",
       "    }\n",
       "\n",
       "    .dataframe thead th {\n",
       "        text-align: right;\n",
       "    }\n",
       "</style>\n",
       "<table border=\"1\" class=\"dataframe\">\n",
       "  <thead>\n",
       "    <tr style=\"text-align: right;\">\n",
       "      <th></th>\n",
       "      <th>FIPStxt</th>\n",
       "      <th>State</th>\n",
       "      <th>Area name</th>\n",
       "      <th>Pop_2020</th>\n",
       "    </tr>\n",
       "  </thead>\n",
       "  <tbody>\n",
       "    <tr>\n",
       "      <th>0</th>\n",
       "      <td>1001</td>\n",
       "      <td>AL</td>\n",
       "      <td>Autauga County</td>\n",
       "      <td>58805</td>\n",
       "    </tr>\n",
       "    <tr>\n",
       "      <th>1</th>\n",
       "      <td>1003</td>\n",
       "      <td>AL</td>\n",
       "      <td>Baldwin County</td>\n",
       "      <td>231767</td>\n",
       "    </tr>\n",
       "    <tr>\n",
       "      <th>2</th>\n",
       "      <td>1005</td>\n",
       "      <td>AL</td>\n",
       "      <td>Barbour County</td>\n",
       "      <td>25223</td>\n",
       "    </tr>\n",
       "    <tr>\n",
       "      <th>3</th>\n",
       "      <td>1007</td>\n",
       "      <td>AL</td>\n",
       "      <td>Bibb County</td>\n",
       "      <td>22293</td>\n",
       "    </tr>\n",
       "    <tr>\n",
       "      <th>4</th>\n",
       "      <td>1009</td>\n",
       "      <td>AL</td>\n",
       "      <td>Blount County</td>\n",
       "      <td>59134</td>\n",
       "    </tr>\n",
       "  </tbody>\n",
       "</table>\n",
       "</div>"
      ],
      "text/plain": [
       "   FIPStxt State       Area name  Pop_2020\n",
       "0     1001    AL  Autauga County     58805\n",
       "1     1003    AL  Baldwin County    231767\n",
       "2     1005    AL  Barbour County     25223\n",
       "3     1007    AL     Bibb County     22293\n",
       "4     1009    AL   Blount County     59134"
      ]
     },
     "execution_count": 32,
     "metadata": {},
     "output_type": "execute_result"
    }
   ],
   "source": [
    "# Remove the United States, all state, Puerto Rico, and duplicates\n",
    "# Drop the rows with US, one District of Columbia and State level data\n",
    "df_pop_20 = df_pop_20[df_pop_20.State != 'US']\n",
    "df_pop_20 = df_pop_20[df_pop_20.State != 'PR']\n",
    "df_pop_20 = df_pop_20[~df_pop_20['Area name'].isin(states)].reset_index(drop=True)\n",
    "df_pop_20.head()"
   ]
  },
  {
   "cell_type": "code",
   "execution_count": 33,
   "metadata": {},
   "outputs": [
    {
     "data": {
      "text/plain": [
       "[]"
      ]
     },
     "execution_count": 33,
     "metadata": {},
     "output_type": "execute_result"
    }
   ],
   "source": [
    "# Find and drop duplicate rows\n",
    "[row for row in df_pop_20.duplicated(keep='last') if row == True]"
   ]
  },
  {
   "cell_type": "markdown",
   "metadata": {},
   "source": [
    "## 3.3 Verify Missing Data"
   ]
  },
  {
   "cell_type": "code",
   "execution_count": 34,
   "metadata": {},
   "outputs": [
    {
     "name": "stdout",
     "output_type": "stream",
     "text": [
      "<class 'pandas.core.frame.DataFrame'>\n",
      "RangeIndex: 3144 entries, 0 to 3143\n",
      "Data columns (total 4 columns):\n",
      " #   Column     Non-Null Count  Dtype \n",
      "---  ------     --------------  ----- \n",
      " 0   FIPStxt    3144 non-null   int64 \n",
      " 1   State      3144 non-null   object\n",
      " 2   Area name  3144 non-null   object\n",
      " 3   Pop_2020   3144 non-null   int64 \n",
      "dtypes: int64(2), object(2)\n",
      "memory usage: 98.4+ KB\n"
     ]
    }
   ],
   "source": [
    "df_pop_20.info()   "
   ]
  },
  {
   "cell_type": "markdown",
   "metadata": {},
   "source": [
    "## 4 Merge Land Area, Population 2016 to 2019, Population 2020\n",
    "### 4.1 Clean FIPS Codes\n",
    "Compare all the datasets FIPS cpde before joining to the dataframe"
   ]
  },
  {
   "cell_type": "code",
   "execution_count": 35,
   "metadata": {},
   "outputs": [
    {
     "name": "stdout",
     "output_type": "stream",
     "text": [
      "This is the number of unique FIPS code in land area:  3147\n"
     ]
    }
   ],
   "source": [
    "# Land area data's FIPS code\n",
    "print('This is the number of unique FIPS code in land area: ', len(df_land_area['FIPStxt'].unique()))"
   ]
  },
  {
   "cell_type": "code",
   "execution_count": 36,
   "metadata": {},
   "outputs": [
    {
     "name": "stdout",
     "output_type": "stream",
     "text": [
      "This is the number of unique FIPS code in population 2016-2019:  3143\n"
     ]
    }
   ],
   "source": [
    "# Population 2016-2019 data's FIPS code\n",
    "print('This is the number of unique FIPS code in population 2016-2019: ', len(df_pop_16_19.FIPStxt.unique()))"
   ]
  },
  {
   "cell_type": "code",
   "execution_count": 37,
   "metadata": {},
   "outputs": [
    {
     "name": "stdout",
     "output_type": "stream",
     "text": [
      "This is the number of unique FIPS code in population 2020:  3144\n"
     ]
    }
   ],
   "source": [
    "# Population 2020 data's FIPS code\n",
    "print('This is the number of unique FIPS code in population 2020: ', len(df_pop_20.FIPStxt.unique()))"
   ]
  },
  {
   "cell_type": "code",
   "execution_count": 38,
   "metadata": {},
   "outputs": [
    {
     "data": {
      "text/html": [
       "<div>\n",
       "<style scoped>\n",
       "    .dataframe tbody tr th:only-of-type {\n",
       "        vertical-align: middle;\n",
       "    }\n",
       "\n",
       "    .dataframe tbody tr th {\n",
       "        vertical-align: top;\n",
       "    }\n",
       "\n",
       "    .dataframe thead th {\n",
       "        text-align: right;\n",
       "    }\n",
       "</style>\n",
       "<table border=\"1\" class=\"dataframe\">\n",
       "  <thead>\n",
       "    <tr style=\"text-align: right;\">\n",
       "      <th></th>\n",
       "      <th>FIPStxt</th>\n",
       "      <th>State</th>\n",
       "      <th>Area name</th>\n",
       "      <th>Pop_2020</th>\n",
       "    </tr>\n",
       "  </thead>\n",
       "  <tbody>\n",
       "    <tr>\n",
       "      <th>72</th>\n",
       "      <td>2063</td>\n",
       "      <td>AK</td>\n",
       "      <td>Chugach Census Area</td>\n",
       "      <td>7102</td>\n",
       "    </tr>\n",
       "    <tr>\n",
       "      <th>73</th>\n",
       "      <td>2066</td>\n",
       "      <td>AK</td>\n",
       "      <td>Copper River Census Area</td>\n",
       "      <td>2617</td>\n",
       "    </tr>\n",
       "  </tbody>\n",
       "</table>\n",
       "</div>"
      ],
      "text/plain": [
       "    FIPStxt State                 Area name  Pop_2020\n",
       "72     2063    AK       Chugach Census Area      7102\n",
       "73     2066    AK  Copper River Census Area      2617"
      ]
     },
     "execution_count": 38,
     "metadata": {},
     "output_type": "execute_result"
    }
   ],
   "source": [
    "# Check the value in the Population 2020 but not in Population 2016-2019\n",
    "missing_pop_16_19 = df_pop_20[~df_pop_20.FIPStxt.isin(df_pop_16_19.FIPStxt.values)]\n",
    "missing_pop_16_19"
   ]
  },
  {
   "cell_type": "code",
   "execution_count": 39,
   "metadata": {},
   "outputs": [
    {
     "data": {
      "text/html": [
       "<div>\n",
       "<style scoped>\n",
       "    .dataframe tbody tr th:only-of-type {\n",
       "        vertical-align: middle;\n",
       "    }\n",
       "\n",
       "    .dataframe tbody tr th {\n",
       "        vertical-align: top;\n",
       "    }\n",
       "\n",
       "    .dataframe thead th {\n",
       "        text-align: right;\n",
       "    }\n",
       "</style>\n",
       "<table border=\"1\" class=\"dataframe\">\n",
       "  <thead>\n",
       "    <tr style=\"text-align: right;\">\n",
       "      <th></th>\n",
       "      <th>FIPStxt</th>\n",
       "      <th>State</th>\n",
       "      <th>Area_Name</th>\n",
       "      <th>POP_ESTIMATE_2016</th>\n",
       "      <th>POP_ESTIMATE_2017</th>\n",
       "      <th>POP_ESTIMATE_2018</th>\n",
       "      <th>POP_ESTIMATE_2019</th>\n",
       "    </tr>\n",
       "  </thead>\n",
       "  <tbody>\n",
       "    <tr>\n",
       "      <th>81</th>\n",
       "      <td>2158</td>\n",
       "      <td>AK</td>\n",
       "      <td>Kusilvak Census Area</td>\n",
       "      <td>8181</td>\n",
       "      <td>8236</td>\n",
       "      <td>8323</td>\n",
       "      <td>8314</td>\n",
       "    </tr>\n",
       "    <tr>\n",
       "      <th>2413</th>\n",
       "      <td>46102</td>\n",
       "      <td>SD</td>\n",
       "      <td>Oglala Lakota County</td>\n",
       "      <td>14425</td>\n",
       "      <td>14384</td>\n",
       "      <td>14331</td>\n",
       "      <td>14177</td>\n",
       "    </tr>\n",
       "  </tbody>\n",
       "</table>\n",
       "</div>"
      ],
      "text/plain": [
       "      FIPStxt State             Area_Name  POP_ESTIMATE_2016  \\\n",
       "81       2158    AK  Kusilvak Census Area               8181   \n",
       "2413    46102    SD  Oglala Lakota County              14425   \n",
       "\n",
       "      POP_ESTIMATE_2017  POP_ESTIMATE_2018  POP_ESTIMATE_2019  \n",
       "81                 8236               8323               8314  \n",
       "2413              14384              14331              14177  "
      ]
     },
     "execution_count": 39,
     "metadata": {},
     "output_type": "execute_result"
    }
   ],
   "source": [
    "# Check the value in the Population 2016-2019 but not in land area\n",
    "missing_pop_16_19_land = df_pop_16_19[~df_pop_16_19.FIPStxt.isin(df_land_area.FIPStxt.values)]\n",
    "missing_pop_16_19_land"
   ]
  },
  {
   "cell_type": "code",
   "execution_count": 40,
   "metadata": {},
   "outputs": [
    {
     "data": {
      "text/html": [
       "<div>\n",
       "<style scoped>\n",
       "    .dataframe tbody tr th:only-of-type {\n",
       "        vertical-align: middle;\n",
       "    }\n",
       "\n",
       "    .dataframe tbody tr th {\n",
       "        vertical-align: top;\n",
       "    }\n",
       "\n",
       "    .dataframe thead th {\n",
       "        text-align: right;\n",
       "    }\n",
       "</style>\n",
       "<table border=\"1\" class=\"dataframe\">\n",
       "  <thead>\n",
       "    <tr style=\"text-align: right;\">\n",
       "      <th></th>\n",
       "      <th>Areaname</th>\n",
       "      <th>FIPStxt</th>\n",
       "      <th>LND110210D</th>\n",
       "    </tr>\n",
       "  </thead>\n",
       "  <tbody>\n",
       "    <tr>\n",
       "      <th>91</th>\n",
       "      <td>Valdez-Cordova, AK</td>\n",
       "      <td>2261</td>\n",
       "      <td>34239.88</td>\n",
       "    </tr>\n",
       "    <tr>\n",
       "      <th>92</th>\n",
       "      <td>Wade Hampton, AK</td>\n",
       "      <td>2270</td>\n",
       "      <td>17081.43</td>\n",
       "    </tr>\n",
       "    <tr>\n",
       "      <th>1655</th>\n",
       "      <td>Yellowstone National Park, MT</td>\n",
       "      <td>30113</td>\n",
       "      <td>0.00</td>\n",
       "    </tr>\n",
       "    <tr>\n",
       "      <th>2419</th>\n",
       "      <td>Shannon, SD</td>\n",
       "      <td>46113</td>\n",
       "      <td>2093.90</td>\n",
       "    </tr>\n",
       "    <tr>\n",
       "      <th>2918</th>\n",
       "      <td>Bedford, VA</td>\n",
       "      <td>51515</td>\n",
       "      <td>6.88</td>\n",
       "    </tr>\n",
       "    <tr>\n",
       "      <th>2923</th>\n",
       "      <td>Clifton Forge, VA</td>\n",
       "      <td>51560</td>\n",
       "      <td>0.00</td>\n",
       "    </tr>\n",
       "    <tr>\n",
       "      <th>2951</th>\n",
       "      <td>South Boston, VA</td>\n",
       "      <td>51780</td>\n",
       "      <td>0.00</td>\n",
       "    </tr>\n",
       "  </tbody>\n",
       "</table>\n",
       "</div>"
      ],
      "text/plain": [
       "                           Areaname  FIPStxt  LND110210D\n",
       "91               Valdez-Cordova, AK     2261    34239.88\n",
       "92                 Wade Hampton, AK     2270    17081.43\n",
       "1655  Yellowstone National Park, MT    30113        0.00\n",
       "2419                    Shannon, SD    46113     2093.90\n",
       "2918                    Bedford, VA    51515        6.88\n",
       "2923              Clifton Forge, VA    51560        0.00\n",
       "2951               South Boston, VA    51780        0.00"
      ]
     },
     "execution_count": 40,
     "metadata": {},
     "output_type": "execute_result"
    }
   ],
   "source": [
    "# Check the value in the land but not in Population 2020\n",
    "missing_land_pop_20 = df_land_area[~df_land_area.FIPStxt.isin(df_pop_20.FIPStxt.values)]\n",
    "missing_land_pop_20"
   ]
  },
  {
   "cell_type": "code",
   "execution_count": 41,
   "metadata": {},
   "outputs": [
    {
     "data": {
      "text/html": [
       "<div>\n",
       "<style scoped>\n",
       "    .dataframe tbody tr th:only-of-type {\n",
       "        vertical-align: middle;\n",
       "    }\n",
       "\n",
       "    .dataframe tbody tr th {\n",
       "        vertical-align: top;\n",
       "    }\n",
       "\n",
       "    .dataframe thead th {\n",
       "        text-align: right;\n",
       "    }\n",
       "</style>\n",
       "<table border=\"1\" class=\"dataframe\">\n",
       "  <thead>\n",
       "    <tr style=\"text-align: right;\">\n",
       "      <th></th>\n",
       "      <th>FIPStxt</th>\n",
       "      <th>State</th>\n",
       "      <th>Area name</th>\n",
       "      <th>Pop_2020</th>\n",
       "    </tr>\n",
       "  </thead>\n",
       "  <tbody>\n",
       "    <tr>\n",
       "      <th>72</th>\n",
       "      <td>2063</td>\n",
       "      <td>AK</td>\n",
       "      <td>Chugach Census Area</td>\n",
       "      <td>7102</td>\n",
       "    </tr>\n",
       "    <tr>\n",
       "      <th>73</th>\n",
       "      <td>2066</td>\n",
       "      <td>AK</td>\n",
       "      <td>Copper River Census Area</td>\n",
       "      <td>2617</td>\n",
       "    </tr>\n",
       "    <tr>\n",
       "      <th>83</th>\n",
       "      <td>2158</td>\n",
       "      <td>AK</td>\n",
       "      <td>Kusilvak Census Area</td>\n",
       "      <td>8368</td>\n",
       "    </tr>\n",
       "    <tr>\n",
       "      <th>2414</th>\n",
       "      <td>46102</td>\n",
       "      <td>SD</td>\n",
       "      <td>Oglala Lakota County</td>\n",
       "      <td>13672</td>\n",
       "    </tr>\n",
       "  </tbody>\n",
       "</table>\n",
       "</div>"
      ],
      "text/plain": [
       "      FIPStxt State                 Area name  Pop_2020\n",
       "72       2063    AK       Chugach Census Area      7102\n",
       "73       2066    AK  Copper River Census Area      2617\n",
       "83       2158    AK      Kusilvak Census Area      8368\n",
       "2414    46102    SD      Oglala Lakota County     13672"
      ]
     },
     "execution_count": 41,
     "metadata": {},
     "output_type": "execute_result"
    }
   ],
   "source": [
    "# Check the value in the Population 2016-2019 but not in land area\n",
    "missing_pop_20_land = df_pop_20[~df_pop_20.FIPStxt.isin(df_land_area.FIPStxt.values)]\n",
    "missing_pop_20_land"
   ]
  },
  {
   "cell_type": "code",
   "execution_count": 42,
   "metadata": {},
   "outputs": [
    {
     "data": {
      "text/html": [
       "<div>\n",
       "<style scoped>\n",
       "    .dataframe tbody tr th:only-of-type {\n",
       "        vertical-align: middle;\n",
       "    }\n",
       "\n",
       "    .dataframe tbody tr th {\n",
       "        vertical-align: top;\n",
       "    }\n",
       "\n",
       "    .dataframe thead th {\n",
       "        text-align: right;\n",
       "    }\n",
       "</style>\n",
       "<table border=\"1\" class=\"dataframe\">\n",
       "  <thead>\n",
       "    <tr style=\"text-align: right;\">\n",
       "      <th></th>\n",
       "      <th>Areaname</th>\n",
       "      <th>FIPStxt</th>\n",
       "      <th>LND110210D</th>\n",
       "    </tr>\n",
       "  </thead>\n",
       "  <tbody>\n",
       "    <tr>\n",
       "      <th>92</th>\n",
       "      <td>Wade Hampton, AK</td>\n",
       "      <td>2270</td>\n",
       "      <td>17081.43</td>\n",
       "    </tr>\n",
       "    <tr>\n",
       "      <th>1655</th>\n",
       "      <td>Yellowstone National Park, MT</td>\n",
       "      <td>30113</td>\n",
       "      <td>0.00</td>\n",
       "    </tr>\n",
       "    <tr>\n",
       "      <th>2419</th>\n",
       "      <td>Shannon, SD</td>\n",
       "      <td>46113</td>\n",
       "      <td>2093.90</td>\n",
       "    </tr>\n",
       "    <tr>\n",
       "      <th>2918</th>\n",
       "      <td>Bedford, VA</td>\n",
       "      <td>51515</td>\n",
       "      <td>6.88</td>\n",
       "    </tr>\n",
       "    <tr>\n",
       "      <th>2923</th>\n",
       "      <td>Clifton Forge, VA</td>\n",
       "      <td>51560</td>\n",
       "      <td>0.00</td>\n",
       "    </tr>\n",
       "    <tr>\n",
       "      <th>2951</th>\n",
       "      <td>South Boston, VA</td>\n",
       "      <td>51780</td>\n",
       "      <td>0.00</td>\n",
       "    </tr>\n",
       "  </tbody>\n",
       "</table>\n",
       "</div>"
      ],
      "text/plain": [
       "                           Areaname  FIPStxt  LND110210D\n",
       "92                 Wade Hampton, AK     2270    17081.43\n",
       "1655  Yellowstone National Park, MT    30113        0.00\n",
       "2419                    Shannon, SD    46113     2093.90\n",
       "2918                    Bedford, VA    51515        6.88\n",
       "2923              Clifton Forge, VA    51560        0.00\n",
       "2951               South Boston, VA    51780        0.00"
      ]
     },
     "execution_count": 42,
     "metadata": {},
     "output_type": "execute_result"
    }
   ],
   "source": [
    "# Check the value in the land but not in Population 2020\n",
    "missing_land_pop_16_19 = df_land_area[~df_land_area.FIPStxt.isin(df_pop_16_19.FIPStxt.values)]\n",
    "missing_land_pop_16_19"
   ]
  },
  {
   "cell_type": "markdown",
   "metadata": {},
   "source": [
    "Based on the records, the results doesn't have land, incomplete population, nor non-county (area).\n",
    "## 3.2 Merge Dataframes\n",
    "The technique used for merging of three dataframe was suggested by cwharland and can be found in https://stackoverflow.com/questions/23668427/pandas-three-way-joining-multiple-dataframes-on-columns"
   ]
  },
  {
   "cell_type": "code",
   "execution_count": 45,
   "metadata": {},
   "outputs": [
    {
     "data": {
      "text/html": [
       "<div>\n",
       "<style scoped>\n",
       "    .dataframe tbody tr th:only-of-type {\n",
       "        vertical-align: middle;\n",
       "    }\n",
       "\n",
       "    .dataframe tbody tr th {\n",
       "        vertical-align: top;\n",
       "    }\n",
       "\n",
       "    .dataframe thead th {\n",
       "        text-align: right;\n",
       "    }\n",
       "</style>\n",
       "<table border=\"1\" class=\"dataframe\">\n",
       "  <thead>\n",
       "    <tr style=\"text-align: right;\">\n",
       "      <th></th>\n",
       "      <th>FIPStxt</th>\n",
       "      <th>Area name</th>\n",
       "      <th>Pop_2020</th>\n",
       "      <th>State_y</th>\n",
       "      <th>POP_ESTIMATE_2016</th>\n",
       "      <th>POP_ESTIMATE_2017</th>\n",
       "      <th>POP_ESTIMATE_2018</th>\n",
       "      <th>POP_ESTIMATE_2019</th>\n",
       "      <th>LND110210D</th>\n",
       "    </tr>\n",
       "  </thead>\n",
       "  <tbody>\n",
       "    <tr>\n",
       "      <th>2066</th>\n",
       "      <td>39049</td>\n",
       "      <td>Franklin County</td>\n",
       "      <td>1323807</td>\n",
       "      <td>OH</td>\n",
       "      <td>1274450</td>\n",
       "      <td>1295510</td>\n",
       "      <td>1307698</td>\n",
       "      <td>1316756</td>\n",
       "      <td>532.19</td>\n",
       "    </tr>\n",
       "    <tr>\n",
       "      <th>2327</th>\n",
       "      <td>45025</td>\n",
       "      <td>Chesterfield County</td>\n",
       "      <td>43273</td>\n",
       "      <td>SC</td>\n",
       "      <td>46120</td>\n",
       "      <td>45979</td>\n",
       "      <td>45881</td>\n",
       "      <td>45650</td>\n",
       "      <td>799.08</td>\n",
       "    </tr>\n",
       "    <tr>\n",
       "      <th>1426</th>\n",
       "      <td>28053</td>\n",
       "      <td>Humphreys County</td>\n",
       "      <td>7785</td>\n",
       "      <td>MS</td>\n",
       "      <td>8588</td>\n",
       "      <td>8333</td>\n",
       "      <td>8256</td>\n",
       "      <td>8064</td>\n",
       "      <td>418.49</td>\n",
       "    </tr>\n",
       "    <tr>\n",
       "      <th>2432</th>\n",
       "      <td>47013</td>\n",
       "      <td>Campbell County</td>\n",
       "      <td>39272</td>\n",
       "      <td>TN</td>\n",
       "      <td>39784</td>\n",
       "      <td>39791</td>\n",
       "      <td>39795</td>\n",
       "      <td>39842</td>\n",
       "      <td>480.19</td>\n",
       "    </tr>\n",
       "    <tr>\n",
       "      <th>2892</th>\n",
       "      <td>51157</td>\n",
       "      <td>Rappahannock County</td>\n",
       "      <td>7348</td>\n",
       "      <td>VA</td>\n",
       "      <td>7380</td>\n",
       "      <td>7393</td>\n",
       "      <td>7345</td>\n",
       "      <td>7370</td>\n",
       "      <td>266.23</td>\n",
       "    </tr>\n",
       "  </tbody>\n",
       "</table>\n",
       "</div>"
      ],
      "text/plain": [
       "      FIPStxt            Area name  Pop_2020 State_y  POP_ESTIMATE_2016  \\\n",
       "2066    39049      Franklin County   1323807      OH            1274450   \n",
       "2327    45025  Chesterfield County     43273      SC              46120   \n",
       "1426    28053     Humphreys County      7785      MS               8588   \n",
       "2432    47013      Campbell County     39272      TN              39784   \n",
       "2892    51157  Rappahannock County      7348      VA               7380   \n",
       "\n",
       "      POP_ESTIMATE_2017  POP_ESTIMATE_2018  POP_ESTIMATE_2019  LND110210D  \n",
       "2066            1295510            1307698            1316756      532.19  \n",
       "2327              45979              45881              45650      799.08  \n",
       "1426               8333               8256               8064      418.49  \n",
       "2432              39791              39795              39842      480.19  \n",
       "2892               7393               7345               7370      266.23  "
      ]
     },
     "execution_count": 45,
     "metadata": {},
     "output_type": "execute_result"
    }
   ],
   "source": [
    "df = df_pop_20.merge(df_pop_16_19, on='FIPStxt').merge(df_land_area, on='FIPStxt').drop(['State_x', 'Area_Name', 'Areaname'], axis=1)\n",
    "df.sample(5)"
   ]
  },
  {
   "cell_type": "code",
   "execution_count": 46,
   "metadata": {},
   "outputs": [
    {
     "data": {
      "text/plain": [
       "(3140, 9)"
      ]
     },
     "execution_count": 46,
     "metadata": {},
     "output_type": "execute_result"
    }
   ],
   "source": [
    "df.shape"
   ]
  },
  {
   "cell_type": "code",
   "execution_count": 47,
   "metadata": {},
   "outputs": [
    {
     "data": {
      "text/plain": [
       "Index(['FIPStxt', 'Area name', 'Pop_2020', 'State_y', 'POP_ESTIMATE_2016',\n",
       "       'POP_ESTIMATE_2017', 'POP_ESTIMATE_2018', 'POP_ESTIMATE_2019',\n",
       "       'LND110210D'],\n",
       "      dtype='object')"
      ]
     },
     "execution_count": 47,
     "metadata": {},
     "output_type": "execute_result"
    }
   ],
   "source": [
    "df.columns"
   ]
  },
  {
   "cell_type": "code",
   "execution_count": 48,
   "metadata": {},
   "outputs": [],
   "source": [
    "# Rename all the columns\n",
    "df.rename(columns = {'FIPStxt': 'FIPS', 'Area name': 'county', \"State_y\": 'state',\n",
    "                     'POP_ESTIMATE_2016':'pop_2016', 'POP_ESTIMATE_2017':'pop_2017',\n",
    "                     'POP_ESTIMATE_2018': 'pop_2018', 'POP_ESTIMATE_2019': 'pop_2019',\n",
    "                     'Pop_2020':'pop_2020', 'LND110210D': 'land_area'}, inplace= True)"
   ]
  },
  {
   "cell_type": "code",
   "execution_count": 49,
   "metadata": {},
   "outputs": [
    {
     "data": {
      "text/html": [
       "<div>\n",
       "<style scoped>\n",
       "    .dataframe tbody tr th:only-of-type {\n",
       "        vertical-align: middle;\n",
       "    }\n",
       "\n",
       "    .dataframe tbody tr th {\n",
       "        vertical-align: top;\n",
       "    }\n",
       "\n",
       "    .dataframe thead th {\n",
       "        text-align: right;\n",
       "    }\n",
       "</style>\n",
       "<table border=\"1\" class=\"dataframe\">\n",
       "  <thead>\n",
       "    <tr style=\"text-align: right;\">\n",
       "      <th></th>\n",
       "      <th>FIPS</th>\n",
       "      <th>county</th>\n",
       "      <th>state</th>\n",
       "      <th>land_area</th>\n",
       "      <th>pop_2016</th>\n",
       "      <th>pop_2017</th>\n",
       "      <th>pop_2018</th>\n",
       "      <th>pop_2019</th>\n",
       "      <th>pop_2020</th>\n",
       "    </tr>\n",
       "  </thead>\n",
       "  <tbody>\n",
       "    <tr>\n",
       "      <th>0</th>\n",
       "      <td>1001</td>\n",
       "      <td>Autauga County</td>\n",
       "      <td>AL</td>\n",
       "      <td>594.44</td>\n",
       "      <td>55243</td>\n",
       "      <td>55390</td>\n",
       "      <td>55533</td>\n",
       "      <td>55869</td>\n",
       "      <td>58805</td>\n",
       "    </tr>\n",
       "    <tr>\n",
       "      <th>1</th>\n",
       "      <td>1003</td>\n",
       "      <td>Baldwin County</td>\n",
       "      <td>AL</td>\n",
       "      <td>1589.78</td>\n",
       "      <td>207601</td>\n",
       "      <td>212521</td>\n",
       "      <td>217855</td>\n",
       "      <td>223234</td>\n",
       "      <td>231767</td>\n",
       "    </tr>\n",
       "    <tr>\n",
       "      <th>2</th>\n",
       "      <td>1005</td>\n",
       "      <td>Barbour County</td>\n",
       "      <td>AL</td>\n",
       "      <td>884.88</td>\n",
       "      <td>25806</td>\n",
       "      <td>25157</td>\n",
       "      <td>24872</td>\n",
       "      <td>24686</td>\n",
       "      <td>25223</td>\n",
       "    </tr>\n",
       "    <tr>\n",
       "      <th>3</th>\n",
       "      <td>1007</td>\n",
       "      <td>Bibb County</td>\n",
       "      <td>AL</td>\n",
       "      <td>622.58</td>\n",
       "      <td>22586</td>\n",
       "      <td>22550</td>\n",
       "      <td>22367</td>\n",
       "      <td>22394</td>\n",
       "      <td>22293</td>\n",
       "    </tr>\n",
       "    <tr>\n",
       "      <th>4</th>\n",
       "      <td>1009</td>\n",
       "      <td>Blount County</td>\n",
       "      <td>AL</td>\n",
       "      <td>644.78</td>\n",
       "      <td>57494</td>\n",
       "      <td>57787</td>\n",
       "      <td>57771</td>\n",
       "      <td>57826</td>\n",
       "      <td>59134</td>\n",
       "    </tr>\n",
       "  </tbody>\n",
       "</table>\n",
       "</div>"
      ],
      "text/plain": [
       "   FIPS          county state  land_area  pop_2016  pop_2017  pop_2018  \\\n",
       "0  1001  Autauga County    AL     594.44     55243     55390     55533   \n",
       "1  1003  Baldwin County    AL    1589.78    207601    212521    217855   \n",
       "2  1005  Barbour County    AL     884.88     25806     25157     24872   \n",
       "3  1007     Bibb County    AL     622.58     22586     22550     22367   \n",
       "4  1009   Blount County    AL     644.78     57494     57787     57771   \n",
       "\n",
       "   pop_2019  pop_2020  \n",
       "0     55869     58805  \n",
       "1    223234    231767  \n",
       "2     24686     25223  \n",
       "3     22394     22293  \n",
       "4     57826     59134  "
      ]
     },
     "execution_count": 49,
     "metadata": {},
     "output_type": "execute_result"
    }
   ],
   "source": [
    "# Reindex all the columns\n",
    "df = df.reindex(columns= ['FIPS', 'county', 'state', 'land_area', 'pop_2016', 'pop_2017', \n",
    "                     'pop_2018', 'pop_2019', 'pop_2020'])\n",
    "df.head(5)"
   ]
  },
  {
   "cell_type": "code",
   "execution_count": 50,
   "metadata": {},
   "outputs": [],
   "source": [
    "df.to_csv('Pop_Land.csv', index=False)"
   ]
  },
  {
   "cell_type": "code",
   "execution_count": null,
   "metadata": {},
   "outputs": [],
   "source": []
  }
 ],
 "metadata": {
  "kernelspec": {
   "display_name": "Python 3",
   "language": "python",
   "name": "python3"
  },
  "language_info": {
   "codemirror_mode": {
    "name": "ipython",
    "version": 3
   },
   "file_extension": ".py",
   "mimetype": "text/x-python",
   "name": "python",
   "nbconvert_exporter": "python",
   "pygments_lexer": "ipython3",
   "version": "3.8.5"
  }
 },
 "nbformat": 4,
 "nbformat_minor": 4
}
