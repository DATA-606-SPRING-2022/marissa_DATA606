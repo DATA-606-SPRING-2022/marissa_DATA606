{
 "cells": [
  {
   "cell_type": "markdown",
   "metadata": {
    "id": "y5dWbI4fYwuS"
   },
   "source": [
    "# DATA 606 Capstone\n",
    "## Marissa Tan\n",
    "### Impact of COVID-19 on the US Housing Market\n",
    "__Land Area, Population Estimate, Population__\n",
    "- Land Area (2010) - census\n",
    "- Population Estimate (2016, 2017, 2018, 2019) - usda\n",
    "- Population Census (2020) - usda<br>\n",
    "\n",
    "__Real Estate__<br>\n",
    "- Read Real Estate - realtor.com \n",
    "- Format the datetime\n",
    "- Rename columns\n",
    "- Sort columns<br><br>\n",
    "\n",
    "Acknowledgment: <br>\n",
    "Maede Maftouni of Kaggle. https://www.kaggle.com/maedemaftouni/us-real-estate-market-trends-visualizationKen<br>\n",
    "Ken Noppinger: https://github.com/knoppin1/DATA-606-Capstone"
   ]
  },
  {
   "cell_type": "code",
   "execution_count": 1,
   "metadata": {
    "id": "ryF8usKUYwuY"
   },
   "outputs": [],
   "source": [
    "import pandas as pd"
   ]
  },
  {
   "cell_type": "markdown",
   "metadata": {
    "id": "lwVXAT4MY60p"
   },
   "source": [
    "# 1. Land Area"
   ]
  },
  {
   "cell_type": "markdown",
   "metadata": {
    "id": "ghSOxn_jYwud"
   },
   "source": [
    "## 1.1 Read Land Area"
   ]
  },
  {
   "cell_type": "code",
   "execution_count": 2,
   "metadata": {
    "id": "KAjIMOFTYwuf",
    "outputId": "168cdd3f-0f6f-4215-cd62-f163be214b58"
   },
   "outputs": [
    {
     "data": {
      "text/html": [
       "<div>\n",
       "<style scoped>\n",
       "    .dataframe tbody tr th:only-of-type {\n",
       "        vertical-align: middle;\n",
       "    }\n",
       "\n",
       "    .dataframe tbody tr th {\n",
       "        vertical-align: top;\n",
       "    }\n",
       "\n",
       "    .dataframe thead th {\n",
       "        text-align: right;\n",
       "    }\n",
       "</style>\n",
       "<table border=\"1\" class=\"dataframe\">\n",
       "  <thead>\n",
       "    <tr style=\"text-align: right;\">\n",
       "      <th></th>\n",
       "      <th>Areaname</th>\n",
       "      <th>STCOU</th>\n",
       "      <th>LND010190F</th>\n",
       "      <th>LND010190D</th>\n",
       "      <th>LND010190N1</th>\n",
       "      <th>LND010190N2</th>\n",
       "      <th>LND010200F</th>\n",
       "      <th>LND010200D</th>\n",
       "      <th>LND010200N1</th>\n",
       "      <th>LND010200N2</th>\n",
       "      <th>...</th>\n",
       "      <th>LND110210N1</th>\n",
       "      <th>LND110210N2</th>\n",
       "      <th>LND210190F</th>\n",
       "      <th>LND210190D</th>\n",
       "      <th>LND210190N1</th>\n",
       "      <th>LND210190N2</th>\n",
       "      <th>LND210200F</th>\n",
       "      <th>LND210200D</th>\n",
       "      <th>LND210200N1</th>\n",
       "      <th>LND210200N2</th>\n",
       "    </tr>\n",
       "  </thead>\n",
       "  <tbody>\n",
       "    <tr>\n",
       "      <th>0</th>\n",
       "      <td>UNITED STATES</td>\n",
       "      <td>0</td>\n",
       "      <td>0</td>\n",
       "      <td>3787425.08</td>\n",
       "      <td>0</td>\n",
       "      <td>0</td>\n",
       "      <td>0</td>\n",
       "      <td>3794083.06</td>\n",
       "      <td>0</td>\n",
       "      <td>0</td>\n",
       "      <td>...</td>\n",
       "      <td>0</td>\n",
       "      <td>0</td>\n",
       "      <td>0</td>\n",
       "      <td>251083.35</td>\n",
       "      <td>0</td>\n",
       "      <td>0</td>\n",
       "      <td>0</td>\n",
       "      <td>256644.62</td>\n",
       "      <td>0</td>\n",
       "      <td>0</td>\n",
       "    </tr>\n",
       "    <tr>\n",
       "      <th>1</th>\n",
       "      <td>ALABAMA</td>\n",
       "      <td>1000</td>\n",
       "      <td>0</td>\n",
       "      <td>52422.94</td>\n",
       "      <td>0</td>\n",
       "      <td>0</td>\n",
       "      <td>0</td>\n",
       "      <td>52419.02</td>\n",
       "      <td>0</td>\n",
       "      <td>0</td>\n",
       "      <td>...</td>\n",
       "      <td>0</td>\n",
       "      <td>0</td>\n",
       "      <td>0</td>\n",
       "      <td>1672.71</td>\n",
       "      <td>0</td>\n",
       "      <td>0</td>\n",
       "      <td>0</td>\n",
       "      <td>1675.01</td>\n",
       "      <td>0</td>\n",
       "      <td>0</td>\n",
       "    </tr>\n",
       "    <tr>\n",
       "      <th>2</th>\n",
       "      <td>Autauga, AL</td>\n",
       "      <td>1001</td>\n",
       "      <td>0</td>\n",
       "      <td>604.49</td>\n",
       "      <td>0</td>\n",
       "      <td>0</td>\n",
       "      <td>0</td>\n",
       "      <td>604.45</td>\n",
       "      <td>0</td>\n",
       "      <td>0</td>\n",
       "      <td>...</td>\n",
       "      <td>0</td>\n",
       "      <td>0</td>\n",
       "      <td>0</td>\n",
       "      <td>8.48</td>\n",
       "      <td>0</td>\n",
       "      <td>0</td>\n",
       "      <td>0</td>\n",
       "      <td>8.48</td>\n",
       "      <td>0</td>\n",
       "      <td>0</td>\n",
       "    </tr>\n",
       "    <tr>\n",
       "      <th>3</th>\n",
       "      <td>Baldwin, AL</td>\n",
       "      <td>1003</td>\n",
       "      <td>0</td>\n",
       "      <td>2027.08</td>\n",
       "      <td>0</td>\n",
       "      <td>0</td>\n",
       "      <td>0</td>\n",
       "      <td>2026.93</td>\n",
       "      <td>0</td>\n",
       "      <td>0</td>\n",
       "      <td>...</td>\n",
       "      <td>0</td>\n",
       "      <td>0</td>\n",
       "      <td>0</td>\n",
       "      <td>430.55</td>\n",
       "      <td>0</td>\n",
       "      <td>0</td>\n",
       "      <td>0</td>\n",
       "      <td>430.58</td>\n",
       "      <td>0</td>\n",
       "      <td>0</td>\n",
       "    </tr>\n",
       "    <tr>\n",
       "      <th>4</th>\n",
       "      <td>Barbour, AL</td>\n",
       "      <td>1005</td>\n",
       "      <td>0</td>\n",
       "      <td>904.59</td>\n",
       "      <td>0</td>\n",
       "      <td>0</td>\n",
       "      <td>0</td>\n",
       "      <td>904.52</td>\n",
       "      <td>0</td>\n",
       "      <td>0</td>\n",
       "      <td>...</td>\n",
       "      <td>0</td>\n",
       "      <td>0</td>\n",
       "      <td>0</td>\n",
       "      <td>19.59</td>\n",
       "      <td>0</td>\n",
       "      <td>0</td>\n",
       "      <td>0</td>\n",
       "      <td>19.61</td>\n",
       "      <td>0</td>\n",
       "      <td>0</td>\n",
       "    </tr>\n",
       "  </tbody>\n",
       "</table>\n",
       "<p>5 rows × 34 columns</p>\n",
       "</div>"
      ],
      "text/plain": [
       "        Areaname  STCOU  LND010190F  LND010190D  LND010190N1  LND010190N2  \\\n",
       "0  UNITED STATES      0           0  3787425.08            0            0   \n",
       "1        ALABAMA   1000           0    52422.94            0            0   \n",
       "2    Autauga, AL   1001           0      604.49            0            0   \n",
       "3    Baldwin, AL   1003           0     2027.08            0            0   \n",
       "4    Barbour, AL   1005           0      904.59            0            0   \n",
       "\n",
       "   LND010200F  LND010200D  LND010200N1  LND010200N2  ...  LND110210N1  \\\n",
       "0           0  3794083.06            0            0  ...            0   \n",
       "1           0    52419.02            0            0  ...            0   \n",
       "2           0      604.45            0            0  ...            0   \n",
       "3           0     2026.93            0            0  ...            0   \n",
       "4           0      904.52            0            0  ...            0   \n",
       "\n",
       "   LND110210N2  LND210190F  LND210190D  LND210190N1  LND210190N2  LND210200F  \\\n",
       "0            0           0   251083.35            0            0           0   \n",
       "1            0           0     1672.71            0            0           0   \n",
       "2            0           0        8.48            0            0           0   \n",
       "3            0           0      430.55            0            0           0   \n",
       "4            0           0       19.59            0            0           0   \n",
       "\n",
       "   LND210200D  LND210200N1  LND210200N2  \n",
       "0   256644.62            0            0  \n",
       "1     1675.01            0            0  \n",
       "2        8.48            0            0  \n",
       "3      430.58            0            0  \n",
       "4       19.61            0            0  \n",
       "\n",
       "[5 rows x 34 columns]"
      ]
     },
     "execution_count": 2,
     "metadata": {},
     "output_type": "execute_result"
    }
   ],
   "source": [
    "df_land = pd.read_excel('https://www2.census.gov/library/publications/2011/compendia/usa-counties/excel/LND01.xls')\n",
    "df_land.head()"
   ]
  },
  {
   "cell_type": "markdown",
   "metadata": {
    "id": "oK_p7dT-Ywuh"
   },
   "source": [
    "## 1.2 Clean Columns\n",
    "Extract the needed columns: <br>\n",
    "- Areaname - county and state\n",
    "- STCOU - FIPS code for state and county\n",
    "- LND110210D - LND - land area; 110- subgroup; 210 - 2(a year in the 21st century); 10(last two digits of the year); D - data. Therefore, this is a data gathered from 2010 in sqm."
   ]
  },
  {
   "cell_type": "code",
   "execution_count": 3,
   "metadata": {
    "id": "EFx-HFahYwui",
    "outputId": "56c37916-bb16-44d3-ff49-8887108c8188"
   },
   "outputs": [
    {
     "data": {
      "text/html": [
       "<div>\n",
       "<style scoped>\n",
       "    .dataframe tbody tr th:only-of-type {\n",
       "        vertical-align: middle;\n",
       "    }\n",
       "\n",
       "    .dataframe tbody tr th {\n",
       "        vertical-align: top;\n",
       "    }\n",
       "\n",
       "    .dataframe thead th {\n",
       "        text-align: right;\n",
       "    }\n",
       "</style>\n",
       "<table border=\"1\" class=\"dataframe\">\n",
       "  <thead>\n",
       "    <tr style=\"text-align: right;\">\n",
       "      <th></th>\n",
       "      <th>Areaname</th>\n",
       "      <th>STCOU</th>\n",
       "      <th>LND110210D</th>\n",
       "    </tr>\n",
       "  </thead>\n",
       "  <tbody>\n",
       "    <tr>\n",
       "      <th>0</th>\n",
       "      <td>UNITED STATES</td>\n",
       "      <td>0</td>\n",
       "      <td>3531905.43</td>\n",
       "    </tr>\n",
       "    <tr>\n",
       "      <th>1</th>\n",
       "      <td>ALABAMA</td>\n",
       "      <td>1000</td>\n",
       "      <td>50645.33</td>\n",
       "    </tr>\n",
       "    <tr>\n",
       "      <th>2</th>\n",
       "      <td>Autauga, AL</td>\n",
       "      <td>1001</td>\n",
       "      <td>594.44</td>\n",
       "    </tr>\n",
       "    <tr>\n",
       "      <th>3</th>\n",
       "      <td>Baldwin, AL</td>\n",
       "      <td>1003</td>\n",
       "      <td>1589.78</td>\n",
       "    </tr>\n",
       "    <tr>\n",
       "      <th>4</th>\n",
       "      <td>Barbour, AL</td>\n",
       "      <td>1005</td>\n",
       "      <td>884.88</td>\n",
       "    </tr>\n",
       "  </tbody>\n",
       "</table>\n",
       "</div>"
      ],
      "text/plain": [
       "        Areaname  STCOU  LND110210D\n",
       "0  UNITED STATES      0  3531905.43\n",
       "1        ALABAMA   1000    50645.33\n",
       "2    Autauga, AL   1001      594.44\n",
       "3    Baldwin, AL   1003     1589.78\n",
       "4    Barbour, AL   1005      884.88"
      ]
     },
     "execution_count": 3,
     "metadata": {},
     "output_type": "execute_result"
    }
   ],
   "source": [
    "df_land_area = df_land[['Areaname', 'STCOU', 'LND110210D']]\n",
    "df_land_area.head(5)"
   ]
  },
  {
   "cell_type": "code",
   "execution_count": 4,
   "metadata": {
    "id": "oFAcFalwYwuk",
    "outputId": "b2ae7389-63e4-418f-9000-7c4a2d60f968"
   },
   "outputs": [
    {
     "name": "stdout",
     "output_type": "stream",
     "text": [
      "<class 'pandas.core.frame.DataFrame'>\n",
      "RangeIndex: 3198 entries, 0 to 3197\n",
      "Data columns (total 3 columns):\n",
      " #   Column      Non-Null Count  Dtype  \n",
      "---  ------      --------------  -----  \n",
      " 0   Areaname    3198 non-null   object \n",
      " 1   STCOU       3198 non-null   int64  \n",
      " 2   LND110210D  3198 non-null   float64\n",
      "dtypes: float64(1), int64(1), object(1)\n",
      "memory usage: 75.1+ KB\n"
     ]
    }
   ],
   "source": [
    "df_land_area.info()   "
   ]
  },
  {
   "cell_type": "code",
   "execution_count": 5,
   "metadata": {
    "id": "6K8EpLtBYwul",
    "outputId": "0f80a716-cb05-48df-e1b5-fd384f6809ee"
   },
   "outputs": [
    {
     "name": "stderr",
     "output_type": "stream",
     "text": [
      "C:\\Users\\Pc\\anaconda3\\lib\\site-packages\\pandas\\core\\frame.py:4296: SettingWithCopyWarning: \n",
      "A value is trying to be set on a copy of a slice from a DataFrame\n",
      "\n",
      "See the caveats in the documentation: https://pandas.pydata.org/pandas-docs/stable/user_guide/indexing.html#returning-a-view-versus-a-copy\n",
      "  return super().rename(\n"
     ]
    }
   ],
   "source": [
    "# Rename STCOU to FIPStxt\n",
    "df_land_area.rename(columns = {'STCOU': \"FIPStxt\"}, inplace=True)"
   ]
  },
  {
   "cell_type": "code",
   "execution_count": 6,
   "metadata": {
    "id": "JlCocnHYYwun",
    "outputId": "a6af716d-0638-4b8a-e7e6-72bc312f47ed"
   },
   "outputs": [
    {
     "data": {
      "text/html": [
       "<div>\n",
       "<style scoped>\n",
       "    .dataframe tbody tr th:only-of-type {\n",
       "        vertical-align: middle;\n",
       "    }\n",
       "\n",
       "    .dataframe tbody tr th {\n",
       "        vertical-align: top;\n",
       "    }\n",
       "\n",
       "    .dataframe thead th {\n",
       "        text-align: right;\n",
       "    }\n",
       "</style>\n",
       "<table border=\"1\" class=\"dataframe\">\n",
       "  <thead>\n",
       "    <tr style=\"text-align: right;\">\n",
       "      <th></th>\n",
       "      <th>Areaname</th>\n",
       "      <th>FIPStxt</th>\n",
       "      <th>LND110210D</th>\n",
       "    </tr>\n",
       "  </thead>\n",
       "  <tbody>\n",
       "    <tr>\n",
       "      <th>0</th>\n",
       "      <td>UNITED STATES</td>\n",
       "      <td>0</td>\n",
       "      <td>3531905.43</td>\n",
       "    </tr>\n",
       "  </tbody>\n",
       "</table>\n",
       "</div>"
      ],
      "text/plain": [
       "        Areaname  FIPStxt  LND110210D\n",
       "0  UNITED STATES        0  3531905.43"
      ]
     },
     "execution_count": 6,
     "metadata": {},
     "output_type": "execute_result"
    }
   ],
   "source": [
    "us_land_area = df_land_area[df_land_area.Areaname == 'UNITED STATES']\n",
    "us_land_area"
   ]
  },
  {
   "cell_type": "code",
   "execution_count": 7,
   "metadata": {
    "id": "nM83OBhKYwuq",
    "outputId": "9ed463f3-0300-482c-fe4e-506f987ace47"
   },
   "outputs": [
    {
     "data": {
      "text/plain": [
       "50"
      ]
     },
     "execution_count": 7,
     "metadata": {},
     "output_type": "execute_result"
    }
   ],
   "source": [
    "# Remove the All states data from the State column\n",
    "states_low= ['Alabama', 'Alaska', 'Arizona', 'Arkansas', 'California', 'Colorado',\n",
    "          'Connecticut','Delaware','Florida', 'Georgia',\n",
    "          'Hawaii', 'Idaho', 'Illinois', 'Indiana', 'Iowa', 'Kansas', 'Kentucky',\n",
    "          'Louisiana', 'Maine', 'Maryland', 'Massachusetts', 'Michigan', \n",
    "          'Minnesota', 'Mississippi', 'Missouri', 'Montana', 'Nebraska', \n",
    "          'Nevada', 'New Hampshire', 'New Jersey', 'New Mexico', 'New York', \n",
    "          'North Carolina', 'North Dakota', 'Ohio', 'Oklahoma', 'Oregon', 'Pennsylvania', \n",
    "          'Rhode Island', 'South Carolina', 'South Dakota', 'Tennessee', 'Texas', 'Utah', \n",
    "          'Vermont', 'Virginia', 'Washington', 'West Virginia', 'Wisconsin', 'Wyoming']\n",
    "len(states_low)"
   ]
  },
  {
   "cell_type": "code",
   "execution_count": 8,
   "metadata": {
    "id": "uLlJYfQFYwus",
    "outputId": "b1a97159-bc17-4cac-8a66-a9ca0c6ca76f"
   },
   "outputs": [
    {
     "name": "stdout",
     "output_type": "stream",
     "text": [
      "This is the first five states in the list that's capitalized\n"
     ]
    },
    {
     "data": {
      "text/plain": [
       "['ALABAMA', 'ALASKA', 'ARIZONA', 'ARKANSAS', 'CALIFORNIA']"
      ]
     },
     "execution_count": 8,
     "metadata": {},
     "output_type": "execute_result"
    }
   ],
   "source": [
    "# Convert states to upper case\n",
    "states1 = [x.upper() for x in states_low]\n",
    "print(\"This is the first five states in the list that's capitalized\")\n",
    "states1[0:5]"
   ]
  },
  {
   "cell_type": "code",
   "execution_count": 9,
   "metadata": {
    "id": "k2p9u7-mYwut",
    "outputId": "767016a3-b058-45ce-b948-47b50eff1a8d"
   },
   "outputs": [
    {
     "data": {
      "text/plain": [
       "50"
      ]
     },
     "execution_count": 9,
     "metadata": {},
     "output_type": "execute_result"
    }
   ],
   "source": [
    "# Append to the list \n",
    "# Remove the All states data from the State column\n",
    "states_dc = ['Alabama', 'Alaska', 'Arizona', 'Arkansas', 'California', 'Colorado',\n",
    "          'Connecticut','Delaware','District of Columbia','Florida', 'Georgia',\n",
    "          'Hawaii', 'Idaho', 'Illinois', 'Indiana', 'Iowa', 'Kansas', 'Kentucky',\n",
    "          'Louisiana', 'Maine', 'Maryland', 'Massachusetts', 'Michigan', \n",
    "          'Minnesota', 'Mississippi', 'Missouri', 'Montana', 'Nebraska', \n",
    "          'Nevada', 'New Hampshire', 'New Jersey', 'New Mexico', 'New York', \n",
    "          'North Carolina', 'North Dakota', 'Ohio', 'Oklahoma', 'Oregon', 'Pennsylvania', \n",
    "          'Rhode Island', 'South Carolina', 'South Dakota', 'Tennessee', 'Texas', 'Utah', \n",
    "          'Vermont', 'Virginia', 'Washington', 'West Virginia', 'Wisconsin', 'Wyoming']\n",
    "states = [x.upper() for x in states_dc]\n",
    "len(states1)"
   ]
  },
  {
   "cell_type": "code",
   "execution_count": 10,
   "metadata": {
    "id": "Kph0W8ANYwuu",
    "outputId": "8bd3d866-450e-447d-be44-f06a7ad4ddab"
   },
   "outputs": [
    {
     "data": {
      "text/html": [
       "<div>\n",
       "<style scoped>\n",
       "    .dataframe tbody tr th:only-of-type {\n",
       "        vertical-align: middle;\n",
       "    }\n",
       "\n",
       "    .dataframe tbody tr th {\n",
       "        vertical-align: top;\n",
       "    }\n",
       "\n",
       "    .dataframe thead th {\n",
       "        text-align: right;\n",
       "    }\n",
       "</style>\n",
       "<table border=\"1\" class=\"dataframe\">\n",
       "  <thead>\n",
       "    <tr style=\"text-align: right;\">\n",
       "      <th></th>\n",
       "      <th>Areaname</th>\n",
       "      <th>FIPStxt</th>\n",
       "      <th>LND110210D</th>\n",
       "    </tr>\n",
       "  </thead>\n",
       "  <tbody>\n",
       "    <tr>\n",
       "      <th>0</th>\n",
       "      <td>ALABAMA</td>\n",
       "      <td>1000</td>\n",
       "      <td>50645.33</td>\n",
       "    </tr>\n",
       "    <tr>\n",
       "      <th>1</th>\n",
       "      <td>ALASKA</td>\n",
       "      <td>2000</td>\n",
       "      <td>570640.95</td>\n",
       "    </tr>\n",
       "    <tr>\n",
       "      <th>2</th>\n",
       "      <td>ARIZONA</td>\n",
       "      <td>4000</td>\n",
       "      <td>113594.08</td>\n",
       "    </tr>\n",
       "    <tr>\n",
       "      <th>3</th>\n",
       "      <td>ARKANSAS</td>\n",
       "      <td>5000</td>\n",
       "      <td>52035.48</td>\n",
       "    </tr>\n",
       "    <tr>\n",
       "      <th>4</th>\n",
       "      <td>CALIFORNIA</td>\n",
       "      <td>6000</td>\n",
       "      <td>155779.22</td>\n",
       "    </tr>\n",
       "  </tbody>\n",
       "</table>\n",
       "</div>"
      ],
      "text/plain": [
       "     Areaname  FIPStxt  LND110210D\n",
       "0     ALABAMA     1000    50645.33\n",
       "1      ALASKA     2000   570640.95\n",
       "2     ARIZONA     4000   113594.08\n",
       "3    ARKANSAS     5000    52035.48\n",
       "4  CALIFORNIA     6000   155779.22"
      ]
     },
     "execution_count": 10,
     "metadata": {},
     "output_type": "execute_result"
    }
   ],
   "source": [
    "# Gets the rows with US and State level data\n",
    "all_state_land_area = df_land_area[df_land_area.Areaname != 'UNITED STATES']\n",
    "all_state_land_area = all_state_land_area[all_state_land_area['Areaname'].isin(states)].reset_index(drop=True)\n",
    "all_state_land_area.head()"
   ]
  },
  {
   "cell_type": "code",
   "execution_count": 11,
   "metadata": {
    "id": "MfDTeVVdYwuv",
    "outputId": "9f5c2524-f12a-442c-f12d-71b6107f5f54"
   },
   "outputs": [
    {
     "name": "stdout",
     "output_type": "stream",
     "text": [
      "This dataset still includes District of Columbia\n",
      "Number of all states:  51\n"
     ]
    },
    {
     "data": {
      "text/html": [
       "<div>\n",
       "<style scoped>\n",
       "    .dataframe tbody tr th:only-of-type {\n",
       "        vertical-align: middle;\n",
       "    }\n",
       "\n",
       "    .dataframe tbody tr th {\n",
       "        vertical-align: top;\n",
       "    }\n",
       "\n",
       "    .dataframe thead th {\n",
       "        text-align: right;\n",
       "    }\n",
       "</style>\n",
       "<table border=\"1\" class=\"dataframe\">\n",
       "  <thead>\n",
       "    <tr style=\"text-align: right;\">\n",
       "      <th></th>\n",
       "      <th>Areaname</th>\n",
       "      <th>FIPStxt</th>\n",
       "      <th>LND110210D</th>\n",
       "    </tr>\n",
       "  </thead>\n",
       "  <tbody>\n",
       "    <tr>\n",
       "      <th>8</th>\n",
       "      <td>DISTRICT OF COLUMBIA</td>\n",
       "      <td>11000</td>\n",
       "      <td>61.05</td>\n",
       "    </tr>\n",
       "  </tbody>\n",
       "</table>\n",
       "</div>"
      ],
      "text/plain": [
       "               Areaname  FIPStxt  LND110210D\n",
       "8  DISTRICT OF COLUMBIA    11000       61.05"
      ]
     },
     "execution_count": 11,
     "metadata": {},
     "output_type": "execute_result"
    }
   ],
   "source": [
    "# all_states_land_area = df_land_area[df_land_area['Areaname'].isin(states1)]\n",
    "print(\"This dataset still includes District of Columbia\")\n",
    "print(\"Number of all states: \", len(all_state_land_area['Areaname'].unique()))\n",
    "all_state_land_area[all_state_land_area.Areaname == 'DISTRICT OF COLUMBIA']"
   ]
  },
  {
   "cell_type": "code",
   "execution_count": 12,
   "metadata": {
    "id": "t19mRK5GYwux",
    "outputId": "5c8f5881-bf55-4f56-ec6b-eebeec40f400"
   },
   "outputs": [
    {
     "data": {
      "text/html": [
       "<div>\n",
       "<style scoped>\n",
       "    .dataframe tbody tr th:only-of-type {\n",
       "        vertical-align: middle;\n",
       "    }\n",
       "\n",
       "    .dataframe tbody tr th {\n",
       "        vertical-align: top;\n",
       "    }\n",
       "\n",
       "    .dataframe thead th {\n",
       "        text-align: right;\n",
       "    }\n",
       "</style>\n",
       "<table border=\"1\" class=\"dataframe\">\n",
       "  <thead>\n",
       "    <tr style=\"text-align: right;\">\n",
       "      <th></th>\n",
       "      <th>Areaname</th>\n",
       "      <th>FIPStxt</th>\n",
       "      <th>LND110210D</th>\n",
       "    </tr>\n",
       "  </thead>\n",
       "  <tbody>\n",
       "    <tr>\n",
       "      <th>0</th>\n",
       "      <td>Autauga, AL</td>\n",
       "      <td>1001</td>\n",
       "      <td>594.44</td>\n",
       "    </tr>\n",
       "    <tr>\n",
       "      <th>1</th>\n",
       "      <td>Baldwin, AL</td>\n",
       "      <td>1003</td>\n",
       "      <td>1589.78</td>\n",
       "    </tr>\n",
       "    <tr>\n",
       "      <th>2</th>\n",
       "      <td>Barbour, AL</td>\n",
       "      <td>1005</td>\n",
       "      <td>884.88</td>\n",
       "    </tr>\n",
       "    <tr>\n",
       "      <th>3</th>\n",
       "      <td>Bibb, AL</td>\n",
       "      <td>1007</td>\n",
       "      <td>622.58</td>\n",
       "    </tr>\n",
       "    <tr>\n",
       "      <th>4</th>\n",
       "      <td>Blount, AL</td>\n",
       "      <td>1009</td>\n",
       "      <td>644.78</td>\n",
       "    </tr>\n",
       "  </tbody>\n",
       "</table>\n",
       "</div>"
      ],
      "text/plain": [
       "      Areaname  FIPStxt  LND110210D\n",
       "0  Autauga, AL     1001      594.44\n",
       "1  Baldwin, AL     1003     1589.78\n",
       "2  Barbour, AL     1005      884.88\n",
       "3     Bibb, AL     1007      622.58\n",
       "4   Blount, AL     1009      644.78"
      ]
     },
     "execution_count": 12,
     "metadata": {},
     "output_type": "execute_result"
    }
   ],
   "source": [
    "# Drop the rows with US and State level data\n",
    "df_land_area = df_land_area[df_land_area.Areaname != 'UNITED STATES']\n",
    "df_land_area = df_land_area[~df_land_area['Areaname'].isin(states1)].reset_index(drop=True)\n",
    "df_land_area.head()"
   ]
  },
  {
   "cell_type": "code",
   "execution_count": 13,
   "metadata": {
    "id": "Hk3MrhOWYwux",
    "outputId": "98e4df69-ecff-4b64-f64b-51d81edba5ad"
   },
   "outputs": [
    {
     "name": "stdout",
     "output_type": "stream",
     "text": [
      "This dataset still includes District of Columbia\n"
     ]
    },
    {
     "data": {
      "text/html": [
       "<div>\n",
       "<style scoped>\n",
       "    .dataframe tbody tr th:only-of-type {\n",
       "        vertical-align: middle;\n",
       "    }\n",
       "\n",
       "    .dataframe tbody tr th {\n",
       "        vertical-align: top;\n",
       "    }\n",
       "\n",
       "    .dataframe thead th {\n",
       "        text-align: right;\n",
       "    }\n",
       "</style>\n",
       "<table border=\"1\" class=\"dataframe\">\n",
       "  <thead>\n",
       "    <tr style=\"text-align: right;\">\n",
       "      <th></th>\n",
       "      <th>Areaname</th>\n",
       "      <th>FIPStxt</th>\n",
       "      <th>LND110210D</th>\n",
       "    </tr>\n",
       "  </thead>\n",
       "  <tbody>\n",
       "    <tr>\n",
       "      <th>319</th>\n",
       "      <td>DISTRICT OF COLUMBIA</td>\n",
       "      <td>11000</td>\n",
       "      <td>61.05</td>\n",
       "    </tr>\n",
       "  </tbody>\n",
       "</table>\n",
       "</div>"
      ],
      "text/plain": [
       "                 Areaname  FIPStxt  LND110210D\n",
       "319  DISTRICT OF COLUMBIA    11000       61.05"
      ]
     },
     "execution_count": 13,
     "metadata": {},
     "output_type": "execute_result"
    }
   ],
   "source": [
    "print(\"This dataset still includes District of Columbia\")\n",
    "df_land_area[df_land_area.Areaname == 'DISTRICT OF COLUMBIA']"
   ]
  },
  {
   "cell_type": "code",
   "execution_count": 14,
   "metadata": {
    "id": "jvubw1UUYwux",
    "outputId": "f8210e1c-a665-4150-9730-b4654de64277"
   },
   "outputs": [
    {
     "data": {
      "text/plain": [
       "[]"
      ]
     },
     "execution_count": 14,
     "metadata": {},
     "output_type": "execute_result"
    }
   ],
   "source": [
    "[row for row in df_land_area.duplicated(keep='last') if row == True]"
   ]
  },
  {
   "cell_type": "markdown",
   "metadata": {
    "id": "OYbyfAGvYwuy"
   },
   "source": [
    "## 1.3 Verify Data"
   ]
  },
  {
   "cell_type": "code",
   "execution_count": 15,
   "metadata": {
    "id": "JcoliqmlYwuy",
    "outputId": "7ca0aaad-8522-4cad-979a-2a634b8d04fd"
   },
   "outputs": [
    {
     "name": "stdout",
     "output_type": "stream",
     "text": [
      "<class 'pandas.core.frame.DataFrame'>\n",
      "RangeIndex: 3147 entries, 0 to 3146\n",
      "Data columns (total 3 columns):\n",
      " #   Column      Non-Null Count  Dtype  \n",
      "---  ------      --------------  -----  \n",
      " 0   Areaname    3147 non-null   object \n",
      " 1   FIPStxt     3147 non-null   int64  \n",
      " 2   LND110210D  3147 non-null   float64\n",
      "dtypes: float64(1), int64(1), object(1)\n",
      "memory usage: 73.9+ KB\n"
     ]
    }
   ],
   "source": [
    "df_land_area.info()  "
   ]
  },
  {
   "cell_type": "markdown",
   "metadata": {
    "id": "-fssRpFhZDZR"
   },
   "source": [
    "# 2. Population Estimate"
   ]
  },
  {
   "cell_type": "markdown",
   "metadata": {
    "id": "DBa7-3zrYwuz"
   },
   "source": [
    "## 2.1 - Read Population Estimate (2016 - 2019)"
   ]
  },
  {
   "cell_type": "code",
   "execution_count": null,
   "metadata": {
    "id": "Rf5t-LiTYwu0",
    "outputId": "656e9646-2a31-4e9f-8cc5-58f7ab5e4ceb"
   },
   "outputs": [],
   "source": [
    "df_pop_est = pd.read_excel('https://www.ers.usda.gov/webdocs/DataFiles/48747/PopulationEstimates.xls', header=2)\n",
    "df_pop_est.head(5)"
   ]
  },
  {
   "cell_type": "code",
   "execution_count": null,
   "metadata": {
    "id": "t0mQNdRkYwu1",
    "outputId": "79cd75f0-0f62-485e-b905-221551677551"
   },
   "outputs": [],
   "source": [
    "df_pop_est.columns[0:20]"
   ]
  },
  {
   "cell_type": "markdown",
   "metadata": {
    "id": "Oexz6r47Ywu1"
   },
   "source": [
    "## 2.2 Clean Columns\n",
    "Extract only the needed columns:\n",
    "- FIPStxt - FIPS code for state and county\n",
    "- State - state abbreviation\n",
    "- Area_Name - county\n",
    "- POP_ESTIMATE_2016 - population estimate for 2016\n",
    "- POP_ESTIMATE_2017 - population estimate for 2017\n",
    "- POP_ESTIMATE_2018 - population estimate for 2018\n",
    "- POP_ESTIMATE_2019 - population estimate for 2019"
   ]
  },
  {
   "cell_type": "code",
   "execution_count": null,
   "metadata": {
    "id": "KQwsIA36Ywu2",
    "outputId": "61c38d68-58dc-4af5-a18e-28bc1f34c7d6"
   },
   "outputs": [],
   "source": [
    "df_pop_16_19 = df_pop_est[['FIPStxt', 'State', 'Area_Name','POP_ESTIMATE_2016',\n",
    "       'POP_ESTIMATE_2017', 'POP_ESTIMATE_2018', 'POP_ESTIMATE_2019']]\n",
    "df_pop_16_19.head()"
   ]
  },
  {
   "cell_type": "code",
   "execution_count": null,
   "metadata": {
    "id": "V49wCnptYwu2",
    "outputId": "b75c4060-062e-4f6d-b1b4-9ef0b7296bd3"
   },
   "outputs": [],
   "source": [
    "# Check the number of states\n",
    "print(\"These are the number of states\", len(df_pop_16_19['State'].unique()))\n",
    "print(\"These are the states: \")\n",
    "print(df_pop_16_19['State'].unique())"
   ]
  },
  {
   "cell_type": "code",
   "execution_count": null,
   "metadata": {
    "id": "bSr8MYtkYwu2",
    "outputId": "09bb2858-cf8d-4ab6-9ccc-cb0c9d05582b"
   },
   "outputs": [],
   "source": [
    "# Save the US and All states in seperate files from the county files \n",
    "us_pop_16_19 = df_pop_16_19[df_pop_16_19.State == 'US']\n",
    "us_pop_16_19"
   ]
  },
  {
   "cell_type": "markdown",
   "metadata": {
    "id": "T0KUEAqiYwu4"
   },
   "source": [
    "### 2.2a State Level"
   ]
  },
  {
   "cell_type": "code",
   "execution_count": null,
   "metadata": {
    "id": "4DXZ-wLVYwu4",
    "outputId": "8de9199b-152c-46c0-8ace-56422f596f9d"
   },
   "outputs": [],
   "source": [
    "all_states_pop_16_19 = df_pop_16_19[df_pop_16_19['Area_Name'].isin(states_dc)]\n",
    "all_states_pop_16_19[all_states_pop_16_19['State']=='DC']"
   ]
  },
  {
   "cell_type": "markdown",
   "metadata": {
    "id": "999zBZWSYwu4"
   },
   "source": [
    "### 2.2b FIPS Level"
   ]
  },
  {
   "cell_type": "code",
   "execution_count": null,
   "metadata": {
    "id": "s8b9MMtyYwu5",
    "outputId": "c773d08a-9173-4ac7-ed76-a3d5a55a5536"
   },
   "outputs": [],
   "source": [
    "# Drop the rows with US, one District of Columbia and State level data\n",
    "df_pop_16_19 = df_pop_16_19[df_pop_16_19.State != 'US']\n",
    "df_pop_16_19= df_pop_16_19[df_pop_16_19.State != 'PR']\n",
    "df_pop_16_19 = df_pop_16_19[~df_pop_16_19['Area_Name'].isin(states_low)].reset_index(drop=True)\n",
    "df_pop_16_19.head()"
   ]
  },
  {
   "cell_type": "code",
   "execution_count": null,
   "metadata": {
    "id": "fLnh_ps4Ywu5",
    "outputId": "386e4010-ab61-4c24-d659-294b5d78c707"
   },
   "outputs": [],
   "source": [
    "df_pop_16_19[df_pop_16_19[\"Area_Name\"]=='District of Columbia']"
   ]
  },
  {
   "cell_type": "code",
   "execution_count": null,
   "metadata": {
    "id": "ATs29ahUYwu6",
    "outputId": "ab2df81b-39b5-49ce-d272-b64a344bc029"
   },
   "outputs": [],
   "source": [
    "# Find and drop duplicate rows\n",
    "[row for row in df_pop_16_19.duplicated(keep='last') if row == True]"
   ]
  },
  {
   "cell_type": "markdown",
   "metadata": {
    "id": "iByzizIzYwu6"
   },
   "source": [
    "## 2.3 Verify Data"
   ]
  },
  {
   "cell_type": "code",
   "execution_count": null,
   "metadata": {
    "id": "ovb6aQaYYwu8",
    "outputId": "a5c65c18-c74e-4d8e-db61-2796b27b7d31"
   },
   "outputs": [],
   "source": [
    "df_pop_16_19.info()"
   ]
  },
  {
   "cell_type": "code",
   "execution_count": null,
   "metadata": {
    "id": "BOHHLSAGYwu8",
    "outputId": "6d8ca58f-1420-4022-d3a8-96b8c5470dd6"
   },
   "outputs": [],
   "source": [
    "print(\"There are \", len(df_pop_16_19['State'].unique()), \" states.\")\n",
    "df_pop_16_19.State.unique()   "
   ]
  },
  {
   "cell_type": "code",
   "execution_count": null,
   "metadata": {
    "id": "zeCO0uj9Ywu9",
    "outputId": "8650db7d-62f2-4233-db82-e3b245c04ab7"
   },
   "outputs": [],
   "source": [
    "print(\"There are \", len(all_states_pop_16_19['State'].unique()), \" states.\")\n",
    "all_states_pop_16_19.State.unique()   "
   ]
  },
  {
   "cell_type": "markdown",
   "metadata": {
    "id": "zxyLvmuqYwu9"
   },
   "source": [
    "This record contains 51 states which includes District of Columbia; Puerto Rico is excluded"
   ]
  },
  {
   "cell_type": "markdown",
   "metadata": {
    "id": "nK_c0-jNZRkR"
   },
   "source": [
    "# 3. Population Actual"
   ]
  },
  {
   "cell_type": "markdown",
   "metadata": {
    "id": "RZ5YOZJfYwu9"
   },
   "source": [
    "## 3.1 Read Population (2020)"
   ]
  },
  {
   "cell_type": "code",
   "execution_count": null,
   "metadata": {
    "id": "qb8oiKLOYwu-",
    "outputId": "4dfe538d-2ce1-4b3c-e873-ac32c0d104f1"
   },
   "outputs": [],
   "source": [
    "df_pop_20 = pd.read_csv('https://www.ers.usda.gov/webdocs/DataFiles/48747/PopulationEstimates.csv?v=390.6')\n",
    "df_pop_20.head(10)"
   ]
  },
  {
   "cell_type": "markdown",
   "metadata": {
    "id": "wN1XGg5LYwu-"
   },
   "source": [
    "## 3.2 Clean Columns"
   ]
  },
  {
   "cell_type": "code",
   "execution_count": null,
   "metadata": {
    "id": "yd8Y0NUQYwu-",
    "outputId": "9a416aa4-af98-49aa-999f-acbd5f1e2ab8"
   },
   "outputs": [],
   "source": [
    "# Identify the columns\n",
    "df_pop_20.columns"
   ]
  },
  {
   "cell_type": "code",
   "execution_count": null,
   "metadata": {
    "id": "aoWvJ11pYwu_",
    "outputId": "94489a2f-f735-4336-f0a1-5c5f593bb391"
   },
   "outputs": [],
   "source": [
    "# Identify the unique contents of Attribute\n",
    "df_pop_20['Attribute'].unique()"
   ]
  },
  {
   "cell_type": "code",
   "execution_count": null,
   "metadata": {
    "id": "juLa7mlZYwu_",
    "outputId": "91897a30-cbf8-4e90-a32c-ab8c777ea177"
   },
   "outputs": [],
   "source": [
    "# Before cleaning, the attribute column will only have Population 2000\n",
    "df_pop_20 = df_pop_20[df_pop_20.Attribute == 'Population 2020'].reset_index(drop=True)\n",
    "df_pop_20"
   ]
  },
  {
   "cell_type": "code",
   "execution_count": null,
   "metadata": {
    "id": "e8WYthe1YwvA"
   },
   "outputs": [],
   "source": [
    "# Keep FIPStxt, State, Area_name, and value. \n",
    "df_pop_20 = df_pop_20[['FIPStxt', 'State', 'Area name', 'Value']]"
   ]
  },
  {
   "cell_type": "code",
   "execution_count": null,
   "metadata": {
    "id": "azJ7VVFlYwvA",
    "outputId": "1a3f9c07-eaa0-4c7f-f44d-19e5cf71a0f2"
   },
   "outputs": [],
   "source": [
    "# Rename Value to Pop2020\n",
    "df_pop_20.rename(columns = {'Value': 'Pop_2020'}, inplace = True)\n",
    "df_pop_20.head(5)"
   ]
  },
  {
   "cell_type": "code",
   "execution_count": null,
   "metadata": {
    "id": "VmtTGYSoYwvB",
    "outputId": "acc5a8da-abb5-4bb2-8976-afb05ca8a4c1"
   },
   "outputs": [],
   "source": [
    "# US population for 2020 \n",
    "us_pop_20 = df_pop_20[df_pop_20.State == 'US']\n",
    "us_pop_20"
   ]
  },
  {
   "cell_type": "markdown",
   "metadata": {
    "id": "h9Sh2IqZYwvB"
   },
   "source": [
    "### 3.2a State Level"
   ]
  },
  {
   "cell_type": "code",
   "execution_count": null,
   "metadata": {
    "id": "uUqqXct6YwvC",
    "outputId": "7a96160f-7cd1-4e2c-b5ba-ef8960446ca3"
   },
   "outputs": [],
   "source": [
    "# Keep the all state population for 2020\n",
    "all_states_pop_20 = df_pop_20[df_pop_20['Area name'].isin(states_dc)]\n",
    "all_states_pop_20 = all_states_pop_20[all_states_pop_20.State != 'PR']\n",
    "print(len(all_states_pop_20))\n",
    "all_states_pop_20[all_states_pop_20['State']=='DC']"
   ]
  },
  {
   "cell_type": "markdown",
   "metadata": {
    "id": "xBi9lCNmYwvC"
   },
   "source": [
    "### 3.2b FIPS Level"
   ]
  },
  {
   "cell_type": "code",
   "execution_count": null,
   "metadata": {
    "id": "9IKJFQhSYwvD",
    "outputId": "e7de5cff-f9c1-4c0e-cb50-bb7edebe3630"
   },
   "outputs": [],
   "source": [
    "# Remove the United States, all state, Puerto Rico, and duplicates\n",
    "# Drop the rows with US, one District of Columbia and State level data\n",
    "df_pop_20 = df_pop_20[df_pop_20.State != 'US']\n",
    "df_pop_20 = df_pop_20[df_pop_20.State != 'PR']\n",
    "df_pop_20 = df_pop_20[~df_pop_20['Area name'].isin(states_low)].reset_index(drop=True)\n",
    "df_pop_20.head()"
   ]
  },
  {
   "cell_type": "code",
   "execution_count": null,
   "metadata": {
    "id": "lSwxbMuCYwvE",
    "outputId": "c0cdc3d2-47b1-4c00-a6bc-ea1fce43fd6c"
   },
   "outputs": [],
   "source": [
    "# Keep the all state population for 2020\n",
    "df_pop_20[df_pop_20['State']=='DC']"
   ]
  },
  {
   "cell_type": "code",
   "execution_count": null,
   "metadata": {
    "id": "-Bjy0qNeYwvE",
    "outputId": "6236437e-2541-4f0b-b456-3f277bf22461"
   },
   "outputs": [],
   "source": [
    "# Find and drop duplicate rows\n",
    "[row for row in all_states_pop_20.duplicated(keep='last') if row == True]"
   ]
  },
  {
   "cell_type": "code",
   "execution_count": null,
   "metadata": {
    "id": "lI7-R-15YwvF",
    "outputId": "6c6ae613-aff7-4543-9604-0257f7ed34a1"
   },
   "outputs": [],
   "source": [
    "# Find and drop duplicate rows\n",
    "[row for row in df_pop_20.duplicated(keep='last') if row == True]"
   ]
  },
  {
   "cell_type": "markdown",
   "metadata": {
    "id": "U4Ec6oCBYwvF"
   },
   "source": [
    "## 3.3 Verify Data"
   ]
  },
  {
   "cell_type": "code",
   "execution_count": null,
   "metadata": {
    "id": "BuDvYk6cYwvH",
    "outputId": "f976dc25-5e37-4e1e-ff97-afc0545b1231"
   },
   "outputs": [],
   "source": [
    "df_pop_20.info()   "
   ]
  },
  {
   "cell_type": "markdown",
   "metadata": {
    "id": "P-jK1qs4Zh0R"
   },
   "source": [
    "# 4. Merge Land Area, Population 2016 to 2019, Population 2020\n"
   ]
  },
  {
   "cell_type": "markdown",
   "metadata": {
    "id": "FQkmMFBOZxaD"
   },
   "source": [
    "## 4.1 Cleaned"
   ]
  },
  {
   "cell_type": "markdown",
   "metadata": {
    "id": "Y1TjoEniYwvI"
   },
   "source": [
    "### 4.1a States Level\n",
    "Compare all the dataset's states before joining to the dataframe"
   ]
  },
  {
   "cell_type": "code",
   "execution_count": null,
   "metadata": {
    "id": "EtSza0rjYwvJ",
    "outputId": "c10c2d3a-3707-46ef-8024-715225b5111a"
   },
   "outputs": [],
   "source": [
    "# Land area data's FIPS code\n",
    "print('This is the number of unique FIPS code in land area: ', len(all_state_land_area['FIPStxt'].unique()))"
   ]
  },
  {
   "cell_type": "code",
   "execution_count": null,
   "metadata": {
    "id": "ZAqPddBtYwvJ",
    "outputId": "3aebbb58-ce40-4d47-b08d-a3d0b5846a08"
   },
   "outputs": [],
   "source": [
    "# Population 2020 data's FIPS code\n",
    "print('This is the number of unique FIPS code in population 2020: ', len(all_states_pop_20['FIPStxt'].unique()))"
   ]
  },
  {
   "cell_type": "markdown",
   "metadata": {
    "id": "c2XMn6zhYwvK"
   },
   "source": [
    "### 4.1b FIPS Level\n",
    "Compare all the datasets FIPS cpde before joining to the dataframe"
   ]
  },
  {
   "cell_type": "code",
   "execution_count": null,
   "metadata": {
    "id": "fpgi8WQ6YwvK",
    "outputId": "391585dc-34f6-4414-ea80-59ae3bc79b18"
   },
   "outputs": [],
   "source": [
    "# Land area data's FIPS code\n",
    "print('This is the number of unique FIPS code in land area: ', len(df_land_area['FIPStxt'].unique()))"
   ]
  },
  {
   "cell_type": "code",
   "execution_count": null,
   "metadata": {
    "id": "PETwjqmdYwvK",
    "outputId": "504a20cd-b482-41fe-f17a-9c0632b5c7fc"
   },
   "outputs": [],
   "source": [
    "# Population 2016-2019 data's FIPS code\n",
    "print('This is the number of unique FIPS code in population 2016-2019: ', len(df_pop_16_19.FIPStxt.unique()))"
   ]
  },
  {
   "cell_type": "code",
   "execution_count": null,
   "metadata": {
    "id": "bSVFdw4fYwvL",
    "outputId": "a8c803a3-7956-44ab-e264-a8b87dde212c"
   },
   "outputs": [],
   "source": [
    "# Population 2020 data's FIPS code\n",
    "print('This is the number of unique FIPS code in population 2020: ', len(df_pop_20.FIPStxt.unique()))"
   ]
  },
  {
   "cell_type": "code",
   "execution_count": null,
   "metadata": {
    "id": "Fizo5mR4YwvM",
    "outputId": "aaf9caa9-dbc2-4712-ea2c-76c83701a45c"
   },
   "outputs": [],
   "source": [
    "# Check the value in the Population 2020 but not in Population 2016-2019\n",
    "missing_pop_16_19 = df_pop_20[~df_pop_20.FIPStxt.isin(df_pop_16_19.FIPStxt.values)]\n",
    "missing_pop_16_19"
   ]
  },
  {
   "cell_type": "code",
   "execution_count": null,
   "metadata": {
    "id": "Npq8qXNDYwvN",
    "outputId": "2ea86d18-83c7-48ac-e73c-fd4ca91ea61c"
   },
   "outputs": [],
   "source": [
    "# Check the value in the Population 2016-2019 but not in land area\n",
    "missing_pop_16_19_land = df_pop_16_19[~df_pop_16_19.FIPStxt.isin(df_land_area.FIPStxt.values)]\n",
    "missing_pop_16_19_land"
   ]
  },
  {
   "cell_type": "code",
   "execution_count": null,
   "metadata": {
    "id": "5A1PmYVJYwvN",
    "outputId": "adc4b2a6-d1ac-48a1-9304-f0ce1f5cf48e"
   },
   "outputs": [],
   "source": [
    "# Check the value in the land but not in Population 2020\n",
    "missing_land_pop_20 = df_land_area[~df_land_area.FIPStxt.isin(df_pop_20.FIPStxt.values)]\n",
    "missing_land_pop_20"
   ]
  },
  {
   "cell_type": "code",
   "execution_count": null,
   "metadata": {
    "id": "E5Du4V4wYwvO",
    "outputId": "7ea9a5bb-6b4c-4eb1-ddfb-a17786c41f35"
   },
   "outputs": [],
   "source": [
    "# Check the value in the Population 2016-2019 but not in land area\n",
    "missing_pop_20_land = df_pop_20[~df_pop_20.FIPStxt.isin(df_land_area.FIPStxt.values)]\n",
    "missing_pop_20_land"
   ]
  },
  {
   "cell_type": "code",
   "execution_count": null,
   "metadata": {
    "id": "j6rwqzG_YwvO",
    "outputId": "780eb531-f2e7-40b9-d605-0af764309da9"
   },
   "outputs": [],
   "source": [
    "# Check the value in the land but not in Population 2020\n",
    "missing_land_pop_16_19 = df_land_area[~df_land_area.FIPStxt.isin(df_pop_16_19.FIPStxt.values)]\n",
    "missing_land_pop_16_19"
   ]
  },
  {
   "cell_type": "markdown",
   "metadata": {
    "id": "1Ykz7yMSYwvP"
   },
   "source": [
    "Based on the records, the results doesn't have land, incomplete population, nor non-county (area).\n",
    "## 4.2 Merge Dataframes\n",
    "The technique used for merging of three dataframe was suggested by cwharland and can be found in https://stackoverflow.com/questions/23668427/pandas-three-way-joining-multiple-dataframes-on-columns"
   ]
  },
  {
   "cell_type": "markdown",
   "metadata": {
    "id": "mtr96p9iYwvP"
   },
   "source": [
    "### 4.2a State Level"
   ]
  },
  {
   "cell_type": "code",
   "execution_count": null,
   "metadata": {
    "id": "7TAMPJ-vYwvP",
    "outputId": "d28718c9-5eea-4837-e0c5-be10663fbe96"
   },
   "outputs": [],
   "source": [
    "all_state_df = all_state_land_area.merge(all_states_pop_20, how='inner', left_on='FIPStxt', right_on='FIPStxt').drop(['Areaname', 'Area name'], axis=1)\n",
    "len(all_state_df)"
   ]
  },
  {
   "cell_type": "code",
   "execution_count": null,
   "metadata": {
    "id": "vNiPCnNaYwvQ",
    "outputId": "d9a3728e-b33b-4cea-f9cf-08eb714c1139"
   },
   "outputs": [],
   "source": [
    "all_state_df.columns"
   ]
  },
  {
   "cell_type": "code",
   "execution_count": null,
   "metadata": {
    "id": "F-Ak8mFGYwvQ"
   },
   "outputs": [],
   "source": [
    "# Rename and reindex columns\n",
    "all_state_df = all_state_df.rename(columns = {'FIPStxt': 'FIPS', 'State':'state',\n",
    "                                              'LND110210D': 'land_area', 'Pop_2020':'pop_2020'})"
   ]
  },
  {
   "cell_type": "code",
   "execution_count": null,
   "metadata": {
    "id": "l0d5luQTYwvR",
    "outputId": "59144003-d1ef-447a-b7d0-64064d1126fa"
   },
   "outputs": [],
   "source": [
    "# Reindex\n",
    "all_state_df = all_state_df.reindex(columns=['FIPS', 'state','land_area', 'pop_2020'])\n",
    "all_state_df.sample(5)"
   ]
  },
  {
   "cell_type": "markdown",
   "metadata": {
    "id": "cgStt_iYYwvR"
   },
   "source": [
    "### 4.2b FIPS Level"
   ]
  },
  {
   "cell_type": "code",
   "execution_count": null,
   "metadata": {
    "id": "tMXeUj9IYwvS",
    "outputId": "ccb81881-c1e0-42ef-ba1b-3c09c1fc65e7"
   },
   "outputs": [],
   "source": [
    "df = df_pop_20.merge(df_pop_16_19, on='FIPStxt').merge(df_land_area, on='FIPStxt').drop(['State_x', 'Area_Name', 'Areaname'], axis=1)\n",
    "df"
   ]
  },
  {
   "cell_type": "code",
   "execution_count": null,
   "metadata": {
    "id": "V4euabU3YwvS",
    "outputId": "91e0d3a6-5d4f-4ae1-f10a-d794cc6aeec4"
   },
   "outputs": [],
   "source": [
    "df.shape"
   ]
  },
  {
   "cell_type": "code",
   "execution_count": null,
   "metadata": {
    "id": "qXivTL3YYwvT",
    "outputId": "82e087f8-232c-4122-c7bc-7497dccc745d"
   },
   "outputs": [],
   "source": [
    "df.columns"
   ]
  },
  {
   "cell_type": "code",
   "execution_count": null,
   "metadata": {
    "id": "7dh14D6lYwvT"
   },
   "outputs": [],
   "source": [
    "# Rename all the columns\n",
    "df.rename(columns = {'FIPStxt': 'FIPS', 'Area name': 'county', \"State_y\": 'state',\n",
    "                     'POP_ESTIMATE_2016':'pop_2016', 'POP_ESTIMATE_2017':'pop_2017',\n",
    "                     'POP_ESTIMATE_2018': 'pop_2018', 'POP_ESTIMATE_2019': 'pop_2019',\n",
    "                     'Pop_2020':'pop_2020', 'LND110210D': 'land_area'}, inplace= True)"
   ]
  },
  {
   "cell_type": "code",
   "execution_count": null,
   "metadata": {
    "id": "w_zljw-cYwvT",
    "outputId": "d96c9608-bd71-44c3-f6b4-f985cc3333a0",
    "scrolled": false
   },
   "outputs": [],
   "source": [
    "# Reindex all the columns\n",
    "df = df.reindex(columns= ['FIPS', 'county', 'state', 'land_area', 'pop_2016', 'pop_2017', \n",
    "                     'pop_2018', 'pop_2019', 'pop_2020'])\n",
    "df.head(5)"
   ]
  },
  {
   "cell_type": "markdown",
   "metadata": {
    "id": "5mKZRZFMYwvU"
   },
   "source": [
    "## 4.3 Save Population and Land Data to CSV"
   ]
  },
  {
   "cell_type": "code",
   "execution_count": null,
   "metadata": {
    "id": "jhUDostnYwvU"
   },
   "outputs": [],
   "source": [
    "df.to_csv('Pop_Land.csv', index=False)"
   ]
  },
  {
   "cell_type": "code",
   "execution_count": null,
   "metadata": {
    "id": "dkh-xc0UYwvV"
   },
   "outputs": [],
   "source": [
    "all_state_df.to_csv('State_Pop_Land.csv', index=False)"
   ]
  },
  {
   "cell_type": "markdown",
   "metadata": {
    "id": "4F1mNrHAYwvV"
   },
   "source": [
    "# 5. Real Estate Inventory\n"
   ]
  },
  {
   "cell_type": "markdown",
   "metadata": {
    "id": "7Lumk5l8aM94"
   },
   "source": [
    "## 5.1 Read Real Estate Dataset"
   ]
  },
  {
   "cell_type": "code",
   "execution_count": null,
   "metadata": {
    "id": "RC-1DPiYYwvW",
    "outputId": "efa7a897-8b2a-4444-852d-d75f85a05ced"
   },
   "outputs": [],
   "source": [
    "df_RE = pd.read_csv('https://econdata.s3-us-west-2.amazonaws.com/Reports/Core/RDC_Inventory_Core_Metrics_County_History.csv')\n",
    "df_RE.tail(5)"
   ]
  },
  {
   "cell_type": "code",
   "execution_count": null,
   "metadata": {
    "id": "xh31zTfqYwvX"
   },
   "outputs": [],
   "source": [
    "# The last row is a note and was dropped\n",
    "df_RE.drop(df_RE.tail(1).index, inplace=True)"
   ]
  },
  {
   "cell_type": "code",
   "execution_count": null,
   "metadata": {
    "id": "fGAE4uaIYwvX",
    "outputId": "d61480e5-785c-4209-c4c3-ecfa522639c7"
   },
   "outputs": [],
   "source": [
    "df_RE.info()"
   ]
  },
  {
   "cell_type": "markdown",
   "metadata": {
    "id": "_fPs_bAEYwvY"
   },
   "source": [
    "## 5.2 Format DateTime"
   ]
  },
  {
   "cell_type": "code",
   "execution_count": null,
   "metadata": {
    "id": "aW6seFN3YwvZ"
   },
   "outputs": [],
   "source": [
    "# The dates needs to be formatted to month, dates, and years.\n",
    "change = {'month_date_yyyymm': int} \n",
    "df_RE = df_RE.astype(change)"
   ]
  },
  {
   "cell_type": "code",
   "execution_count": null,
   "metadata": {
    "id": "v6vO3s5UYwvc",
    "outputId": "567d9177-ce89-4db1-e4ac-e6e67636095a"
   },
   "outputs": [],
   "source": [
    "df_RE.info()"
   ]
  },
  {
   "cell_type": "code",
   "execution_count": null,
   "metadata": {
    "id": "gDQT5CYLYwvc",
    "outputId": "7eb2ff16-ff2f-4cc4-c796-19ded0fcd04d"
   },
   "outputs": [],
   "source": [
    "# Formatting to Date column\n",
    "df_RE['month_date_yyyymm'] = pd.to_datetime(df_RE['month_date_yyyymm'], format = '%Y%m')\n",
    "df_RE.rename(columns={'month_date_yyyymm':'date'}, inplace = True)\n",
    "df_RE.sample(5)"
   ]
  },
  {
   "cell_type": "code",
   "execution_count": null,
   "metadata": {
    "id": "Vtcn3O1kYwvd",
    "outputId": "554b3ef9-933c-453f-8375-40d6272bbf9e"
   },
   "outputs": [],
   "source": [
    "# Extracting the Year and Month from the date\n",
    "df_RE['month']= df_RE['date'].dt.month\n",
    "df_RE['year']= df_RE['date'].dt.year\n",
    "df_RE.sample(5)"
   ]
  },
  {
   "cell_type": "markdown",
   "metadata": {
    "id": "NAgLiLhMYwvd"
   },
   "source": [
    "## 5.3 Rename Columns"
   ]
  },
  {
   "cell_type": "code",
   "execution_count": null,
   "metadata": {
    "id": "P9MawZkuYwvf"
   },
   "outputs": [],
   "source": [
    "# The county fips needs to fill 5 codes and change object to string\n",
    "df_RE.rename(columns={'county_fips': 'FIPS'}, inplace=True)\n",
    "df_RE['FIPS'] = df_RE['FIPS'].astype('str')\n",
    "df_RE['FIPS'] = df_RE['FIPS'].apply(lambda x: x.zfill(5))"
   ]
  },
  {
   "cell_type": "code",
   "execution_count": null,
   "metadata": {
    "id": "AP6P_KRaYwvf",
    "outputId": "8a648708-5db2-4497-c9f8-e8adce51794b"
   },
   "outputs": [],
   "source": [
    "# The county name needs to be separated.\n",
    "# County should be title case. State should be all caps\n",
    "df_RE[['county', 'state']] = df_RE.county_name.str.split(',', expand=True)\n",
    "df_RE['state']= df_RE['state'].str.lstrip().str.upper()\n",
    "df_RE['county']= df_RE['county'].str.title()\n",
    "df_RE.sample(5)"
   ]
  },
  {
   "cell_type": "code",
   "execution_count": null,
   "metadata": {
    "id": "cKDuVsZ5Ywvf",
    "outputId": "99f3ab3b-26b9-4cd7-c6ad-3c9652fae878"
   },
   "outputs": [],
   "source": [
    "df_RE.info()"
   ]
  },
  {
   "cell_type": "markdown",
   "metadata": {
    "id": "uckVla6WYwvg"
   },
   "source": [
    "## 5.4 Sort Columns"
   ]
  },
  {
   "cell_type": "code",
   "execution_count": null,
   "metadata": {
    "id": "a645LNxuYwvg",
    "outputId": "f2d9d2d1-be71-4b09-bbe8-871ba9ab4b18"
   },
   "outputs": [],
   "source": [
    "# Sorting records by State, County, and Date in ascending order\n",
    "df_RE = df_RE.sort_values(by = ['state', 'county', 'date'], ascending = (True, True, True)).reset_index(drop = True)\n",
    "df_RE.head(5)"
   ]
  },
  {
   "cell_type": "markdown",
   "metadata": {
    "id": "P1SHvxkgYwvh"
   },
   "source": [
    "# 6. Save Real Estate to CSV"
   ]
  },
  {
   "cell_type": "code",
   "execution_count": null,
   "metadata": {
    "id": "x_5ThcYWYwvi"
   },
   "outputs": [],
   "source": [
    "df_RE.to_csv('Real_Estate.csv', index=False)"
   ]
  },
  {
   "cell_type": "code",
   "execution_count": null,
   "metadata": {
    "id": "fkvlyIJgYwvj"
   },
   "outputs": [],
   "source": []
  }
 ],
 "metadata": {
  "colab": {
   "name": "101 Population, Land Area, and Real Estate .ipynb",
   "provenance": []
  },
  "kernelspec": {
   "display_name": "Python 3",
   "language": "python",
   "name": "python3"
  },
  "language_info": {
   "codemirror_mode": {
    "name": "ipython",
    "version": 3
   },
   "file_extension": ".py",
   "mimetype": "text/x-python",
   "name": "python",
   "nbconvert_exporter": "python",
   "pygments_lexer": "ipython3",
   "version": "3.8.5"
  }
 },
 "nbformat": 4,
 "nbformat_minor": 1
}
