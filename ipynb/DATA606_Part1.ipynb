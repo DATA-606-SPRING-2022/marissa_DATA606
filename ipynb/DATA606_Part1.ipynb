{
  "nbformat": 4,
  "nbformat_minor": 0,
  "metadata": {
    "colab": {
      "name": "DATA606_Part1.ipynb",
      "provenance": [],
      "authorship_tag": "ABX9TyOMiAyJIxr1MRUhUHeZMuQ0",
      "include_colab_link": true
    },
    "kernelspec": {
      "name": "python3",
      "display_name": "Python 3"
    },
    "language_info": {
      "name": "python"
    }
  },
  "cells": [
    {
      "cell_type": "markdown",
      "metadata": {
        "id": "view-in-github",
        "colab_type": "text"
      },
      "source": [
        "<a href=\"https://colab.research.google.com/github/tmarissa/marissa_DATA606/blob/main/ipynb/DATA606_Part1.ipynb\" target=\"_parent\"><img src=\"https://colab.research.google.com/assets/colab-badge.svg\" alt=\"Open In Colab\"/></a>"
      ]
    },
    {
      "cell_type": "markdown",
      "source": [
        ""
      ],
      "metadata": {
        "id": "1buX69tNcjxa"
      }
    },
    {
      "cell_type": "markdown",
      "source": [
        ""
      ],
      "metadata": {
        "id": "bSNUD-92cmho"
      }
    },
    {
      "cell_type": "markdown",
      "source": [
        "# DATA 606\n",
        "## Author Marissa Tan"
      ],
      "metadata": {
        "id": "Ss86IQcecmkB"
      }
    },
    {
      "cell_type": "code",
      "execution_count": null,
      "metadata": {
        "id": "tlNXeD2gb84K"
      },
      "outputs": [],
      "source": [
        ""
      ]
    },
    {
      "cell_type": "markdown",
      "source": [
        ""
      ],
      "metadata": {
        "id": "quNTEP1FcgJf"
      }
    },
    {
      "cell_type": "markdown",
      "source": [
        ""
      ],
      "metadata": {
        "id": "EghhaucGcgNn"
      }
    }
  ]
}