{
  "nbformat": 4,
  "nbformat_minor": 0,
  "metadata": {
    "colab": {
      "name": "DATA606_Part2.ipynb",
      "provenance": [],
      "authorship_tag": "ABX9TyMtHK1HkqJL++zfKuHKkiw1",
      "include_colab_link": true
    },
    "kernelspec": {
      "name": "python3",
      "display_name": "Python 3"
    },
    "language_info": {
      "name": "python"
    }
  },
  "cells": [
    {
      "cell_type": "markdown",
      "metadata": {
        "id": "view-in-github",
        "colab_type": "text"
      },
      "source": [
        "<a href=\"https://colab.research.google.com/github/tmarissa/marissa_DATA606/blob/main/ipynb/DATA606_Part2.ipynb\" target=\"_parent\"><img src=\"https://colab.research.google.com/assets/colab-badge.svg\" alt=\"Open In Colab\"/></a>"
      ]
    },
    {
      "cell_type": "markdown",
      "source": [
        "# This is part 2"
      ],
      "metadata": {
        "id": "CQjKoZbEB2Io"
      }
    },
    {
      "cell_type": "code",
      "execution_count": null,
      "metadata": {
        "id": "QbVofcG-BvBa"
      },
      "outputs": [],
      "source": [
        ""
      ]
    }
  ]
}